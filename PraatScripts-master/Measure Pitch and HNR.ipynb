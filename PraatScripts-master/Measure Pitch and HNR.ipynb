{
 "cells": [
  {
   "cell_type": "code",
   "execution_count": 5,
   "metadata": {},
   "outputs": [],
   "source": [
    "#Measure pitch of all wav files in directory\n",
    "import glob\n",
    "import numpy as np\n",
    "import pandas as pd\n",
    "import parselmouth\n",
    "from parselmouth.praat import call"
   ]
  },
  {
   "cell_type": "code",
   "execution_count": 6,
   "metadata": {},
   "outputs": [],
   "source": [
    "# This is the function to measure voice pitch\n",
    "def measurePitch(voiceID, f0min, f0max, unit):\n",
    "    sound = parselmouth.Sound(voiceID) # read the sound\n",
    "    pitch = call(sound, \"To Pitch\", 0.0, f0min, f0max) #create a praat pitch object\n",
    "    meanF0 = call(pitch, \"Get mean\", 0, 0, unit) # get mean pitch\n",
    "    stdevF0 = call(pitch, \"Get standard deviation\", 0 ,0, unit) # get standard deviation\n",
    "    harmonicity = call(sound, \"To Harmonicity (cc)\", 0.01, 75, 0.1, 1.0)\n",
    "    hnr = call(harmonicity, \"Get mean\", 0, 0)\n",
    "    return meanF0, stdevF0, hnr"
   ]
  },
  {
   "cell_type": "code",
   "execution_count": 7,
   "metadata": {},
   "outputs": [
    {
     "name": "stdout",
     "output_type": "stream",
     "text": [
      " Datentr„ger in Laufwerk C: ist Acer\n",
      " Volumeseriennummer: BC07-5B18\n",
      "\n",
      " Verzeichnis von C:\\Users\\User\\S_sprechstile_eigene\\Wegner\n",
      "\n",
      "18.05.2021  15:04    <DIR>          .\n",
      "18.05.2021  15:04    <DIR>          ..\n",
      "06.05.2021  13:28                68 Wegner_16_seg_00000000.txt\n",
      "27.04.2021  15:23           214.124 Wegner_16_seg_00000000.wav\n",
      "06.05.2021  13:28                68 Wegner_16_seg_00000001.txt\n",
      "27.04.2021  15:23            57.004 Wegner_16_seg_00000001.wav\n",
      "06.05.2021  13:28                68 Wegner_16_seg_00000002.txt\n",
      "27.04.2021  15:23            93.484 Wegner_16_seg_00000002.wav\n",
      "06.05.2021  13:28                68 Wegner_16_seg_00000003.txt\n",
      "27.04.2021  15:23           196.204 Wegner_16_seg_00000003.wav\n",
      "06.05.2021  13:28                68 Wegner_16_seg_00000004.txt\n",
      "27.04.2021  15:23           140.204 Wegner_16_seg_00000004.wav\n",
      "06.05.2021  13:28                68 Wegner_16_seg_00000005.txt\n",
      "27.04.2021  15:23           119.084 Wegner_16_seg_00000005.wav\n",
      "06.05.2021  13:29                68 Wegner_16_seg_00000006.txt\n",
      "27.04.2021  15:23            78.764 Wegner_16_seg_00000006.wav\n",
      "06.05.2021  13:29                68 Wegner_16_seg_00000007.txt\n",
      "27.04.2021  15:23           121.004 Wegner_16_seg_00000007.wav\n",
      "06.05.2021  13:29                68 Wegner_16_seg_00000008.txt\n",
      "27.04.2021  15:23           127.404 Wegner_16_seg_00000008.wav\n",
      "06.05.2021  13:29                68 Wegner_16_seg_00000009.txt\n",
      "27.04.2021  15:23            86.444 Wegner_16_seg_00000009.wav\n",
      "06.05.2021  13:29                68 Wegner_16_seg_00000010.txt\n",
      "27.04.2021  15:23           135.084 Wegner_16_seg_00000010.wav\n",
      "06.05.2021  13:29                68 Wegner_16_seg_00000011.txt\n",
      "27.04.2021  15:23           221.804 Wegner_16_seg_00000011.wav\n",
      "06.05.2021  13:29                68 Wegner_16_seg_00000012.txt\n",
      "27.04.2021  15:23           222.764 Wegner_16_seg_00000012.wav\n",
      "06.05.2021  13:29                68 Wegner_16_seg_00000013.txt\n",
      "27.04.2021  15:23            39.724 Wegner_16_seg_00000013.wav\n",
      "06.05.2021  13:29                68 Wegner_16_seg_00000014.txt\n",
      "27.04.2021  15:23           183.084 Wegner_16_seg_00000014.wav\n",
      "06.05.2021  13:29                68 Wegner_16_seg_00000015.txt\n",
      "27.04.2021  15:23           222.764 Wegner_16_seg_00000015.wav\n",
      "06.05.2021  13:30                68 Wegner_16_seg_00000016.txt\n",
      "27.04.2021  15:23            55.084 Wegner_16_seg_00000016.wav\n",
      "06.05.2021  13:30                68 Wegner_16_seg_00000017.txt\n",
      "27.04.2021  15:23            48.044 Wegner_16_seg_00000017.wav\n",
      "06.05.2021  13:30                68 Wegner_16_seg_00000018.txt\n",
      "27.04.2021  15:23           201.324 Wegner_16_seg_00000018.wav\n",
      "06.05.2021  13:30                68 Wegner_16_seg_00000019.txt\n",
      "27.04.2021  15:23            35.884 Wegner_16_seg_00000019.wav\n",
      "06.05.2021  13:30                68 Wegner_16_seg_00000020.txt\n",
      "27.04.2021  15:23           222.764 Wegner_16_seg_00000020.wav\n",
      "06.05.2021  13:30                68 Wegner_16_seg_00000021.txt\n",
      "27.04.2021  15:23           120.364 Wegner_16_seg_00000021.wav\n",
      "06.05.2021  13:30                68 Wegner_16_seg_00000022.txt\n",
      "27.04.2021  15:23            93.484 Wegner_16_seg_00000022.wav\n",
      "06.05.2021  13:30                68 Wegner_16_seg_00000023.txt\n",
      "27.04.2021  15:23           209.644 Wegner_16_seg_00000023.wav\n",
      "06.05.2021  13:30                68 Wegner_16_seg_00000024.txt\n",
      "27.04.2021  15:23            69.804 Wegner_16_seg_00000024.wav\n",
      "06.05.2021  13:30                68 Wegner_16_seg_00000025.txt\n",
      "27.04.2021  15:23           160.044 Wegner_16_seg_00000025.wav\n",
      "06.05.2021  13:30                68 Wegner_16_seg_00000026.txt\n",
      "27.04.2021  15:23           216.044 Wegner_16_seg_00000026.wav\n",
      "06.05.2021  13:31                68 Wegner_16_seg_00000027.txt\n",
      "27.04.2021  15:23           170.284 Wegner_16_seg_00000027.wav\n",
      "06.05.2021  13:31                68 Wegner_16_seg_00000028.txt\n",
      "27.04.2021  15:23           214.764 Wegner_16_seg_00000028.wav\n",
      "06.05.2021  13:31                68 Wegner_16_seg_00000029.txt\n",
      "27.04.2021  15:23           191.724 Wegner_16_seg_00000029.wav\n",
      "06.05.2021  13:31                68 Wegner_16_seg_00000030.txt\n",
      "27.04.2021  15:23           191.084 Wegner_16_seg_00000030.wav\n",
      "06.05.2021  13:31                68 Wegner_16_seg_00000031.txt\n",
      "27.04.2021  15:23           222.764 Wegner_16_seg_00000031.wav\n",
      "06.05.2021  13:31                68 Wegner_16_seg_00000032.txt\n",
      "27.04.2021  15:23            37.804 Wegner_16_seg_00000032.wav\n",
      "06.05.2021  13:31                68 Wegner_16_seg_00000033.txt\n",
      "27.04.2021  15:23           156.844 Wegner_16_seg_00000033.wav\n",
      "06.05.2021  13:31                68 Wegner_16_seg_00000034.txt\n",
      "27.04.2021  15:23            32.044 Wegner_16_seg_00000034.wav\n",
      "06.05.2021  13:31                68 Wegner_16_seg_00000035.txt\n",
      "27.04.2021  15:23           203.884 Wegner_16_seg_00000035.wav\n",
      "06.05.2021  13:31                68 Wegner_16_seg_00000036.txt\n",
      "27.04.2021  15:23           222.764 Wegner_16_seg_00000036.wav\n",
      "06.05.2021  13:32                68 Wegner_16_seg_00000037.txt\n",
      "27.04.2021  15:23           117.164 Wegner_16_seg_00000037.wav\n",
      "06.05.2021  13:32                68 Wegner_16_seg_00000038.txt\n",
      "27.04.2021  15:23           142.764 Wegner_16_seg_00000038.wav\n",
      "06.05.2021  13:32                68 Wegner_16_seg_00000039.txt\n",
      "27.04.2021  15:23           202.604 Wegner_16_seg_00000039.wav\n",
      "06.05.2021  13:32                68 Wegner_16_seg_00000040.txt\n",
      "27.04.2021  15:23           156.844 Wegner_16_seg_00000040.wav\n",
      "              82 Datei(en),      5.957.552 Bytes\n",
      "               2 Verzeichnis(se), 920.709.095.424 Bytes frei\n"
     ]
    }
   ],
   "source": [
    "! dir \"\\Users\\User\\S_sprechstile_eigene\\Wegner\"\n",
    "# zeigt wo die Segmente sind, also den Pfad\n",
    "# in den Ordner darüber gehen weil dort die Dateien liegen\n",
    "# als Kontrolle sind da die Segmente"
   ]
  },
  {
   "cell_type": "code",
   "execution_count": 8,
   "metadata": {},
   "outputs": [],
   "source": [
    "sample_path = \"../Wegner/\"\n",
    "#nicht relevant\n",
    "# .. ist Abkürzung für Elternverzeichnis\n",
    "#. ist für das aktuelle Verzeichnis"
   ]
  },
  {
   "cell_type": "code",
   "execution_count": 9,
   "metadata": {},
   "outputs": [
    {
     "data": {
      "text/plain": [
       "1"
      ]
     },
     "execution_count": 9,
     "metadata": {},
     "output_type": "execute_result"
    }
   ],
   "source": [
    "import os\n",
    "dir = os.system('ls{}'.format(sample_path))\n",
    "dir\n",
    "#ist nicht wichtig"
   ]
  },
  {
   "cell_type": "code",
   "execution_count": 10,
   "metadata": {},
   "outputs": [
    {
     "data": {
      "text/plain": [
       "<os._wrap_close at 0x1c56adc84f0>"
      ]
     },
     "execution_count": 10,
     "metadata": {},
     "output_type": "execute_result"
    }
   ],
   "source": [
    "os.popen(\"ls\")\n",
    "#ist nicht wichtig"
   ]
  },
  {
   "cell_type": "code",
   "execution_count": 12,
   "metadata": {},
   "outputs": [],
   "source": [
    "# create lists to put the results\n",
    "file_list = []\n",
    "mean_F0_list = []\n",
    "sd_F0_list = []\n",
    "hnr_list = []\n",
    "\n",
    "# Go through all the wave files in the folder and measure pitch\n",
    "for wave_file in glob.glob(sample_path+ \"../Wegner/*.wav\"):\n",
    "    #print(f'processing {os.path.basename.wave_file}')\n",
    "    sound = parselmouth.Sound(wave_file)\n",
    "    (meanF0, stdevF0, hnr) = measurePitch(sound, 75, 500, \"Hertz\")\n",
    "    file_list.append(wave_file) # make an ID list\n",
    "    mean_F0_list.append(meanF0) # make a mean F0 list\n",
    "    sd_F0_list.append(stdevF0) # make a sd F0 list\n",
    "    hnr_list.append(hnr)\n",
    "\n",
    "df = pd.DataFrame(np.column_stack([file_list, mean_F0_list, sd_F0_list, hnr_list]), \n",
    "                               columns=['voiceID', 'meanF0Hz', 'stdevF0Hz', 'HNR'])  #add these lists to pandas in the right order\n",
    "\n",
    "\n",
    "\n",
    "# Write out the updated dataframe\n",
    "df.to_csv(\"processed_results.csv\", index=False)"
   ]
  },
  {
   "cell_type": "code",
   "execution_count": 13,
   "metadata": {},
   "outputs": [
    {
     "data": {
      "text/html": [
       "<div>\n",
       "<style scoped>\n",
       "    .dataframe tbody tr th:only-of-type {\n",
       "        vertical-align: middle;\n",
       "    }\n",
       "\n",
       "    .dataframe tbody tr th {\n",
       "        vertical-align: top;\n",
       "    }\n",
       "\n",
       "    .dataframe thead th {\n",
       "        text-align: right;\n",
       "    }\n",
       "</style>\n",
       "<table border=\"1\" class=\"dataframe\">\n",
       "  <thead>\n",
       "    <tr style=\"text-align: right;\">\n",
       "      <th></th>\n",
       "      <th>voiceID</th>\n",
       "      <th>meanF0Hz</th>\n",
       "      <th>stdevF0Hz</th>\n",
       "      <th>HNR</th>\n",
       "    </tr>\n",
       "  </thead>\n",
       "  <tbody>\n",
       "    <tr>\n",
       "      <th>0</th>\n",
       "      <td>../Wegner/../Wegner\\Wegner_16_seg_00000000.wav</td>\n",
       "      <td>216.6457657532109</td>\n",
       "      <td>40.31293341884199</td>\n",
       "      <td>12.388043180954861</td>\n",
       "    </tr>\n",
       "    <tr>\n",
       "      <th>1</th>\n",
       "      <td>../Wegner/../Wegner\\Wegner_16_seg_00000001.wav</td>\n",
       "      <td>219.36542836968232</td>\n",
       "      <td>32.64501757346065</td>\n",
       "      <td>16.261678136449415</td>\n",
       "    </tr>\n",
       "    <tr>\n",
       "      <th>2</th>\n",
       "      <td>../Wegner/../Wegner\\Wegner_16_seg_00000002.wav</td>\n",
       "      <td>248.55446333074877</td>\n",
       "      <td>45.63510529682233</td>\n",
       "      <td>19.494601402674427</td>\n",
       "    </tr>\n",
       "    <tr>\n",
       "      <th>3</th>\n",
       "      <td>../Wegner/../Wegner\\Wegner_16_seg_00000003.wav</td>\n",
       "      <td>205.0891849345778</td>\n",
       "      <td>37.16373257038798</td>\n",
       "      <td>12.098336405604732</td>\n",
       "    </tr>\n",
       "  </tbody>\n",
       "</table>\n",
       "</div>"
      ],
      "text/plain": [
       "                                          voiceID            meanF0Hz  \\\n",
       "0  ../Wegner/../Wegner\\Wegner_16_seg_00000000.wav   216.6457657532109   \n",
       "1  ../Wegner/../Wegner\\Wegner_16_seg_00000001.wav  219.36542836968232   \n",
       "2  ../Wegner/../Wegner\\Wegner_16_seg_00000002.wav  248.55446333074877   \n",
       "3  ../Wegner/../Wegner\\Wegner_16_seg_00000003.wav   205.0891849345778   \n",
       "\n",
       "           stdevF0Hz                 HNR  \n",
       "0  40.31293341884199  12.388043180954861  \n",
       "1  32.64501757346065  16.261678136449415  \n",
       "2  45.63510529682233  19.494601402674427  \n",
       "3  37.16373257038798  12.098336405604732  "
      ]
     },
     "execution_count": 13,
     "metadata": {},
     "output_type": "execute_result"
    }
   ],
   "source": [
    "df.head (4)\n",
    "# Voice id ausgegeben und 3 berechnete Werte"
   ]
  },
  {
   "cell_type": "code",
   "execution_count": 14,
   "metadata": {},
   "outputs": [],
   "source": [
    "df_out= df[['voiceID', 'meanF0Hz']]\n",
    "#datenframe erzeugt mit 2 Spalten\n",
    "# nur datenframe mit mittlerer Grundfrequenz"
   ]
  },
  {
   "cell_type": "code",
   "execution_count": 15,
   "metadata": {},
   "outputs": [
    {
     "data": {
      "text/html": [
       "<div>\n",
       "<style scoped>\n",
       "    .dataframe tbody tr th:only-of-type {\n",
       "        vertical-align: middle;\n",
       "    }\n",
       "\n",
       "    .dataframe tbody tr th {\n",
       "        vertical-align: top;\n",
       "    }\n",
       "\n",
       "    .dataframe thead th {\n",
       "        text-align: right;\n",
       "    }\n",
       "</style>\n",
       "<table border=\"1\" class=\"dataframe\">\n",
       "  <thead>\n",
       "    <tr style=\"text-align: right;\">\n",
       "      <th></th>\n",
       "      <th>voiceID</th>\n",
       "      <th>meanF0Hz</th>\n",
       "    </tr>\n",
       "  </thead>\n",
       "  <tbody>\n",
       "    <tr>\n",
       "      <th>0</th>\n",
       "      <td>../Wegner/../Wegner\\Wegner_16_seg_00000000.wav</td>\n",
       "      <td>216.6457657532109</td>\n",
       "    </tr>\n",
       "  </tbody>\n",
       "</table>\n",
       "</div>"
      ],
      "text/plain": [
       "                                          voiceID           meanF0Hz\n",
       "0  ../Wegner/../Wegner\\Wegner_16_seg_00000000.wav  216.6457657532109"
      ]
     },
     "execution_count": 15,
     "metadata": {},
     "output_type": "execute_result"
    }
   ],
   "source": [
    "df_out.head(1)"
   ]
  },
  {
   "cell_type": "code",
   "execution_count": 16,
   "metadata": {},
   "outputs": [],
   "source": [
    "df_out.to_pickle('../f0df.pkl')\n",
    "# pickle ist sowas wo man was einpackt zum transport\n",
    "# damit man ihm in einem anderen DAtenframe nutzen kann"
   ]
  },
  {
   "cell_type": "code",
   "execution_count": 18,
   "metadata": {},
   "outputs": [
    {
     "data": {
      "image/png": "[encoded data removed]",
      "text/plain": [
       "<Figure size 432x288 with 1 Axes>"
      ]
     },
     "metadata": {},
     "output_type": "display_data"
    }
   ],
   "source": [
    "import seaborn as sns\n",
    "sns.set_theme(style=\"whitegrid\")\n",
    "ax = sns.violinplot(data=df[\"meanF0Hz\"], orient='h')"
   ]
  },
  {
   "cell_type": "code",
   "execution_count": null,
   "metadata": {},
   "outputs": [],
   "source": []
  },
  {
   "cell_type": "code",
   "execution_count": null,
   "metadata": {},
   "outputs": [],
   "source": []
  }
 ],
 "metadata": {
  "kernelspec": {
   "display_name": "Python 3",
   "language": "python",
   "name": "python3"
  },
  "language_info": {
   "codemirror_mode": {
    "name": "ipython",
    "version": 3
   },
   "file_extension": ".py",
   "mimetype": "text/x-python",
   "name": "python",
   "nbconvert_exporter": "python",
   "pygments_lexer": "ipython3",
   "version": "3.9.5"
  }
 },
 "nbformat": 4,
 "nbformat_minor": 2
}
