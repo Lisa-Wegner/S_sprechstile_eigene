{
 "cells": [
  {
   "cell_type": "code",
   "execution_count": 1,
   "metadata": {},
   "outputs": [],
   "source": [
    "import os\n",
    "import glob\n",
    "import numpy as np\n",
    "import pandas as pd"
   ]
  },
  {
   "cell_type": "code",
   "execution_count": 2,
   "metadata": {},
   "outputs": [],
   "source": [
    "in_directory = './speeches/'\n",
    "in_directory_mld = './mlds/'"
   ]
  },
  {
   "cell_type": "code",
   "execution_count": 3,
   "metadata": {},
   "outputs": [
    {
     "name": "stdout",
     "output_type": "stream",
     "text": [
      "./speeches/bartsch.pkl\n"
     ]
    }
   ],
   "source": [
    "df = pd.DataFrame()\n",
    "for file in glob.glob(in_directory+'*.pkl'):\n",
    "    print(file)\n",
    "    df_tmp = pd.read_pickle(file)\n",
    "    df = df.append(df_tmp)"
   ]
  },
  {
   "cell_type": "code",
   "execution_count": 4,
   "metadata": {},
   "outputs": [
    {
     "data": {
      "text/html": [
       "<div>\n",
       "<style scoped>\n",
       "    .dataframe tbody tr th:only-of-type {\n",
       "        vertical-align: middle;\n",
       "    }\n",
       "\n",
       "    .dataframe tbody tr th {\n",
       "        vertical-align: top;\n",
       "    }\n",
       "\n",
       "    .dataframe thead th {\n",
       "        text-align: right;\n",
       "    }\n",
       "</style>\n",
       "<table border=\"1\" class=\"dataframe\">\n",
       "  <thead>\n",
       "    <tr style=\"text-align: right;\">\n",
       "      <th></th>\n",
       "      <th>sex</th>\n",
       "      <th>age</th>\n",
       "      <th>speechtype</th>\n",
       "      <th>lang</th>\n",
       "      <th>id</th>\n",
       "    </tr>\n",
       "    <tr>\n",
       "      <th>segmented_file</th>\n",
       "      <th></th>\n",
       "      <th></th>\n",
       "      <th></th>\n",
       "      <th></th>\n",
       "      <th></th>\n",
       "    </tr>\n",
       "  </thead>\n",
       "  <tbody>\n",
       "    <tr>\n",
       "      <th>processed/Burkhardt/Bartsch_Burkhardt_seg_00000000.wav</th>\n",
       "      <td>m</td>\n",
       "      <td>63</td>\n",
       "      <td>politics</td>\n",
       "      <td>de</td>\n",
       "      <td>dietmar_bartsch</td>\n",
       "    </tr>\n",
       "    <tr>\n",
       "      <th>processed/Burkhardt/Bartsch_Burkhardt_seg_00000001.wav</th>\n",
       "      <td>m</td>\n",
       "      <td>63</td>\n",
       "      <td>politics</td>\n",
       "      <td>de</td>\n",
       "      <td>dietmar_bartsch</td>\n",
       "    </tr>\n",
       "    <tr>\n",
       "      <th>processed/Burkhardt/Bartsch_Burkhardt_seg_00000002.wav</th>\n",
       "      <td>m</td>\n",
       "      <td>63</td>\n",
       "      <td>politics</td>\n",
       "      <td>de</td>\n",
       "      <td>dietmar_bartsch</td>\n",
       "    </tr>\n",
       "    <tr>\n",
       "      <th>processed/Burkhardt/Bartsch_Burkhardt_seg_00000003.wav</th>\n",
       "      <td>m</td>\n",
       "      <td>63</td>\n",
       "      <td>politics</td>\n",
       "      <td>de</td>\n",
       "      <td>dietmar_bartsch</td>\n",
       "    </tr>\n",
       "    <tr>\n",
       "      <th>processed/Burkhardt/Bartsch_Burkhardt_seg_00000004.wav</th>\n",
       "      <td>m</td>\n",
       "      <td>63</td>\n",
       "      <td>politics</td>\n",
       "      <td>de</td>\n",
       "      <td>dietmar_bartsch</td>\n",
       "    </tr>\n",
       "    <tr>\n",
       "      <th>...</th>\n",
       "      <td>...</td>\n",
       "      <td>...</td>\n",
       "      <td>...</td>\n",
       "      <td>...</td>\n",
       "      <td>...</td>\n",
       "    </tr>\n",
       "    <tr>\n",
       "      <th>processed/Burkhardt/Bartsch_Burkhardt_seg_00000075.wav</th>\n",
       "      <td>m</td>\n",
       "      <td>63</td>\n",
       "      <td>politics</td>\n",
       "      <td>de</td>\n",
       "      <td>dietmar_bartsch</td>\n",
       "    </tr>\n",
       "    <tr>\n",
       "      <th>processed/Burkhardt/Bartsch_Burkhardt_seg_00000076.wav</th>\n",
       "      <td>m</td>\n",
       "      <td>63</td>\n",
       "      <td>politics</td>\n",
       "      <td>de</td>\n",
       "      <td>dietmar_bartsch</td>\n",
       "    </tr>\n",
       "    <tr>\n",
       "      <th>processed/Burkhardt/Bartsch_Burkhardt_seg_00000077.wav</th>\n",
       "      <td>m</td>\n",
       "      <td>63</td>\n",
       "      <td>politics</td>\n",
       "      <td>de</td>\n",
       "      <td>dietmar_bartsch</td>\n",
       "    </tr>\n",
       "    <tr>\n",
       "      <th>processed/Burkhardt/Bartsch_Burkhardt_seg_00000078.wav</th>\n",
       "      <td>m</td>\n",
       "      <td>63</td>\n",
       "      <td>politics</td>\n",
       "      <td>de</td>\n",
       "      <td>dietmar_bartsch</td>\n",
       "    </tr>\n",
       "    <tr>\n",
       "      <th>processed/Burkhardt/Bartsch_Burkhardt_seg_00000079.wav</th>\n",
       "      <td>m</td>\n",
       "      <td>63</td>\n",
       "      <td>politics</td>\n",
       "      <td>de</td>\n",
       "      <td>dietmar_bartsch</td>\n",
       "    </tr>\n",
       "  </tbody>\n",
       "</table>\n",
       "<p>80 rows × 5 columns</p>\n",
       "</div>"
      ],
      "text/plain": [
       "                                                   sex age speechtype lang  \\\n",
       "segmented_file                                                               \n",
       "processed/Burkhardt/Bartsch_Burkhardt_seg_00000...   m  63   politics   de   \n",
       "processed/Burkhardt/Bartsch_Burkhardt_seg_00000...   m  63   politics   de   \n",
       "processed/Burkhardt/Bartsch_Burkhardt_seg_00000...   m  63   politics   de   \n",
       "processed/Burkhardt/Bartsch_Burkhardt_seg_00000...   m  63   politics   de   \n",
       "processed/Burkhardt/Bartsch_Burkhardt_seg_00000...   m  63   politics   de   \n",
       "...                                                 ..  ..        ...  ...   \n",
       "processed/Burkhardt/Bartsch_Burkhardt_seg_00000...   m  63   politics   de   \n",
       "processed/Burkhardt/Bartsch_Burkhardt_seg_00000...   m  63   politics   de   \n",
       "processed/Burkhardt/Bartsch_Burkhardt_seg_00000...   m  63   politics   de   \n",
       "processed/Burkhardt/Bartsch_Burkhardt_seg_00000...   m  63   politics   de   \n",
       "processed/Burkhardt/Bartsch_Burkhardt_seg_00000...   m  63   politics   de   \n",
       "\n",
       "                                                                 id  \n",
       "segmented_file                                                       \n",
       "processed/Burkhardt/Bartsch_Burkhardt_seg_00000...  dietmar_bartsch  \n",
       "processed/Burkhardt/Bartsch_Burkhardt_seg_00000...  dietmar_bartsch  \n",
       "processed/Burkhardt/Bartsch_Burkhardt_seg_00000...  dietmar_bartsch  \n",
       "processed/Burkhardt/Bartsch_Burkhardt_seg_00000...  dietmar_bartsch  \n",
       "processed/Burkhardt/Bartsch_Burkhardt_seg_00000...  dietmar_bartsch  \n",
       "...                                                             ...  \n",
       "processed/Burkhardt/Bartsch_Burkhardt_seg_00000...  dietmar_bartsch  \n",
       "processed/Burkhardt/Bartsch_Burkhardt_seg_00000...  dietmar_bartsch  \n",
       "processed/Burkhardt/Bartsch_Burkhardt_seg_00000...  dietmar_bartsch  \n",
       "processed/Burkhardt/Bartsch_Burkhardt_seg_00000...  dietmar_bartsch  \n",
       "processed/Burkhardt/Bartsch_Burkhardt_seg_00000...  dietmar_bartsch  \n",
       "\n",
       "[80 rows x 5 columns]"
      ]
     },
     "execution_count": 4,
     "metadata": {},
     "output_type": "execute_result"
    }
   ],
   "source": [
    "df"
   ]
  },
  {
   "cell_type": "code",
   "execution_count": 5,
   "metadata": {},
   "outputs": [
    {
     "name": "stdout",
     "output_type": "stream",
     "text": [
      "./mlds/bartsch.pkl\n"
     ]
    }
   ],
   "source": [
    "for file in glob.glob(in_directory_mld+'*.pkl'):\n",
    "    print(file)\n",
    "    df_tmp = pd.read_pickle(file)\n",
    "    df = df.join(df_tmp)"
   ]
  },
  {
   "cell_type": "code",
   "execution_count": 6,
   "metadata": {},
   "outputs": [],
   "source": [
    "df.to_pickle('all_speeches_df.pkl')"
   ]
  },
  {
   "cell_type": "code",
   "execution_count": null,
   "metadata": {},
   "outputs": [],
   "source": []
  }
 ],
 "metadata": {
  "kernelspec": {
   "display_name": "Python 3",
   "language": "python",
   "name": "python3"
  },
  "language_info": {
   "codemirror_mode": {
    "name": "ipython",
    "version": 3
   },
   "file_extension": ".py",
   "mimetype": "text/x-python",
   "name": "python",
   "nbconvert_exporter": "python",
   "pygments_lexer": "ipython3",
   "version": "3.9.5"
  }
 },
 "nbformat": 4,
 "nbformat_minor": 4
}
