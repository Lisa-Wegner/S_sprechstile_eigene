{
 "cells": [
  {
   "cell_type": "markdown",
   "id": "46d10d76",
   "metadata": {},
   "source": [
    "# Sprechstile_eigene\n",
    "### von Lisa Wegner\n"
   ]
  },
  {
   "cell_type": "markdown",
   "id": "2f96fffc",
   "metadata": {},
   "source": [
    "## Rede\n",
    "    1. Thema für die Rede auswählen\n",
    "    2. 3 Minuten Rede über Zoom aufnehmen\n",
    "    3. Herr Burckhardt wandelt die Rede in eine .wav Datei um\n",
    "    4. Rede wird von Herrn Burckhardt mit audvav segmentiert\n",
    "    5. Herr Burckhardt schickt mir die Semgente"
   ]
  },
  {
   "cell_type": "markdown",
   "id": "4632593c",
   "metadata": {},
   "source": [
    "## Downloads\n",
    "\n",
    "Zum annotieren der Segmente werden weitere Tools benötigt.\n",
    "Diese sind von [Github](https://github.com/felixbur/Speechalyzer) runterzuladen.\n",
    "\n",
    "    * Speechalyzer -> Sample rate muss auf 16000 Hz und audio format auf .wav geändert werden\n",
    "    * Labeltool -> veränderte Labeltool.confic - Version von Herrn Burckhardt verwenden\n",
    "für die beiden Tools wird Java benötigt [hier runterladen](https://www.java.com/de/download/manual.jsp)  "
   ]
  },
  {
   "cell_type": "markdown",
   "id": "7775a472",
   "metadata": {},
   "source": [
    "## Annotieren\n",
    "\n",
    "    * in der Shell müssen nun Speechalyzer und Labeltool gestartet werden\n",
    "    * dann werden die Segmente der Rede in das Labeltool geladen und können annotiert werden\n",
    "    * annotierte Segmente werden im gleichen Ordner als .txt gespeichert"
   ]
  },
  {
   "cell_type": "markdown",
   "id": "8baa9885",
   "metadata": {},
   "source": [
    "# Segmente und Annotationen"
   ]
  },
  {
   "cell_type": "code",
   "execution_count": 1,
   "id": "58323e44",
   "metadata": {},
   "outputs": [
    {
     "name": "stdout",
     "output_type": "stream",
     "text": [
      " Datentr„ger in Laufwerk C: ist Acer\n",
      " Volumeseriennummer: BC07-5B18\n",
      "\n",
      " Verzeichnis von C:\\Users\\User\\sprechstile_eigene\\Wegner\n",
      "\n",
      "06.05.2021  13:32    <DIR>          .\n",
      "06.05.2021  13:32    <DIR>          ..\n",
      "06.05.2021  13:28                68 Wegner_16_seg_00000000.txt\n",
      "27.04.2021  15:23           214.124 Wegner_16_seg_00000000.wav\n",
      "06.05.2021  13:28                68 Wegner_16_seg_00000001.txt\n",
      "27.04.2021  15:23            57.004 Wegner_16_seg_00000001.wav\n",
      "06.05.2021  13:28                68 Wegner_16_seg_00000002.txt\n",
      "27.04.2021  15:23            93.484 Wegner_16_seg_00000002.wav\n",
      "06.05.2021  13:28                68 Wegner_16_seg_00000003.txt\n",
      "27.04.2021  15:23           196.204 Wegner_16_seg_00000003.wav\n",
      "06.05.2021  13:28                68 Wegner_16_seg_00000004.txt\n",
      "27.04.2021  15:23           140.204 Wegner_16_seg_00000004.wav\n",
      "06.05.2021  13:28                68 Wegner_16_seg_00000005.txt\n",
      "27.04.2021  15:23           119.084 Wegner_16_seg_00000005.wav\n",
      "06.05.2021  13:29                68 Wegner_16_seg_00000006.txt\n",
      "27.04.2021  15:23            78.764 Wegner_16_seg_00000006.wav\n",
      "06.05.2021  13:29                68 Wegner_16_seg_00000007.txt\n",
      "27.04.2021  15:23           121.004 Wegner_16_seg_00000007.wav\n",
      "06.05.2021  13:29                68 Wegner_16_seg_00000008.txt\n",
      "27.04.2021  15:23           127.404 Wegner_16_seg_00000008.wav\n",
      "06.05.2021  13:29                68 Wegner_16_seg_00000009.txt\n",
      "27.04.2021  15:23            86.444 Wegner_16_seg_00000009.wav\n",
      "06.05.2021  13:29                68 Wegner_16_seg_00000010.txt\n",
      "27.04.2021  15:23           135.084 Wegner_16_seg_00000010.wav\n",
      "06.05.2021  13:29                68 Wegner_16_seg_00000011.txt\n",
      "27.04.2021  15:23           221.804 Wegner_16_seg_00000011.wav\n",
      "06.05.2021  13:29                68 Wegner_16_seg_00000012.txt\n",
      "27.04.2021  15:23           222.764 Wegner_16_seg_00000012.wav\n",
      "06.05.2021  13:29                68 Wegner_16_seg_00000013.txt\n",
      "27.04.2021  15:23            39.724 Wegner_16_seg_00000013.wav\n",
      "06.05.2021  13:29                68 Wegner_16_seg_00000014.txt\n",
      "27.04.2021  15:23           183.084 Wegner_16_seg_00000014.wav\n",
      "06.05.2021  13:29                68 Wegner_16_seg_00000015.txt\n",
      "27.04.2021  15:23           222.764 Wegner_16_seg_00000015.wav\n",
      "06.05.2021  13:30                68 Wegner_16_seg_00000016.txt\n",
      "27.04.2021  15:23            55.084 Wegner_16_seg_00000016.wav\n",
      "06.05.2021  13:30                68 Wegner_16_seg_00000017.txt\n",
      "27.04.2021  15:23            48.044 Wegner_16_seg_00000017.wav\n",
      "06.05.2021  13:30                68 Wegner_16_seg_00000018.txt\n",
      "27.04.2021  15:23           201.324 Wegner_16_seg_00000018.wav\n",
      "06.05.2021  13:30                68 Wegner_16_seg_00000019.txt\n",
      "27.04.2021  15:23            35.884 Wegner_16_seg_00000019.wav\n",
      "06.05.2021  13:30                68 Wegner_16_seg_00000020.txt\n",
      "27.04.2021  15:23           222.764 Wegner_16_seg_00000020.wav\n",
      "06.05.2021  13:30                68 Wegner_16_seg_00000021.txt\n",
      "27.04.2021  15:23           120.364 Wegner_16_seg_00000021.wav\n",
      "06.05.2021  13:30                68 Wegner_16_seg_00000022.txt\n",
      "27.04.2021  15:23            93.484 Wegner_16_seg_00000022.wav\n",
      "06.05.2021  13:30                68 Wegner_16_seg_00000023.txt\n",
      "27.04.2021  15:23           209.644 Wegner_16_seg_00000023.wav\n",
      "06.05.2021  13:30                68 Wegner_16_seg_00000024.txt\n",
      "27.04.2021  15:23            69.804 Wegner_16_seg_00000024.wav\n",
      "06.05.2021  13:30                68 Wegner_16_seg_00000025.txt\n",
      "27.04.2021  15:23           160.044 Wegner_16_seg_00000025.wav\n",
      "06.05.2021  13:30                68 Wegner_16_seg_00000026.txt\n",
      "27.04.2021  15:23           216.044 Wegner_16_seg_00000026.wav\n",
      "06.05.2021  13:31                68 Wegner_16_seg_00000027.txt\n",
      "27.04.2021  15:23           170.284 Wegner_16_seg_00000027.wav\n",
      "06.05.2021  13:31                68 Wegner_16_seg_00000028.txt\n",
      "27.04.2021  15:23           214.764 Wegner_16_seg_00000028.wav\n",
      "06.05.2021  13:31                68 Wegner_16_seg_00000029.txt\n",
      "27.04.2021  15:23           191.724 Wegner_16_seg_00000029.wav\n",
      "06.05.2021  13:31                68 Wegner_16_seg_00000030.txt\n",
      "27.04.2021  15:23           191.084 Wegner_16_seg_00000030.wav\n",
      "06.05.2021  13:31                68 Wegner_16_seg_00000031.txt\n",
      "27.04.2021  15:23           222.764 Wegner_16_seg_00000031.wav\n",
      "06.05.2021  13:31                68 Wegner_16_seg_00000032.txt\n",
      "27.04.2021  15:23            37.804 Wegner_16_seg_00000032.wav\n",
      "06.05.2021  13:31                68 Wegner_16_seg_00000033.txt\n",
      "27.04.2021  15:23           156.844 Wegner_16_seg_00000033.wav\n",
      "06.05.2021  13:31                68 Wegner_16_seg_00000034.txt\n",
      "27.04.2021  15:23            32.044 Wegner_16_seg_00000034.wav\n",
      "06.05.2021  13:31                68 Wegner_16_seg_00000035.txt\n",
      "27.04.2021  15:23           203.884 Wegner_16_seg_00000035.wav\n",
      "06.05.2021  13:31                68 Wegner_16_seg_00000036.txt\n",
      "27.04.2021  15:23           222.764 Wegner_16_seg_00000036.wav\n",
      "06.05.2021  13:32                68 Wegner_16_seg_00000037.txt\n",
      "27.04.2021  15:23           117.164 Wegner_16_seg_00000037.wav\n",
      "06.05.2021  13:32                68 Wegner_16_seg_00000038.txt\n",
      "27.04.2021  15:23           142.764 Wegner_16_seg_00000038.wav\n",
      "06.05.2021  13:32                68 Wegner_16_seg_00000039.txt\n",
      "27.04.2021  15:23           202.604 Wegner_16_seg_00000039.wav\n",
      "06.05.2021  13:32                68 Wegner_16_seg_00000040.txt\n",
      "27.04.2021  15:23           156.844 Wegner_16_seg_00000040.wav\n",
      "              82 Datei(en),      5.957.552 Bytes\n",
      "               2 Verzeichnis(se), 927.154.147.328 Bytes frei\n"
     ]
    }
   ],
   "source": [
    "!dir Wegner"
   ]
  },
  {
   "cell_type": "code",
   "execution_count": 4,
   "id": "98bfac05",
   "metadata": {},
   "outputs": [],
   "source": [
    "import pandas as pd \n",
    "from parselmouth import praat\n",
    "import opensmile\n",
    "import audiofile"
   ]
  }
 ],
 "metadata": {
  "kernelspec": {
   "display_name": "Python 3",
   "language": "python",
   "name": "python3"
  },
  "language_info": {
   "codemirror_mode": {
    "name": "ipython",
    "version": 3
   },
   "file_extension": ".py",
   "mimetype": "text/x-python",
   "name": "python",
   "nbconvert_exporter": "python",
   "pygments_lexer": "ipython3",
   "version": "3.9.5"
  }
 },
 "nbformat": 4,
 "nbformat_minor": 5
}
