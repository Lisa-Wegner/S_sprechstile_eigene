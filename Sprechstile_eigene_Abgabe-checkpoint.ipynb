{
 "cells": [
  {
   "cell_type": "markdown",
   "id": "46d10d76",
   "metadata": {},
   "source": [
    "# Sprechstile_eigene\n",
    "### von Lisa Wegner\n",
    "#### Matrikelnummer: 462022"
   ]
  },
  {
   "cell_type": "markdown",
   "id": "2f96fffc",
   "metadata": {},
   "source": [
    "## Vorgehensweise\n",
    "    1. Thema für eine Rede auswählen\n",
    "    2. 3 Minuten Rede über Zoom aufnehmen\n",
    "    3. Herr Burckhardt wandelt die Rede in eine .wav Datei um\n",
    "    4. Rede wird von Herrn Burckhardt mit auvad segmentiert\n",
    "    5. Herr Burckhardt schickt mir die Semgente\n",
    "    6. Segmente annotieren\n",
    "    7. Analysen mit den Segmenten im Jupyter Notebook"
   ]
  },
  {
   "cell_type": "markdown",
   "id": "4632593c",
   "metadata": {},
   "source": [
    "## Downloads für die Annotationen\n",
    "\n",
    "Zum annotieren der Segmente werden weitere Tools benötigt.\n",
    "Diese sind von [Github](https://github.com/felixbur/Speechalyzer) runterzuladen.\n",
    "\n",
    "    * Speechalyzer -> Sample rate muss auf 16000 Hz und audio format auf .wav geändert werden\n",
    "    * Labeltool -> veränderte Labeltool.confic - Version von Herrn Burckhardt verwenden\n",
    "für die beiden Tools wird Java benötigt [hier runterladen](https://www.java.com/de/download/manual.jsp)  "
   ]
  },
  {
   "cell_type": "markdown",
   "id": "7775a472",
   "metadata": {},
   "source": [
    "## Annotieren\n",
    "\n",
    "    * in der Shell müssen nun Speechalyzer und Labeltool gestartet werden\n",
    "    * dann werden die Segmente der Rede in das Labeltool geladen und können annotiert werden\n",
    "    * annotierte Segmente werden im gleichen Ordner als .txt gespeichert"
   ]
  },
  {
   "cell_type": "markdown",
   "id": "8baa9885",
   "metadata": {},
   "source": [
    "# Segmente und Annotationen"
   ]
  },
  {
   "cell_type": "code",
   "execution_count": 1,
   "id": "58323e44",
   "metadata": {},
   "outputs": [
    {
     "name": "stdout",
     "output_type": "stream",
     "text": [
      " Datentr„ger in Laufwerk C: ist Acer\n",
      " Volumeseriennummer: BC07-5B18\n",
      "\n",
      " Verzeichnis von C:\\Users\\User\\S_sprechstile_eigene\\Wegner\n",
      "\n",
      "18.05.2021  15:04    <DIR>          .\n",
      "18.05.2021  15:04    <DIR>          ..\n",
      "06.05.2021  13:28                68 Wegner_16_seg_00000000.txt\n",
      "27.04.2021  15:23           214.124 Wegner_16_seg_00000000.wav\n",
      "06.05.2021  13:28                68 Wegner_16_seg_00000001.txt\n",
      "27.04.2021  15:23            57.004 Wegner_16_seg_00000001.wav\n",
      "06.05.2021  13:28                68 Wegner_16_seg_00000002.txt\n",
      "27.04.2021  15:23            93.484 Wegner_16_seg_00000002.wav\n",
      "06.05.2021  13:28                68 Wegner_16_seg_00000003.txt\n",
      "27.04.2021  15:23           196.204 Wegner_16_seg_00000003.wav\n",
      "06.05.2021  13:28                68 Wegner_16_seg_00000004.txt\n",
      "27.04.2021  15:23           140.204 Wegner_16_seg_00000004.wav\n",
      "06.05.2021  13:28                68 Wegner_16_seg_00000005.txt\n",
      "27.04.2021  15:23           119.084 Wegner_16_seg_00000005.wav\n",
      "06.05.2021  13:29                68 Wegner_16_seg_00000006.txt\n",
      "27.04.2021  15:23            78.764 Wegner_16_seg_00000006.wav\n",
      "06.05.2021  13:29                68 Wegner_16_seg_00000007.txt\n",
      "27.04.2021  15:23           121.004 Wegner_16_seg_00000007.wav\n",
      "06.05.2021  13:29                68 Wegner_16_seg_00000008.txt\n",
      "27.04.2021  15:23           127.404 Wegner_16_seg_00000008.wav\n",
      "06.05.2021  13:29                68 Wegner_16_seg_00000009.txt\n",
      "27.04.2021  15:23            86.444 Wegner_16_seg_00000009.wav\n",
      "06.05.2021  13:29                68 Wegner_16_seg_00000010.txt\n",
      "27.04.2021  15:23           135.084 Wegner_16_seg_00000010.wav\n",
      "06.05.2021  13:29                68 Wegner_16_seg_00000011.txt\n",
      "27.04.2021  15:23           221.804 Wegner_16_seg_00000011.wav\n",
      "06.05.2021  13:29                68 Wegner_16_seg_00000012.txt\n",
      "27.04.2021  15:23           222.764 Wegner_16_seg_00000012.wav\n",
      "06.05.2021  13:29                68 Wegner_16_seg_00000013.txt\n",
      "27.04.2021  15:23            39.724 Wegner_16_seg_00000013.wav\n",
      "06.05.2021  13:29                68 Wegner_16_seg_00000014.txt\n",
      "27.04.2021  15:23           183.084 Wegner_16_seg_00000014.wav\n",
      "06.05.2021  13:29                68 Wegner_16_seg_00000015.txt\n",
      "27.04.2021  15:23           222.764 Wegner_16_seg_00000015.wav\n",
      "06.05.2021  13:30                68 Wegner_16_seg_00000016.txt\n",
      "27.04.2021  15:23            55.084 Wegner_16_seg_00000016.wav\n",
      "06.05.2021  13:30                68 Wegner_16_seg_00000017.txt\n",
      "27.04.2021  15:23            48.044 Wegner_16_seg_00000017.wav\n",
      "06.05.2021  13:30                68 Wegner_16_seg_00000018.txt\n",
      "27.04.2021  15:23           201.324 Wegner_16_seg_00000018.wav\n",
      "06.05.2021  13:30                68 Wegner_16_seg_00000019.txt\n",
      "27.04.2021  15:23            35.884 Wegner_16_seg_00000019.wav\n",
      "06.05.2021  13:30                68 Wegner_16_seg_00000020.txt\n",
      "27.04.2021  15:23           222.764 Wegner_16_seg_00000020.wav\n",
      "06.05.2021  13:30                68 Wegner_16_seg_00000021.txt\n",
      "27.04.2021  15:23           120.364 Wegner_16_seg_00000021.wav\n",
      "06.05.2021  13:30                68 Wegner_16_seg_00000022.txt\n",
      "27.04.2021  15:23            93.484 Wegner_16_seg_00000022.wav\n",
      "06.05.2021  13:30                68 Wegner_16_seg_00000023.txt\n",
      "27.04.2021  15:23           209.644 Wegner_16_seg_00000023.wav\n",
      "06.05.2021  13:30                68 Wegner_16_seg_00000024.txt\n",
      "27.04.2021  15:23            69.804 Wegner_16_seg_00000024.wav\n",
      "06.05.2021  13:30                68 Wegner_16_seg_00000025.txt\n",
      "27.04.2021  15:23           160.044 Wegner_16_seg_00000025.wav\n",
      "06.05.2021  13:30                68 Wegner_16_seg_00000026.txt\n",
      "27.04.2021  15:23           216.044 Wegner_16_seg_00000026.wav\n",
      "06.05.2021  13:31                68 Wegner_16_seg_00000027.txt\n",
      "27.04.2021  15:23           170.284 Wegner_16_seg_00000027.wav\n",
      "06.05.2021  13:31                68 Wegner_16_seg_00000028.txt\n",
      "27.04.2021  15:23           214.764 Wegner_16_seg_00000028.wav\n",
      "06.05.2021  13:31                68 Wegner_16_seg_00000029.txt\n",
      "27.04.2021  15:23           191.724 Wegner_16_seg_00000029.wav\n",
      "06.05.2021  13:31                68 Wegner_16_seg_00000030.txt\n",
      "27.04.2021  15:23           191.084 Wegner_16_seg_00000030.wav\n",
      "06.05.2021  13:31                68 Wegner_16_seg_00000031.txt\n",
      "27.04.2021  15:23           222.764 Wegner_16_seg_00000031.wav\n",
      "06.05.2021  13:31                68 Wegner_16_seg_00000032.txt\n",
      "27.04.2021  15:23            37.804 Wegner_16_seg_00000032.wav\n",
      "06.05.2021  13:31                68 Wegner_16_seg_00000033.txt\n",
      "27.04.2021  15:23           156.844 Wegner_16_seg_00000033.wav\n",
      "06.05.2021  13:31                68 Wegner_16_seg_00000034.txt\n",
      "27.04.2021  15:23            32.044 Wegner_16_seg_00000034.wav\n",
      "06.05.2021  13:31                68 Wegner_16_seg_00000035.txt\n",
      "27.04.2021  15:23           203.884 Wegner_16_seg_00000035.wav\n",
      "06.05.2021  13:31                68 Wegner_16_seg_00000036.txt\n",
      "27.04.2021  15:23           222.764 Wegner_16_seg_00000036.wav\n",
      "06.05.2021  13:32                68 Wegner_16_seg_00000037.txt\n",
      "27.04.2021  15:23           117.164 Wegner_16_seg_00000037.wav\n",
      "06.05.2021  13:32                68 Wegner_16_seg_00000038.txt\n",
      "27.04.2021  15:23           142.764 Wegner_16_seg_00000038.wav\n",
      "06.05.2021  13:32                68 Wegner_16_seg_00000039.txt\n",
      "27.04.2021  15:23           202.604 Wegner_16_seg_00000039.wav\n",
      "06.05.2021  13:32                68 Wegner_16_seg_00000040.txt\n",
      "27.04.2021  15:23           156.844 Wegner_16_seg_00000040.wav\n",
      "              82 Datei(en),      5.957.552 Bytes\n",
      "               2 Verzeichnis(se), 919.407.325.184 Bytes frei\n"
     ]
    }
   ],
   "source": [
    "!dir Wegner"
   ]
  },
  {
   "cell_type": "markdown",
   "id": "429c60b9",
   "metadata": {},
   "source": [
    "# Downloads für die weitere Analyse"
   ]
  },
  {
   "cell_type": "markdown",
   "id": "0bdd2141",
   "metadata": {},
   "source": [
    "* in der Shell müssen über den Befehl \"pip install xyz\" folgende Programme installiert werden:\n",
    "    \n",
    "    1. Pandas\n",
    "    2. Parselmouth\n",
    "    3. opensmile\n",
    "    4. audiofile\n",
    "    5. matplotlib.pyplot\n",
    "    6. seaborn\n",
    "    \n",
    "\n",
    "* außerdem sollte [sox](https://sourceforge.net/projects/sox/) auf dem Computer installiert werden"
   ]
  },
  {
   "cell_type": "markdown",
   "id": "5edbdb5b",
   "metadata": {},
   "source": [
    "# Analyse"
   ]
  },
  {
   "cell_type": "code",
   "execution_count": 2,
   "id": "cf95e5b4",
   "metadata": {},
   "outputs": [],
   "source": [
    "import pandas as pd\n",
    "from parselmouth import praat\n",
    "import opensmile\n",
    "import audiofile\n",
    "import matplotlib.pyplot as plt"
   ]
  },
  {
   "cell_type": "code",
   "execution_count": 3,
   "id": "74f1a3ef",
   "metadata": {},
   "outputs": [
    {
     "data": {
      "text/plain": [
       "'C:\\\\Users\\\\User\\\\S_sprechstile_eigene'"
      ]
     },
     "execution_count": 3,
     "metadata": {},
     "output_type": "execute_result"
    }
   ],
   "source": [
    "pwd"
   ]
  },
  {
   "cell_type": "code",
   "execution_count": 4,
   "id": "a7f359a4",
   "metadata": {},
   "outputs": [],
   "source": [
    "df = pd.read_csv('labels.txt', sep=' ', header=None)"
   ]
  },
  {
   "cell_type": "markdown",
   "id": "812095aa",
   "metadata": {},
   "source": [
    "### Anzeigen lassen, wie viele Zeilen und Spalten es gibt:"
   ]
  },
  {
   "cell_type": "code",
   "execution_count": 5,
   "id": "e8dbbbf6",
   "metadata": {},
   "outputs": [
    {
     "data": {
      "text/plain": [
       "(41, 2)"
      ]
     },
     "execution_count": 5,
     "metadata": {},
     "output_type": "execute_result"
    }
   ],
   "source": [
    "df.shape"
   ]
  },
  {
   "cell_type": "markdown",
   "id": "65d46562",
   "metadata": {},
   "source": [
    "### Spalten umbenennen: in eckicke Klammern den Namen eingeben"
   ]
  },
  {
   "cell_type": "code",
   "execution_count": 6,
   "id": "3c1aa976",
   "metadata": {},
   "outputs": [],
   "source": [
    "df.columns = ['file', 'valence']"
   ]
  },
  {
   "cell_type": "code",
   "execution_count": 7,
   "id": "4026cea4",
   "metadata": {},
   "outputs": [],
   "source": [
    "df = df.set_index('file')"
   ]
  },
  {
   "cell_type": "code",
   "execution_count": 8,
   "id": "f6ae6cc7",
   "metadata": {},
   "outputs": [
    {
     "data": {
      "text/html": [
       "<div>\n",
       "<style scoped>\n",
       "    .dataframe tbody tr th:only-of-type {\n",
       "        vertical-align: middle;\n",
       "    }\n",
       "\n",
       "    .dataframe tbody tr th {\n",
       "        vertical-align: top;\n",
       "    }\n",
       "\n",
       "    .dataframe thead th {\n",
       "        text-align: right;\n",
       "    }\n",
       "</style>\n",
       "<table border=\"1\" class=\"dataframe\">\n",
       "  <thead>\n",
       "    <tr style=\"text-align: right;\">\n",
       "      <th></th>\n",
       "      <th>valence</th>\n",
       "    </tr>\n",
       "    <tr>\n",
       "      <th>file</th>\n",
       "      <th></th>\n",
       "    </tr>\n",
       "  </thead>\n",
       "  <tbody>\n",
       "    <tr>\n",
       "      <th>C:\\Users\\User\\sprechstile_eigene\\Speechalyzer-master\\Wegner\\Wegner_16_seg_00000000.wav</th>\n",
       "      <td>4.0</td>\n",
       "    </tr>\n",
       "  </tbody>\n",
       "</table>\n",
       "</div>"
      ],
      "text/plain": [
       "                                                    valence\n",
       "file                                                       \n",
       "C:\\Users\\User\\sprechstile_eigene\\Speechalyzer-m...      4.0"
      ]
     },
     "execution_count": 8,
     "metadata": {},
     "output_type": "execute_result"
    }
   ],
   "source": [
    "df.head(1)"
   ]
  },
  {
   "cell_type": "code",
   "execution_count": 9,
   "id": "c08b6023",
   "metadata": {},
   "outputs": [
    {
     "data": {
      "text/plain": [
       "file\n",
       "C:\\Users\\User\\sprechstile_eigene\\Speechalyzer-master\\Wegner\\Wegner_16_seg_00000000.wav    4.0\n",
       "C:\\Users\\User\\sprechstile_eigene\\Speechalyzer-master\\Wegner\\Wegner_16_seg_00000001.wav    3.0\n",
       "C:\\Users\\User\\sprechstile_eigene\\Speechalyzer-master\\Wegner\\Wegner_16_seg_00000002.wav    5.0\n",
       "C:\\Users\\User\\sprechstile_eigene\\Speechalyzer-master\\Wegner\\Wegner_16_seg_00000003.wav    2.0\n",
       "C:\\Users\\User\\sprechstile_eigene\\Speechalyzer-master\\Wegner\\Wegner_16_seg_00000004.wav    2.0\n",
       "C:\\Users\\User\\sprechstile_eigene\\Speechalyzer-master\\Wegner\\Wegner_16_seg_00000005.wav    2.0\n",
       "C:\\Users\\User\\sprechstile_eigene\\Speechalyzer-master\\Wegner\\Wegner_16_seg_00000006.wav    1.0\n",
       "C:\\Users\\User\\sprechstile_eigene\\Speechalyzer-master\\Wegner\\Wegner_16_seg_00000007.wav    3.0\n",
       "C:\\Users\\User\\sprechstile_eigene\\Speechalyzer-master\\Wegner\\Wegner_16_seg_00000008.wav    3.0\n",
       "C:\\Users\\User\\sprechstile_eigene\\Speechalyzer-master\\Wegner\\Wegner_16_seg_00000009.wav    3.0\n",
       "C:\\Users\\User\\sprechstile_eigene\\Speechalyzer-master\\Wegner\\Wegner_16_seg_00000010.wav    2.0\n",
       "C:\\Users\\User\\sprechstile_eigene\\Speechalyzer-master\\Wegner\\Wegner_16_seg_00000011.wav    1.0\n",
       "C:\\Users\\User\\sprechstile_eigene\\Speechalyzer-master\\Wegner\\Wegner_16_seg_00000012.wav    3.0\n",
       "C:\\Users\\User\\sprechstile_eigene\\Speechalyzer-master\\Wegner\\Wegner_16_seg_00000013.wav    3.0\n",
       "C:\\Users\\User\\sprechstile_eigene\\Speechalyzer-master\\Wegner\\Wegner_16_seg_00000014.wav    4.0\n",
       "C:\\Users\\User\\sprechstile_eigene\\Speechalyzer-master\\Wegner\\Wegner_16_seg_00000015.wav    5.0\n",
       "C:\\Users\\User\\sprechstile_eigene\\Speechalyzer-master\\Wegner\\Wegner_16_seg_00000016.wav    5.0\n",
       "C:\\Users\\User\\sprechstile_eigene\\Speechalyzer-master\\Wegner\\Wegner_16_seg_00000017.wav    6.0\n",
       "C:\\Users\\User\\sprechstile_eigene\\Speechalyzer-master\\Wegner\\Wegner_16_seg_00000018.wav    5.0\n",
       "C:\\Users\\User\\sprechstile_eigene\\Speechalyzer-master\\Wegner\\Wegner_16_seg_00000019.wav    4.0\n",
       "C:\\Users\\User\\sprechstile_eigene\\Speechalyzer-master\\Wegner\\Wegner_16_seg_00000020.wav    3.0\n",
       "C:\\Users\\User\\sprechstile_eigene\\Speechalyzer-master\\Wegner\\Wegner_16_seg_00000021.wav    3.0\n",
       "C:\\Users\\User\\sprechstile_eigene\\Speechalyzer-master\\Wegner\\Wegner_16_seg_00000022.wav    4.0\n",
       "C:\\Users\\User\\sprechstile_eigene\\Speechalyzer-master\\Wegner\\Wegner_16_seg_00000023.wav    3.0\n",
       "C:\\Users\\User\\sprechstile_eigene\\Speechalyzer-master\\Wegner\\Wegner_16_seg_00000024.wav    4.0\n",
       "C:\\Users\\User\\sprechstile_eigene\\Speechalyzer-master\\Wegner\\Wegner_16_seg_00000025.wav    5.0\n",
       "C:\\Users\\User\\sprechstile_eigene\\Speechalyzer-master\\Wegner\\Wegner_16_seg_00000026.wav    4.0\n",
       "C:\\Users\\User\\sprechstile_eigene\\Speechalyzer-master\\Wegner\\Wegner_16_seg_00000027.wav    4.0\n",
       "C:\\Users\\User\\sprechstile_eigene\\Speechalyzer-master\\Wegner\\Wegner_16_seg_00000028.wav    5.0\n",
       "C:\\Users\\User\\sprechstile_eigene\\Speechalyzer-master\\Wegner\\Wegner_16_seg_00000029.wav    3.0\n",
       "C:\\Users\\User\\sprechstile_eigene\\Speechalyzer-master\\Wegner\\Wegner_16_seg_00000030.wav    2.0\n",
       "C:\\Users\\User\\sprechstile_eigene\\Speechalyzer-master\\Wegner\\Wegner_16_seg_00000031.wav    4.0\n",
       "C:\\Users\\User\\sprechstile_eigene\\Speechalyzer-master\\Wegner\\Wegner_16_seg_00000032.wav    4.0\n",
       "C:\\Users\\User\\sprechstile_eigene\\Speechalyzer-master\\Wegner\\Wegner_16_seg_00000033.wav    3.0\n",
       "C:\\Users\\User\\sprechstile_eigene\\Speechalyzer-master\\Wegner\\Wegner_16_seg_00000034.wav    3.0\n",
       "C:\\Users\\User\\sprechstile_eigene\\Speechalyzer-master\\Wegner\\Wegner_16_seg_00000035.wav    4.0\n",
       "C:\\Users\\User\\sprechstile_eigene\\Speechalyzer-master\\Wegner\\Wegner_16_seg_00000036.wav    6.0\n",
       "C:\\Users\\User\\sprechstile_eigene\\Speechalyzer-master\\Wegner\\Wegner_16_seg_00000037.wav    6.0\n",
       "C:\\Users\\User\\sprechstile_eigene\\Speechalyzer-master\\Wegner\\Wegner_16_seg_00000038.wav    5.0\n",
       "C:\\Users\\User\\sprechstile_eigene\\Speechalyzer-master\\Wegner\\Wegner_16_seg_00000039.wav    3.0\n",
       "C:\\Users\\User\\sprechstile_eigene\\Speechalyzer-master\\Wegner\\Wegner_16_seg_00000040.wav    4.0\n",
       "Name: valence, dtype: float64"
      ]
     },
     "execution_count": 9,
     "metadata": {},
     "output_type": "execute_result"
    }
   ],
   "source": [
    "df.valence"
   ]
  },
  {
   "cell_type": "markdown",
   "id": "8cee71c3",
   "metadata": {},
   "source": [
    "### Den Pfadnamen einkürzen:\n",
    "    * die Funktion os.path.basename kürzt den Namen ein"
   ]
  },
  {
   "cell_type": "code",
   "execution_count": 10,
   "id": "da66ca75",
   "metadata": {},
   "outputs": [
    {
     "data": {
      "text/html": [
       "<div>\n",
       "<style scoped>\n",
       "    .dataframe tbody tr th:only-of-type {\n",
       "        vertical-align: middle;\n",
       "    }\n",
       "\n",
       "    .dataframe tbody tr th {\n",
       "        vertical-align: top;\n",
       "    }\n",
       "\n",
       "    .dataframe thead th {\n",
       "        text-align: right;\n",
       "    }\n",
       "</style>\n",
       "<table border=\"1\" class=\"dataframe\">\n",
       "  <thead>\n",
       "    <tr style=\"text-align: right;\">\n",
       "      <th></th>\n",
       "      <th>valence</th>\n",
       "    </tr>\n",
       "    <tr>\n",
       "      <th>file</th>\n",
       "      <th></th>\n",
       "    </tr>\n",
       "  </thead>\n",
       "  <tbody>\n",
       "    <tr>\n",
       "      <th>Wegner_16_seg_00000000.wav</th>\n",
       "      <td>4.0</td>\n",
       "    </tr>\n",
       "    <tr>\n",
       "      <th>Wegner_16_seg_00000001.wav</th>\n",
       "      <td>3.0</td>\n",
       "    </tr>\n",
       "    <tr>\n",
       "      <th>Wegner_16_seg_00000002.wav</th>\n",
       "      <td>5.0</td>\n",
       "    </tr>\n",
       "    <tr>\n",
       "      <th>Wegner_16_seg_00000003.wav</th>\n",
       "      <td>2.0</td>\n",
       "    </tr>\n",
       "  </tbody>\n",
       "</table>\n",
       "</div>"
      ],
      "text/plain": [
       "                            valence\n",
       "file                               \n",
       "Wegner_16_seg_00000000.wav      4.0\n",
       "Wegner_16_seg_00000001.wav      3.0\n",
       "Wegner_16_seg_00000002.wav      5.0\n",
       "Wegner_16_seg_00000003.wav      2.0"
      ]
     },
     "execution_count": 10,
     "metadata": {},
     "output_type": "execute_result"
    }
   ],
   "source": [
    "import os\n",
    "def rel_path(x):\n",
    "    return os.path.basename(x)\n",
    "df.index = df.index.to_series().apply(lambda x: rel_path(x))\n",
    "df.head(4)"
   ]
  },
  {
   "cell_type": "code",
   "execution_count": 11,
   "id": "d0b5de73",
   "metadata": {},
   "outputs": [
    {
     "data": {
      "text/plain": [
       "pandas.core.series.Series"
      ]
     },
     "execution_count": 11,
     "metadata": {},
     "output_type": "execute_result"
    }
   ],
   "source": [
    "type(df.valence)"
   ]
  },
  {
   "cell_type": "markdown",
   "id": "f52e4e37",
   "metadata": {},
   "source": [
    "# weitere Analysen mit Visualisierungen"
   ]
  },
  {
   "cell_type": "markdown",
   "id": "0e6c5f79",
   "metadata": {},
   "source": [
    "* alle Werte plotten, allerdings ist die Grafik nicht sehr aussagekräftig"
   ]
  },
  {
   "cell_type": "code",
   "execution_count": 12,
   "id": "ea6d7ff1",
   "metadata": {},
   "outputs": [
    {
     "data": {
      "text/plain": [
       "<AxesSubplot:xlabel='file'>"
      ]
     },
     "execution_count": 12,
     "metadata": {},
     "output_type": "execute_result"
    },
    {
     "data": {
      "image/png": "[encoded data removed]",
      "text/plain": [
       "<Figure size 432x288 with 1 Axes>"
      ]
     },
     "metadata": {
      "needs_background": "light"
     },
     "output_type": "display_data"
    }
   ],
   "source": [
    "df.plot() "
   ]
  },
  {
   "cell_type": "markdown",
   "id": "5853a31a",
   "metadata": {},
   "source": [
    "* die geplotteten Werte in einem Balkendiagramm ausgeben lassen\n",
    "* über sort_index() werden die Zahlen der X-Achse sortiert"
   ]
  },
  {
   "cell_type": "code",
   "execution_count": 2,
   "id": "94184296",
   "metadata": {},
   "outputs": [
    {
     "ename": "NameError",
     "evalue": "name 'df' is not defined",
     "output_type": "error",
     "traceback": [
      "\u001b[1;31m---------------------------------------------------------------------------\u001b[0m",
      "\u001b[1;31mNameError\u001b[0m                                 Traceback (most recent call last)",
      "\u001b[1;32m<ipython-input-2-f0e02d031c30>\u001b[0m in \u001b[0;36m<module>\u001b[1;34m\u001b[0m\n\u001b[1;32m----> 1\u001b[1;33m \u001b[0mdf\u001b[0m\u001b[1;33m.\u001b[0m\u001b[0mvalence\u001b[0m\u001b[1;33m.\u001b[0m\u001b[0mvalue_counts\u001b[0m\u001b[1;33m(\u001b[0m\u001b[1;33m)\u001b[0m\u001b[1;33m.\u001b[0m\u001b[0msort_index\u001b[0m\u001b[1;33m(\u001b[0m\u001b[1;33m)\u001b[0m\u001b[1;33m.\u001b[0m\u001b[0mplot\u001b[0m\u001b[1;33m(\u001b[0m\u001b[0mkind\u001b[0m\u001b[1;33m=\u001b[0m\u001b[1;34m'bar'\u001b[0m\u001b[1;33m)\u001b[0m\u001b[1;33m\u001b[0m\u001b[1;33m\u001b[0m\u001b[0m\n\u001b[0m",
      "\u001b[1;31mNameError\u001b[0m: name 'df' is not defined"
     ]
    }
   ],
   "source": [
    "df.valence.value_counts().sort_index().plot(kind='bar') "
   ]
  },
  {
   "cell_type": "markdown",
   "id": "a501d82f",
   "metadata": {},
   "source": [
    "* eine Variante die visualiseirt, wie die Variablen verteilt sind: über Kernel Density Estimate (kde)"
   ]
  },
  {
   "cell_type": "code",
   "execution_count": 14,
   "id": "a7b9f85b",
   "metadata": {},
   "outputs": [
    {
     "data": {
      "text/plain": [
       "<AxesSubplot:ylabel='Density'>"
      ]
     },
     "execution_count": 14,
     "metadata": {},
     "output_type": "execute_result"
    },
    {
     "data": {
      "image/png": "[encoded data removed]",
      "text/plain": [
       "<Figure size 432x288 with 1 Axes>"
      ]
     },
     "metadata": {
      "needs_background": "light"
     },
     "output_type": "display_data"
    }
   ],
   "source": [
    "df.valence.value_counts().plot(kind='kde')"
   ]
  },
  {
   "cell_type": "code",
   "execution_count": 15,
   "id": "c08d0388",
   "metadata": {},
   "outputs": [
    {
     "name": "stdout",
     "output_type": "stream",
     "text": [
      "<class 'pandas.core.frame.DataFrame'>\n",
      "Index: 41 entries, Wegner_16_seg_00000000.wav to Wegner_16_seg_00000040.wav\n",
      "Data columns (total 1 columns):\n",
      " #   Column   Non-Null Count  Dtype  \n",
      "---  ------   --------------  -----  \n",
      " 0   valence  41 non-null     float64\n",
      "dtypes: float64(1)\n",
      "memory usage: 656.0+ bytes\n"
     ]
    }
   ],
   "source": [
    "df.info()"
   ]
  },
  {
   "cell_type": "markdown",
   "id": "3be85bc7",
   "metadata": {},
   "source": [
    "* ein weiteres aussagekräftigeres Tool ist seaborn:\n",
    "* es gibt einen Violinplot auf Grundlage der Mittelwerte aus"
   ]
  },
  {
   "cell_type": "code",
   "execution_count": 16,
   "id": "c0bb88c2",
   "metadata": {},
   "outputs": [],
   "source": [
    "import seaborn as sns"
   ]
  },
  {
   "cell_type": "code",
   "execution_count": 17,
   "id": "4f671ea3",
   "metadata": {},
   "outputs": [],
   "source": [
    "sns.set_theme(style=\"whitegrid\")"
   ]
  },
  {
   "cell_type": "code",
   "execution_count": 18,
   "id": "378ad9c5",
   "metadata": {},
   "outputs": [
    {
     "data": {
      "image/png": "[encoded data removed]",
      "text/plain": [
       "<Figure size 432x288 with 1 Axes>"
      ]
     },
     "metadata": {},
     "output_type": "display_data"
    }
   ],
   "source": [
    "ax=sns.violinplot(x=df.valence)"
   ]
  },
  {
   "cell_type": "markdown",
   "id": "fab9afb7",
   "metadata": {},
   "source": [
    "### Die Daten wurden mit dem Jupyter Notebook (Measure Pitch and HNR), einem Praat Skript analysiert\n",
    "* das Praat Skript wurde von [GitHub](https://github.com/drfeinberg/PraatScripts) heruntergeladen und gespeichert, um anschließend damit zu arbeiten\n",
    "* die Daten werden über die pickle-Funktion im anderen Notebook verpackt und dann hierher kopiert\n",
    "* der Datenframe kann somit von einem Notebook in ein anderes kopiert werden"
   ]
  },
  {
   "cell_type": "markdown",
   "id": "b47cebab",
   "metadata": {},
   "source": []
  },
  {
   "cell_type": "code",
   "execution_count": 19,
   "id": "31f1957e",
   "metadata": {},
   "outputs": [],
   "source": [
    "df_f0 = pd.read_pickle('f0df.pkl')"
   ]
  },
  {
   "cell_type": "code",
   "execution_count": null,
   "id": "f74b4360",
   "metadata": {},
   "outputs": [],
   "source": [
    "df_f0.head(2)"
   ]
  },
  {
   "cell_type": "markdown",
   "id": "940b4d41",
   "metadata": {},
   "source": [
    "* Zeilen in Pandas umbenennen:"
   ]
  },
  {
   "cell_type": "code",
   "execution_count": 21,
   "id": "6c299b65",
   "metadata": {},
   "outputs": [],
   "source": [
    "def norm_df(df):\n",
    "    df = df.rename(columns={'voiceID':'file'})\n",
    "    df = df.set_index('file')\n",
    "    df.index = df.index.to_series().apply(lambda x: os.path.basename(x))\n",
    "    return df"
   ]
  },
  {
   "cell_type": "markdown",
   "id": "77625dc6",
   "metadata": {},
   "source": [
    "* den Pfadnamen abschneiden"
   ]
  },
  {
   "cell_type": "code",
   "execution_count": 22,
   "id": "858fd83e",
   "metadata": {},
   "outputs": [],
   "source": [
    "df_f0 = norm_df(df_f0)\n"
   ]
  },
  {
   "cell_type": "code",
   "execution_count": 23,
   "id": "e2f7630d",
   "metadata": {},
   "outputs": [
    {
     "data": {
      "text/html": [
       "<div>\n",
       "<style scoped>\n",
       "    .dataframe tbody tr th:only-of-type {\n",
       "        vertical-align: middle;\n",
       "    }\n",
       "\n",
       "    .dataframe tbody tr th {\n",
       "        vertical-align: top;\n",
       "    }\n",
       "\n",
       "    .dataframe thead th {\n",
       "        text-align: right;\n",
       "    }\n",
       "</style>\n",
       "<table border=\"1\" class=\"dataframe\">\n",
       "  <thead>\n",
       "    <tr style=\"text-align: right;\">\n",
       "      <th></th>\n",
       "      <th>meanF0Hz</th>\n",
       "    </tr>\n",
       "    <tr>\n",
       "      <th>file</th>\n",
       "      <th></th>\n",
       "    </tr>\n",
       "  </thead>\n",
       "  <tbody>\n",
       "    <tr>\n",
       "      <th>Wegner_16_seg_00000000.wav</th>\n",
       "      <td>216.6457657532109</td>\n",
       "    </tr>\n",
       "    <tr>\n",
       "      <th>Wegner_16_seg_00000001.wav</th>\n",
       "      <td>219.36542836968232</td>\n",
       "    </tr>\n",
       "  </tbody>\n",
       "</table>\n",
       "</div>"
      ],
      "text/plain": [
       "                                      meanF0Hz\n",
       "file                                          \n",
       "Wegner_16_seg_00000000.wav   216.6457657532109\n",
       "Wegner_16_seg_00000001.wav  219.36542836968232"
      ]
     },
     "execution_count": 23,
     "metadata": {},
     "output_type": "execute_result"
    }
   ],
   "source": [
    "df_f0.head(2)"
   ]
  },
  {
   "cell_type": "code",
   "execution_count": 24,
   "id": "167f1504",
   "metadata": {},
   "outputs": [],
   "source": [
    "df = df.join(df_f0)\n",
    "# kann nur einmal ausgeführt werden, sonst erscheint eine Fehlermeldung"
   ]
  },
  {
   "cell_type": "markdown",
   "id": "23f23b6d",
   "metadata": {},
   "source": [
    "* mit \"float\" sagt man, dass es sich um Zahlen handelt und nicht um Strings"
   ]
  },
  {
   "cell_type": "code",
   "execution_count": 25,
   "id": "17924672",
   "metadata": {},
   "outputs": [],
   "source": [
    "df['meanF0Hz'] = df['meanF0Hz'].astype(float)\n"
   ]
  },
  {
   "cell_type": "code",
   "execution_count": 32,
   "id": "0e3945d4",
   "metadata": {},
   "outputs": [
    {
     "ename": "TypeError",
     "evalue": "format expected at most 2 arguments, got 3",
     "output_type": "error",
     "traceback": [
      "\u001b[1;31m---------------------------------------------------------------------------\u001b[0m",
      "\u001b[1;31mTypeError\u001b[0m                                 Traceback (most recent call last)",
      "\u001b[1;32m<ipython-input-32-26f9cbe552f9>\u001b[0m in \u001b[0;36m<module>\u001b[1;34m\u001b[0m\n\u001b[1;32m----> 1\u001b[1;33m \u001b[0mprint\u001b[0m\u001b[1;33m(\u001b[0m\u001b[1;34m'valence df: {}, f0 df: {}, combined: {}'\u001b[0m\u001b[1;33m,\u001b[0m \u001b[0mformat\u001b[0m\u001b[1;33m(\u001b[0m\u001b[0mdf\u001b[0m\u001b[1;33m.\u001b[0m\u001b[0mshape\u001b[0m\u001b[1;33m[\u001b[0m\u001b[1;36m0\u001b[0m\u001b[1;33m]\u001b[0m\u001b[1;33m,\u001b[0m \u001b[0mdf_f0\u001b[0m\u001b[1;33m.\u001b[0m\u001b[0mshape\u001b[0m\u001b[1;33m[\u001b[0m\u001b[1;36m0\u001b[0m\u001b[1;33m]\u001b[0m\u001b[1;33m,\u001b[0m \u001b[0mdf\u001b[0m\u001b[1;33m.\u001b[0m\u001b[0mshape\u001b[0m\u001b[1;33m[\u001b[0m\u001b[1;36m0\u001b[0m\u001b[1;33m]\u001b[0m\u001b[1;33m)\u001b[0m\u001b[1;33m)\u001b[0m\u001b[1;33m\u001b[0m\u001b[1;33m\u001b[0m\u001b[0m\n\u001b[0m",
      "\u001b[1;31mTypeError\u001b[0m: format expected at most 2 arguments, got 3"
     ]
    }
   ],
   "source": [
    "print('valence df: {}, f0 df: {}, combined: {}', format(df.shape[0], df_f0.shape[0], df.shape[0]))"
   ]
  },
  {
   "cell_type": "markdown",
   "id": "d44e14fa",
   "metadata": {},
   "source": [
    "* Verteilung der Valence:"
   ]
  },
  {
   "cell_type": "code",
   "execution_count": 36,
   "id": "91840887",
   "metadata": {},
   "outputs": [
    {
     "data": {
      "text/plain": [
       "<AxesSubplot:xlabel='valence', ylabel='meanF0Hz'>"
      ]
     },
     "execution_count": 36,
     "metadata": {},
     "output_type": "execute_result"
    },
    {
     "data": {
      "image/png": "[encoded data removed]",
      "text/plain": [
       "<Figure size 432x288 with 1 Axes>"
      ]
     },
     "metadata": {},
     "output_type": "display_data"
    }
   ],
   "source": [
    "df.plot.scatter(y='meanF0Hz', x='valence', c='DarkBlue')"
   ]
  },
  {
   "cell_type": "markdown",
   "id": "05f8d485",
   "metadata": {},
   "source": [
    "# nächste Sitzung: 15.06.2021"
   ]
  },
  {
   "cell_type": "code",
   "execution_count": 37,
   "id": "a5b26e63",
   "metadata": {},
   "outputs": [
    {
     "ename": "FileNotFoundError",
     "evalue": "[Errno 2] No such file or directory: 'measures_df.pkl'",
     "output_type": "error",
     "traceback": [
      "\u001b[1;31m---------------------------------------------------------------------------\u001b[0m",
      "\u001b[1;31mFileNotFoundError\u001b[0m                         Traceback (most recent call last)",
      "\u001b[1;32m<ipython-input-37-6d96f967e711>\u001b[0m in \u001b[0;36m<module>\u001b[1;34m\u001b[0m\n\u001b[1;32m----> 1\u001b[1;33m \u001b[0mmeasures_df\u001b[0m \u001b[1;33m=\u001b[0m \u001b[0mpd\u001b[0m\u001b[1;33m.\u001b[0m\u001b[0mread_pickle\u001b[0m\u001b[1;33m(\u001b[0m\u001b[1;34m'measures_df.pkl'\u001b[0m\u001b[1;33m)\u001b[0m\u001b[1;33m\u001b[0m\u001b[1;33m\u001b[0m\u001b[0m\n\u001b[0m",
      "\u001b[1;32mc:\\users\\user\\s_sprechstile_eigene\\venv\\lib\\site-packages\\pandas\\io\\pickle.py\u001b[0m in \u001b[0;36mread_pickle\u001b[1;34m(filepath_or_buffer, compression, storage_options)\u001b[0m\n\u001b[0;32m    183\u001b[0m     \"\"\"\n\u001b[0;32m    184\u001b[0m     \u001b[0mexcs_to_catch\u001b[0m \u001b[1;33m=\u001b[0m \u001b[1;33m(\u001b[0m\u001b[0mAttributeError\u001b[0m\u001b[1;33m,\u001b[0m \u001b[0mImportError\u001b[0m\u001b[1;33m,\u001b[0m \u001b[0mModuleNotFoundError\u001b[0m\u001b[1;33m,\u001b[0m \u001b[0mTypeError\u001b[0m\u001b[1;33m)\u001b[0m\u001b[1;33m\u001b[0m\u001b[1;33m\u001b[0m\u001b[0m\n\u001b[1;32m--> 185\u001b[1;33m     with get_handle(\n\u001b[0m\u001b[0;32m    186\u001b[0m         \u001b[0mfilepath_or_buffer\u001b[0m\u001b[1;33m,\u001b[0m\u001b[1;33m\u001b[0m\u001b[1;33m\u001b[0m\u001b[0m\n\u001b[0;32m    187\u001b[0m         \u001b[1;34m\"rb\"\u001b[0m\u001b[1;33m,\u001b[0m\u001b[1;33m\u001b[0m\u001b[1;33m\u001b[0m\u001b[0m\n",
      "\u001b[1;32mc:\\users\\user\\s_sprechstile_eigene\\venv\\lib\\site-packages\\pandas\\io\\common.py\u001b[0m in \u001b[0;36mget_handle\u001b[1;34m(path_or_buf, mode, encoding, compression, memory_map, is_text, errors, storage_options)\u001b[0m\n\u001b[0;32m    649\u001b[0m         \u001b[1;32melse\u001b[0m\u001b[1;33m:\u001b[0m\u001b[1;33m\u001b[0m\u001b[1;33m\u001b[0m\u001b[0m\n\u001b[0;32m    650\u001b[0m             \u001b[1;31m# Binary mode\u001b[0m\u001b[1;33m\u001b[0m\u001b[1;33m\u001b[0m\u001b[1;33m\u001b[0m\u001b[0m\n\u001b[1;32m--> 651\u001b[1;33m             \u001b[0mhandle\u001b[0m \u001b[1;33m=\u001b[0m \u001b[0mopen\u001b[0m\u001b[1;33m(\u001b[0m\u001b[0mhandle\u001b[0m\u001b[1;33m,\u001b[0m \u001b[0mioargs\u001b[0m\u001b[1;33m.\u001b[0m\u001b[0mmode\u001b[0m\u001b[1;33m)\u001b[0m\u001b[1;33m\u001b[0m\u001b[1;33m\u001b[0m\u001b[0m\n\u001b[0m\u001b[0;32m    652\u001b[0m         \u001b[0mhandles\u001b[0m\u001b[1;33m.\u001b[0m\u001b[0mappend\u001b[0m\u001b[1;33m(\u001b[0m\u001b[0mhandle\u001b[0m\u001b[1;33m)\u001b[0m\u001b[1;33m\u001b[0m\u001b[1;33m\u001b[0m\u001b[0m\n\u001b[0;32m    653\u001b[0m \u001b[1;33m\u001b[0m\u001b[0m\n",
      "\u001b[1;31mFileNotFoundError\u001b[0m: [Errno 2] No such file or directory: 'measures_df.pkl'"
     ]
    }
   ],
   "source": [
    "measures_df = pd.read_pickle('measures_df.pkl')\n",
    "# muss vorher im anderen dokumet als measures_df.pkl definiert bzw benannt werden"
   ]
  },
  {
   "cell_type": "code",
   "execution_count": null,
   "id": "889c51f0",
   "metadata": {},
   "outputs": [],
   "source": [
    "measures_df.head(2)"
   ]
  }
 ],
 "metadata": {
  "kernelspec": {
   "display_name": "Python 3",
   "language": "python",
   "name": "python3"
  },
  "language_info": {
   "codemirror_mode": {
    "name": "ipython",
    "version": 3
   },
   "file_extension": ".py",
   "mimetype": "text/x-python",
   "name": "python",
   "nbconvert_exporter": "python",
   "pygments_lexer": "ipython3",
   "version": "3.9.5"
  }
 },
 "nbformat": 4,
 "nbformat_minor": 5
}
