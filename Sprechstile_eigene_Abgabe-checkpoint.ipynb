{
 "cells": [
  {
   "cell_type": "markdown",
   "id": "46d10d76",
   "metadata": {},
   "source": [
    "# Sprechstile_eigene\n",
    "### von Lisa Wegner\n"
   ]
  },
  {
   "cell_type": "markdown",
   "id": "2f96fffc",
   "metadata": {},
   "source": [
    "## Rede\n",
    "    1. Thema für die Rede auswählen\n",
    "    2. 3 Minuten Rede über Zoom aufnehmen\n",
    "    3. Herr Burckhardt wandelt die Rede in eine .wav Datei um\n",
    "    4. Rede wird von Herrn Burckhardt mit auvad segmentiert\n",
    "    5. Herr Burckhardt schickt mir die Semgente"
   ]
  },
  {
   "cell_type": "markdown",
   "id": "4632593c",
   "metadata": {},
   "source": [
    "## Downloads\n",
    "\n",
    "Zum annotieren der Segmente werden weitere Tools benötigt.\n",
    "Diese sind von [Github](https://github.com/felixbur/Speechalyzer) runterzuladen.\n",
    "\n",
    "    * Speechalyzer -> Sample rate muss auf 16000 Hz und audio format auf .wav geändert werden\n",
    "    * Labeltool -> veränderte Labeltool.confic - Version von Herrn Burckhardt verwenden\n",
    "für die beiden Tools wird Java benötigt [hier runterladen](https://www.java.com/de/download/manual.jsp)  "
   ]
  },
  {
   "cell_type": "markdown",
   "id": "7775a472",
   "metadata": {},
   "source": [
    "## Annotieren\n",
    "\n",
    "    * in der Shell müssen nun Speechalyzer und Labeltool gestartet werden\n",
    "    * dann werden die Segmente der Rede in das Labeltool geladen und können annotiert werden\n",
    "    * annotierte Segmente werden im gleichen Ordner als .txt gespeichert"
   ]
  },
  {
   "cell_type": "markdown",
   "id": "8baa9885",
   "metadata": {},
   "source": [
    "# Segmente und Annotationen"
   ]
  },
  {
   "cell_type": "code",
   "execution_count": 1,
   "id": "58323e44",
   "metadata": {},
   "outputs": [
    {
     "name": "stdout",
     "output_type": "stream",
     "text": [
      " Datentr„ger in Laufwerk C: ist Acer\n",
      " Volumeseriennummer: BC07-5B18\n",
      "\n",
      " Verzeichnis von C:\\Users\\User\\S_sprechstile_eigene\\Wegner\n",
      "\n",
      "18.05.2021  15:04    <DIR>          .\n",
      "18.05.2021  15:04    <DIR>          ..\n",
      "06.05.2021  13:28                68 Wegner_16_seg_00000000.txt\n",
      "27.04.2021  15:23           214.124 Wegner_16_seg_00000000.wav\n",
      "06.05.2021  13:28                68 Wegner_16_seg_00000001.txt\n",
      "27.04.2021  15:23            57.004 Wegner_16_seg_00000001.wav\n",
      "06.05.2021  13:28                68 Wegner_16_seg_00000002.txt\n",
      "27.04.2021  15:23            93.484 Wegner_16_seg_00000002.wav\n",
      "06.05.2021  13:28                68 Wegner_16_seg_00000003.txt\n",
      "27.04.2021  15:23           196.204 Wegner_16_seg_00000003.wav\n",
      "06.05.2021  13:28                68 Wegner_16_seg_00000004.txt\n",
      "27.04.2021  15:23           140.204 Wegner_16_seg_00000004.wav\n",
      "06.05.2021  13:28                68 Wegner_16_seg_00000005.txt\n",
      "27.04.2021  15:23           119.084 Wegner_16_seg_00000005.wav\n",
      "06.05.2021  13:29                68 Wegner_16_seg_00000006.txt\n",
      "27.04.2021  15:23            78.764 Wegner_16_seg_00000006.wav\n",
      "06.05.2021  13:29                68 Wegner_16_seg_00000007.txt\n",
      "27.04.2021  15:23           121.004 Wegner_16_seg_00000007.wav\n",
      "06.05.2021  13:29                68 Wegner_16_seg_00000008.txt\n",
      "27.04.2021  15:23           127.404 Wegner_16_seg_00000008.wav\n",
      "06.05.2021  13:29                68 Wegner_16_seg_00000009.txt\n",
      "27.04.2021  15:23            86.444 Wegner_16_seg_00000009.wav\n",
      "06.05.2021  13:29                68 Wegner_16_seg_00000010.txt\n",
      "27.04.2021  15:23           135.084 Wegner_16_seg_00000010.wav\n",
      "06.05.2021  13:29                68 Wegner_16_seg_00000011.txt\n",
      "27.04.2021  15:23           221.804 Wegner_16_seg_00000011.wav\n",
      "06.05.2021  13:29                68 Wegner_16_seg_00000012.txt\n",
      "27.04.2021  15:23           222.764 Wegner_16_seg_00000012.wav\n",
      "06.05.2021  13:29                68 Wegner_16_seg_00000013.txt\n",
      "27.04.2021  15:23            39.724 Wegner_16_seg_00000013.wav\n",
      "06.05.2021  13:29                68 Wegner_16_seg_00000014.txt\n",
      "27.04.2021  15:23           183.084 Wegner_16_seg_00000014.wav\n",
      "06.05.2021  13:29                68 Wegner_16_seg_00000015.txt\n",
      "27.04.2021  15:23           222.764 Wegner_16_seg_00000015.wav\n",
      "06.05.2021  13:30                68 Wegner_16_seg_00000016.txt\n",
      "27.04.2021  15:23            55.084 Wegner_16_seg_00000016.wav\n",
      "06.05.2021  13:30                68 Wegner_16_seg_00000017.txt\n",
      "27.04.2021  15:23            48.044 Wegner_16_seg_00000017.wav\n",
      "06.05.2021  13:30                68 Wegner_16_seg_00000018.txt\n",
      "27.04.2021  15:23           201.324 Wegner_16_seg_00000018.wav\n",
      "06.05.2021  13:30                68 Wegner_16_seg_00000019.txt\n",
      "27.04.2021  15:23            35.884 Wegner_16_seg_00000019.wav\n",
      "06.05.2021  13:30                68 Wegner_16_seg_00000020.txt\n",
      "27.04.2021  15:23           222.764 Wegner_16_seg_00000020.wav\n",
      "06.05.2021  13:30                68 Wegner_16_seg_00000021.txt\n",
      "27.04.2021  15:23           120.364 Wegner_16_seg_00000021.wav\n",
      "06.05.2021  13:30                68 Wegner_16_seg_00000022.txt\n",
      "27.04.2021  15:23            93.484 Wegner_16_seg_00000022.wav\n",
      "06.05.2021  13:30                68 Wegner_16_seg_00000023.txt\n",
      "27.04.2021  15:23           209.644 Wegner_16_seg_00000023.wav\n",
      "06.05.2021  13:30                68 Wegner_16_seg_00000024.txt\n",
      "27.04.2021  15:23            69.804 Wegner_16_seg_00000024.wav\n",
      "06.05.2021  13:30                68 Wegner_16_seg_00000025.txt\n",
      "27.04.2021  15:23           160.044 Wegner_16_seg_00000025.wav\n",
      "06.05.2021  13:30                68 Wegner_16_seg_00000026.txt\n",
      "27.04.2021  15:23           216.044 Wegner_16_seg_00000026.wav\n",
      "06.05.2021  13:31                68 Wegner_16_seg_00000027.txt\n",
      "27.04.2021  15:23           170.284 Wegner_16_seg_00000027.wav\n",
      "06.05.2021  13:31                68 Wegner_16_seg_00000028.txt\n",
      "27.04.2021  15:23           214.764 Wegner_16_seg_00000028.wav\n",
      "06.05.2021  13:31                68 Wegner_16_seg_00000029.txt\n",
      "27.04.2021  15:23           191.724 Wegner_16_seg_00000029.wav\n",
      "06.05.2021  13:31                68 Wegner_16_seg_00000030.txt\n",
      "27.04.2021  15:23           191.084 Wegner_16_seg_00000030.wav\n",
      "06.05.2021  13:31                68 Wegner_16_seg_00000031.txt\n",
      "27.04.2021  15:23           222.764 Wegner_16_seg_00000031.wav\n",
      "06.05.2021  13:31                68 Wegner_16_seg_00000032.txt\n",
      "27.04.2021  15:23            37.804 Wegner_16_seg_00000032.wav\n",
      "06.05.2021  13:31                68 Wegner_16_seg_00000033.txt\n",
      "27.04.2021  15:23           156.844 Wegner_16_seg_00000033.wav\n",
      "06.05.2021  13:31                68 Wegner_16_seg_00000034.txt\n",
      "27.04.2021  15:23            32.044 Wegner_16_seg_00000034.wav\n",
      "06.05.2021  13:31                68 Wegner_16_seg_00000035.txt\n",
      "27.04.2021  15:23           203.884 Wegner_16_seg_00000035.wav\n",
      "06.05.2021  13:31                68 Wegner_16_seg_00000036.txt\n",
      "27.04.2021  15:23           222.764 Wegner_16_seg_00000036.wav\n",
      "06.05.2021  13:32                68 Wegner_16_seg_00000037.txt\n",
      "27.04.2021  15:23           117.164 Wegner_16_seg_00000037.wav\n",
      "06.05.2021  13:32                68 Wegner_16_seg_00000038.txt\n",
      "27.04.2021  15:23           142.764 Wegner_16_seg_00000038.wav\n",
      "06.05.2021  13:32                68 Wegner_16_seg_00000039.txt\n",
      "27.04.2021  15:23           202.604 Wegner_16_seg_00000039.wav\n",
      "06.05.2021  13:32                68 Wegner_16_seg_00000040.txt\n",
      "27.04.2021  15:23           156.844 Wegner_16_seg_00000040.wav\n",
      "              82 Datei(en),      5.957.552 Bytes\n",
      "               2 Verzeichnis(se), 923.814.047.744 Bytes frei\n"
     ]
    }
   ],
   "source": [
    "!dir Wegner"
   ]
  },
  {
   "cell_type": "code",
   "execution_count": 2,
   "id": "98bfac05",
   "metadata": {},
   "outputs": [
    {
     "ename": "ModuleNotFoundError",
     "evalue": "No module named 'parselmouth'",
     "output_type": "error",
     "traceback": [
      "\u001b[1;31m---------------------------------------------------------------------------\u001b[0m",
      "\u001b[1;31mModuleNotFoundError\u001b[0m                       Traceback (most recent call last)",
      "\u001b[1;32m<ipython-input-2-d5360b5e86e5>\u001b[0m in \u001b[0;36m<module>\u001b[1;34m\u001b[0m\n\u001b[0;32m      1\u001b[0m \u001b[1;32mimport\u001b[0m \u001b[0mpandas\u001b[0m \u001b[1;32mas\u001b[0m \u001b[0mpd\u001b[0m\u001b[1;33m\u001b[0m\u001b[1;33m\u001b[0m\u001b[0m\n\u001b[1;32m----> 2\u001b[1;33m \u001b[1;32mfrom\u001b[0m \u001b[0mparselmouth\u001b[0m \u001b[1;32mimport\u001b[0m \u001b[0mpraat\u001b[0m\u001b[1;33m\u001b[0m\u001b[1;33m\u001b[0m\u001b[0m\n\u001b[0m\u001b[0;32m      3\u001b[0m \u001b[1;32mimport\u001b[0m \u001b[0mopensmile\u001b[0m\u001b[1;33m\u001b[0m\u001b[1;33m\u001b[0m\u001b[0m\n\u001b[0;32m      4\u001b[0m \u001b[1;32mimport\u001b[0m \u001b[0maudiofile\u001b[0m\u001b[1;33m\u001b[0m\u001b[1;33m\u001b[0m\u001b[0m\n",
      "\u001b[1;31mModuleNotFoundError\u001b[0m: No module named 'parselmouth'"
     ]
    }
   ],
   "source": [
    "import pandas as pd \n",
    "from parselmouth import praat\n",
    "import opensmile\n",
    "import audiofile"
   ]
  },
  {
   "cell_type": "markdown",
   "id": "5edbdb5b",
   "metadata": {},
   "source": [
    "# Analyse"
   ]
  },
  {
   "cell_type": "code",
   "execution_count": 3,
   "id": "cf95e5b4",
   "metadata": {},
   "outputs": [],
   "source": [
    "import matplotlib.pyplot as plt\n",
    "import pandas as pd"
   ]
  },
  {
   "cell_type": "code",
   "execution_count": 4,
   "id": "74f1a3ef",
   "metadata": {},
   "outputs": [
    {
     "name": "stderr",
     "output_type": "stream",
     "text": [
      "Der Befehl \"pwd\" ist entweder falsch geschrieben oder\n",
      "konnte nicht gefunden werden.\n"
     ]
    }
   ],
   "source": [
    "! pwd"
   ]
  },
  {
   "cell_type": "code",
   "execution_count": 5,
   "id": "a7f359a4",
   "metadata": {},
   "outputs": [],
   "source": [
    "df = pd.read_csv('labels.txt', sep=' ', header=None)"
   ]
  },
  {
   "cell_type": "markdown",
   "id": "812095aa",
   "metadata": {},
   "source": [
    "## anzeigen lassen, wie viele Zeilen und Spalten es gibt"
   ]
  },
  {
   "cell_type": "code",
   "execution_count": 6,
   "id": "e8dbbbf6",
   "metadata": {},
   "outputs": [
    {
     "data": {
      "text/plain": [
       "(41, 2)"
      ]
     },
     "execution_count": 6,
     "metadata": {},
     "output_type": "execute_result"
    }
   ],
   "source": [
    "df.shape"
   ]
  },
  {
   "cell_type": "markdown",
   "id": "65d46562",
   "metadata": {},
   "source": [
    "## Spalten umbenennen liste ist in eckicgen klammern heist cols und dann umbenennen in eckicken klammern"
   ]
  },
  {
   "cell_type": "code",
   "execution_count": 7,
   "id": "3c1aa976",
   "metadata": {},
   "outputs": [],
   "source": [
    "df.columns = ['file', 'valence']"
   ]
  },
  {
   "cell_type": "code",
   "execution_count": 8,
   "id": "4026cea4",
   "metadata": {},
   "outputs": [],
   "source": [
    "df = df.set_index('file')"
   ]
  },
  {
   "cell_type": "code",
   "execution_count": 9,
   "id": "f6ae6cc7",
   "metadata": {},
   "outputs": [
    {
     "data": {
      "text/html": [
       "<div>\n",
       "<style scoped>\n",
       "    .dataframe tbody tr th:only-of-type {\n",
       "        vertical-align: middle;\n",
       "    }\n",
       "\n",
       "    .dataframe tbody tr th {\n",
       "        vertical-align: top;\n",
       "    }\n",
       "\n",
       "    .dataframe thead th {\n",
       "        text-align: right;\n",
       "    }\n",
       "</style>\n",
       "<table border=\"1\" class=\"dataframe\">\n",
       "  <thead>\n",
       "    <tr style=\"text-align: right;\">\n",
       "      <th></th>\n",
       "      <th>valence</th>\n",
       "    </tr>\n",
       "    <tr>\n",
       "      <th>file</th>\n",
       "      <th></th>\n",
       "    </tr>\n",
       "  </thead>\n",
       "  <tbody>\n",
       "    <tr>\n",
       "      <th>C:\\Users\\User\\sprechstile_eigene\\Speechalyzer-master\\Wegner\\Wegner_16_seg_00000000.wav</th>\n",
       "      <td>4.0</td>\n",
       "    </tr>\n",
       "  </tbody>\n",
       "</table>\n",
       "</div>"
      ],
      "text/plain": [
       "                                                    valence\n",
       "file                                                       \n",
       "C:\\Users\\User\\sprechstile_eigene\\Speechalyzer-m...      4.0"
      ]
     },
     "execution_count": 9,
     "metadata": {},
     "output_type": "execute_result"
    }
   ],
   "source": [
    "df.head(1)"
   ]
  },
  {
   "cell_type": "code",
   "execution_count": 20,
   "id": "c08b6023",
   "metadata": {},
   "outputs": [
    {
     "data": {
      "text/plain": [
       "file\n",
       "C:\\Users\\User\\sprechstile_eigene\\Speechalyzer-master\\Wegner\\Wegner_16_seg_00000000.wav    4.0\n",
       "C:\\Users\\User\\sprechstile_eigene\\Speechalyzer-master\\Wegner\\Wegner_16_seg_00000001.wav    3.0\n",
       "C:\\Users\\User\\sprechstile_eigene\\Speechalyzer-master\\Wegner\\Wegner_16_seg_00000002.wav    5.0\n",
       "C:\\Users\\User\\sprechstile_eigene\\Speechalyzer-master\\Wegner\\Wegner_16_seg_00000003.wav    2.0\n",
       "C:\\Users\\User\\sprechstile_eigene\\Speechalyzer-master\\Wegner\\Wegner_16_seg_00000004.wav    2.0\n",
       "C:\\Users\\User\\sprechstile_eigene\\Speechalyzer-master\\Wegner\\Wegner_16_seg_00000005.wav    2.0\n",
       "C:\\Users\\User\\sprechstile_eigene\\Speechalyzer-master\\Wegner\\Wegner_16_seg_00000006.wav    1.0\n",
       "C:\\Users\\User\\sprechstile_eigene\\Speechalyzer-master\\Wegner\\Wegner_16_seg_00000007.wav    3.0\n",
       "C:\\Users\\User\\sprechstile_eigene\\Speechalyzer-master\\Wegner\\Wegner_16_seg_00000008.wav    3.0\n",
       "C:\\Users\\User\\sprechstile_eigene\\Speechalyzer-master\\Wegner\\Wegner_16_seg_00000009.wav    3.0\n",
       "C:\\Users\\User\\sprechstile_eigene\\Speechalyzer-master\\Wegner\\Wegner_16_seg_00000010.wav    2.0\n",
       "C:\\Users\\User\\sprechstile_eigene\\Speechalyzer-master\\Wegner\\Wegner_16_seg_00000011.wav    1.0\n",
       "C:\\Users\\User\\sprechstile_eigene\\Speechalyzer-master\\Wegner\\Wegner_16_seg_00000012.wav    3.0\n",
       "C:\\Users\\User\\sprechstile_eigene\\Speechalyzer-master\\Wegner\\Wegner_16_seg_00000013.wav    3.0\n",
       "C:\\Users\\User\\sprechstile_eigene\\Speechalyzer-master\\Wegner\\Wegner_16_seg_00000014.wav    4.0\n",
       "C:\\Users\\User\\sprechstile_eigene\\Speechalyzer-master\\Wegner\\Wegner_16_seg_00000015.wav    5.0\n",
       "C:\\Users\\User\\sprechstile_eigene\\Speechalyzer-master\\Wegner\\Wegner_16_seg_00000016.wav    5.0\n",
       "C:\\Users\\User\\sprechstile_eigene\\Speechalyzer-master\\Wegner\\Wegner_16_seg_00000017.wav    6.0\n",
       "C:\\Users\\User\\sprechstile_eigene\\Speechalyzer-master\\Wegner\\Wegner_16_seg_00000018.wav    5.0\n",
       "C:\\Users\\User\\sprechstile_eigene\\Speechalyzer-master\\Wegner\\Wegner_16_seg_00000019.wav    4.0\n",
       "C:\\Users\\User\\sprechstile_eigene\\Speechalyzer-master\\Wegner\\Wegner_16_seg_00000020.wav    3.0\n",
       "C:\\Users\\User\\sprechstile_eigene\\Speechalyzer-master\\Wegner\\Wegner_16_seg_00000021.wav    3.0\n",
       "C:\\Users\\User\\sprechstile_eigene\\Speechalyzer-master\\Wegner\\Wegner_16_seg_00000022.wav    4.0\n",
       "C:\\Users\\User\\sprechstile_eigene\\Speechalyzer-master\\Wegner\\Wegner_16_seg_00000023.wav    3.0\n",
       "C:\\Users\\User\\sprechstile_eigene\\Speechalyzer-master\\Wegner\\Wegner_16_seg_00000024.wav    4.0\n",
       "C:\\Users\\User\\sprechstile_eigene\\Speechalyzer-master\\Wegner\\Wegner_16_seg_00000025.wav    5.0\n",
       "C:\\Users\\User\\sprechstile_eigene\\Speechalyzer-master\\Wegner\\Wegner_16_seg_00000026.wav    4.0\n",
       "C:\\Users\\User\\sprechstile_eigene\\Speechalyzer-master\\Wegner\\Wegner_16_seg_00000027.wav    4.0\n",
       "C:\\Users\\User\\sprechstile_eigene\\Speechalyzer-master\\Wegner\\Wegner_16_seg_00000028.wav    5.0\n",
       "C:\\Users\\User\\sprechstile_eigene\\Speechalyzer-master\\Wegner\\Wegner_16_seg_00000029.wav    3.0\n",
       "C:\\Users\\User\\sprechstile_eigene\\Speechalyzer-master\\Wegner\\Wegner_16_seg_00000030.wav    2.0\n",
       "C:\\Users\\User\\sprechstile_eigene\\Speechalyzer-master\\Wegner\\Wegner_16_seg_00000031.wav    4.0\n",
       "C:\\Users\\User\\sprechstile_eigene\\Speechalyzer-master\\Wegner\\Wegner_16_seg_00000032.wav    4.0\n",
       "C:\\Users\\User\\sprechstile_eigene\\Speechalyzer-master\\Wegner\\Wegner_16_seg_00000033.wav    3.0\n",
       "C:\\Users\\User\\sprechstile_eigene\\Speechalyzer-master\\Wegner\\Wegner_16_seg_00000034.wav    3.0\n",
       "C:\\Users\\User\\sprechstile_eigene\\Speechalyzer-master\\Wegner\\Wegner_16_seg_00000035.wav    4.0\n",
       "C:\\Users\\User\\sprechstile_eigene\\Speechalyzer-master\\Wegner\\Wegner_16_seg_00000036.wav    6.0\n",
       "C:\\Users\\User\\sprechstile_eigene\\Speechalyzer-master\\Wegner\\Wegner_16_seg_00000037.wav    6.0\n",
       "C:\\Users\\User\\sprechstile_eigene\\Speechalyzer-master\\Wegner\\Wegner_16_seg_00000038.wav    5.0\n",
       "C:\\Users\\User\\sprechstile_eigene\\Speechalyzer-master\\Wegner\\Wegner_16_seg_00000039.wav    3.0\n",
       "C:\\Users\\User\\sprechstile_eigene\\Speechalyzer-master\\Wegner\\Wegner_16_seg_00000040.wav    4.0\n",
       "Name: valence, dtype: float64"
      ]
     },
     "execution_count": 20,
     "metadata": {},
     "output_type": "execute_result"
    }
   ],
   "source": [
    "df.valence"
   ]
  },
  {
   "cell_type": "code",
   "execution_count": 12,
   "id": "d0b5de73",
   "metadata": {},
   "outputs": [
    {
     "data": {
      "text/plain": [
       "pandas.core.series.Series"
      ]
     },
     "execution_count": 12,
     "metadata": {},
     "output_type": "execute_result"
    }
   ],
   "source": [
    "type(df.valence)"
   ]
  },
  {
   "cell_type": "code",
   "execution_count": 11,
   "id": "ea6d7ff1",
   "metadata": {},
   "outputs": [
    {
     "data": {
      "text/plain": [
       "<AxesSubplot:xlabel='file'>"
      ]
     },
     "execution_count": 11,
     "metadata": {},
     "output_type": "execute_result"
    },
    {
     "data": {
      "image/png": "[encoded data removed]",
      "text/plain": [
       "<Figure size 432x288 with 1 Axes>"
      ]
     },
     "metadata": {
      "needs_background": "light"
     },
     "output_type": "display_data"
    }
   ],
   "source": [
    "df.plot()"
   ]
  },
  {
   "cell_type": "code",
   "execution_count": 19,
   "id": "94184296",
   "metadata": {},
   "outputs": [
    {
     "data": {
      "text/plain": [
       "<AxesSubplot:>"
      ]
     },
     "execution_count": 19,
     "metadata": {},
     "output_type": "execute_result"
    },
    {
     "data": {
      "image/png": "[encoded data removed]",
      "text/plain": [
       "<Figure size 432x288 with 1 Axes>"
      ]
     },
     "metadata": {},
     "output_type": "display_data"
    }
   ],
   "source": [
    "df.valence.value_counts().sort_index().plot(kind='bar')"
   ]
  },
  {
   "cell_type": "markdown",
   "id": "efae82da",
   "metadata": {},
   "source": [
    "- über sort_index() werden die Zahlen der X-Achse sortiert"
   ]
  },
  {
   "cell_type": "code",
   "execution_count": 14,
   "id": "a7b9f85b",
   "metadata": {},
   "outputs": [
    {
     "data": {
      "text/plain": [
       "<AxesSubplot:ylabel='Density'>"
      ]
     },
     "execution_count": 14,
     "metadata": {},
     "output_type": "execute_result"
    },
    {
     "data": {
      "image/png": "[encoded data removed]",
      "text/plain": [
       "<Figure size 432x288 with 1 Axes>"
      ]
     },
     "metadata": {
      "needs_background": "light"
     },
     "output_type": "display_data"
    }
   ],
   "source": [
    "df.valence.value_counts().plot(kind='kde')"
   ]
  },
  {
   "cell_type": "code",
   "execution_count": 15,
   "id": "c08d0388",
   "metadata": {},
   "outputs": [
    {
     "name": "stdout",
     "output_type": "stream",
     "text": [
      "<class 'pandas.core.frame.DataFrame'>\n",
      "Index: 41 entries, C:\\Users\\User\\sprechstile_eigene\\Speechalyzer-master\\Wegner\\Wegner_16_seg_00000000.wav to C:\\Users\\User\\sprechstile_eigene\\Speechalyzer-master\\Wegner\\Wegner_16_seg_00000040.wav\n",
      "Data columns (total 1 columns):\n",
      " #   Column   Non-Null Count  Dtype  \n",
      "---  ------   --------------  -----  \n",
      " 0   valence  41 non-null     float64\n",
      "dtypes: float64(1)\n",
      "memory usage: 656.0+ bytes\n"
     ]
    }
   ],
   "source": [
    "df.info()"
   ]
  },
  {
   "cell_type": "markdown",
   "id": "3be85bc7",
   "metadata": {},
   "source": [
    "- ein aussagekräftigeres Tool ist: seaborn\n",
    "- es gibt einen Violinplot auf Grundlage der Mittelwerte aus"
   ]
  },
  {
   "cell_type": "code",
   "execution_count": 16,
   "id": "c0bb88c2",
   "metadata": {},
   "outputs": [],
   "source": [
    "import seaborn as sns"
   ]
  },
  {
   "cell_type": "code",
   "execution_count": 17,
   "id": "4f671ea3",
   "metadata": {},
   "outputs": [],
   "source": [
    "sns.set_theme(style=\"whitegrid\")"
   ]
  },
  {
   "cell_type": "code",
   "execution_count": 18,
   "id": "378ad9c5",
   "metadata": {},
   "outputs": [
    {
     "data": {
      "image/png": "[encoded data removed]",
      "text/plain": [
       "<Figure size 432x288 with 1 Axes>"
      ]
     },
     "metadata": {},
     "output_type": "display_data"
    }
   ],
   "source": [
    "ax=sns.violinplot(x=df.valence)"
   ]
  },
  {
   "cell_type": "markdown",
   "id": "b47cebab",
   "metadata": {},
   "source": []
  }
 ],
 "metadata": {
  "kernelspec": {
   "display_name": "Python 3",
   "language": "python",
   "name": "python3"
  },
  "language_info": {
   "codemirror_mode": {
    "name": "ipython",
    "version": 3
   },
   "file_extension": ".py",
   "mimetype": "text/x-python",
   "name": "python",
   "nbconvert_exporter": "python",
   "pygments_lexer": "ipython3",
   "version": "3.9.5"
  }
 },
 "nbformat": 4,
 "nbformat_minor": 5
}
