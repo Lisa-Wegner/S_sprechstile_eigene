{
 "cells": [
  {
   "cell_type": "markdown",
   "id": "46d10d76",
   "metadata": {},
   "source": [
    "# Sprechstile_eigene\n",
    "### von Lisa Wegner\n",
    "#### Matrikelnummer: 462022"
   ]
  },
  {
   "cell_type": "markdown",
   "id": "2f96fffc",
   "metadata": {},
   "source": [
    "## Vorgehensweise\n",
    "    1. Thema für eine Rede auswählen, möglichst ein emotionales Thema (ursprünglicher Gedanke: Aufregung)\n",
    "    2. 3 Minuten Rede über Zoom aufnehmen\n",
    "    3. Herr Burckhardt wandelt die Rede in eine .wav Datei um\n",
    "    4. Rede wird von Herrn Burckhardt mit auvad segmentiert\n",
    "    5. Herr Burckhardt schickt mir die Semgente\n",
    "    6. Segmente annotieren\n",
    "    7. Analysen mit den Segmenten im Jupyter Notebook"
   ]
  },
  {
   "cell_type": "markdown",
   "id": "4632593c",
   "metadata": {},
   "source": [
    "## Downloads für die Annotationen\n",
    "\n",
    "Zum annotieren der Segmente werden weitere Tools benötigt.\n",
    "Diese sind von [Github](https://github.com/felixbur/Speechalyzer) runterzuladen.\n",
    "\n",
    "    * Speechalyzer -> Sample rate muss auf 16000 Hz und das Audioformat auf .wav geändert werden\n",
    "    * Labeltool -> veränderte Labeltool.confic - Version von Herrn Burckhardt verwenden\n",
    "für die beiden Tools wird Java benötigt: [hier runterladen](https://www.java.com/de/download/manual.jsp)  "
   ]
  },
  {
   "cell_type": "markdown",
   "id": "7775a472",
   "metadata": {},
   "source": [
    "## Annotieren\n",
    "\n",
    "    * in der Shell müssen nun Speechalyzer und Labeltool gestartet werden\n",
    "    * dann werden die Segmente der Rede in das Labeltool geladen und können annotiert werden\n",
    "    * annotiert wird die Valence auf einer Skala von 1-6\n",
    "    * annotierte Segmente werden im gleichen Ordner als .txt gespeichert"
   ]
  },
  {
   "cell_type": "markdown",
   "id": "8baa9885",
   "metadata": {},
   "source": [
    "# Segmente und Annotationen"
   ]
  },
  {
   "cell_type": "code",
   "execution_count": null,
   "id": "58323e44",
   "metadata": {},
   "outputs": [],
   "source": [
    "!dir Wegner"
   ]
  },
  {
   "cell_type": "markdown",
   "id": "429c60b9",
   "metadata": {},
   "source": [
    "# Downloads für die weitere Analyse"
   ]
  },
  {
   "cell_type": "markdown",
   "id": "0bdd2141",
   "metadata": {},
   "source": [
    "* in der Shell müssen über den Befehl \"pip install xyz\" folgende Programme installiert werden:\n",
    "    \n",
    "    1. Pandas\n",
    "    2. Parselmouth\n",
    "    3. Opensmile\n",
    "    4. Audiofile\n",
    "    5. Matplotlib.pyplot\n",
    "    6. Seaborn\n",
    "    7. IPython.display\n",
    "    8. librosa\n",
    "    9. IPython\n",
    "    10. Scipy.stat\n",
    "    11. Numpy\n",
    "    \n",
    "\n",
    "* außerdem sollte [sox](https://sourceforge.net/projects/sox/) auf dem Computer installiert werden"
   ]
  },
  {
   "cell_type": "markdown",
   "id": "5edbdb5b",
   "metadata": {},
   "source": [
    "# Analyse"
   ]
  },
  {
   "cell_type": "markdown",
   "id": "1683d0e7",
   "metadata": {},
   "source": [
    "* alle Imports für die Analysen:"
   ]
  },
  {
   "cell_type": "code",
   "execution_count": 2,
   "id": "cf95e5b4",
   "metadata": {},
   "outputs": [],
   "source": [
    "import pandas as pd\n",
    "from parselmouth import praat\n",
    "import opensmile\n",
    "import audiofile\n",
    "import matplotlib.pyplot as plt\n",
    "import os\n",
    "import IPython.display as ipd\n",
    "import librosa\n",
    "import IPython\n",
    "import seaborn as sns\n",
    "from scipy.stats import pearsonr\n",
    "import numpy as np"
   ]
  },
  {
   "cell_type": "code",
   "execution_count": null,
   "id": "74f1a3ef",
   "metadata": {},
   "outputs": [],
   "source": [
    "pwd"
   ]
  },
  {
   "cell_type": "markdown",
   "id": "181198ad",
   "metadata": {},
   "source": [
    "* Einlesen von Datenwerten in einen Datenframe: Variable wurde \"df\" genannt\n",
    "* lese ein comma seperatetd valua ein (csv)"
   ]
  },
  {
   "cell_type": "code",
   "execution_count": 3,
   "id": "a7f359a4",
   "metadata": {},
   "outputs": [],
   "source": [
    "df = pd.read_csv('labels.txt', sep=' ', header=None)"
   ]
  },
  {
   "cell_type": "markdown",
   "id": "812095aa",
   "metadata": {},
   "source": [
    "### Anzeigen lassen, wie viele Zeilen und Spalten es gibt:"
   ]
  },
  {
   "cell_type": "code",
   "execution_count": null,
   "id": "e8dbbbf6",
   "metadata": {},
   "outputs": [],
   "source": [
    "df.shape"
   ]
  },
  {
   "cell_type": "markdown",
   "id": "65d46562",
   "metadata": {},
   "source": [
    "### Spalten umbenennen: in eckicke Klammern den Namen eingeben\n",
    "* \"file\" soll der Index sein"
   ]
  },
  {
   "cell_type": "code",
   "execution_count": 4,
   "id": "3c1aa976",
   "metadata": {},
   "outputs": [],
   "source": [
    "df.columns = ['file', 'valence']"
   ]
  },
  {
   "cell_type": "code",
   "execution_count": 5,
   "id": "4026cea4",
   "metadata": {},
   "outputs": [],
   "source": [
    "df = df.set_index('file')"
   ]
  },
  {
   "cell_type": "markdown",
   "id": "ea60e0f6",
   "metadata": {},
   "source": [
    "* die Verämderung mal anschauen, aber nur die erste Zeile (über die .head-Funktion)"
   ]
  },
  {
   "cell_type": "code",
   "execution_count": null,
   "id": "f6ae6cc7",
   "metadata": {},
   "outputs": [],
   "source": [
    "df.head(1)"
   ]
  },
  {
   "cell_type": "code",
   "execution_count": null,
   "id": "c08b6023",
   "metadata": {},
   "outputs": [],
   "source": [
    "df.valence"
   ]
  },
  {
   "cell_type": "markdown",
   "id": "8cee71c3",
   "metadata": {},
   "source": [
    "### Den Pfadnamen einkürzen:\n",
    "   * die Funktion os.path.basename kürzt den Namen ein\n",
    "   * Pfad wird eingekürz und nur der Name bleibt stehen"
   ]
  },
  {
   "cell_type": "code",
   "execution_count": 6,
   "id": "da66ca75",
   "metadata": {},
   "outputs": [
    {
     "data": {
      "text/html": [
       "<div>\n",
       "<style scoped>\n",
       "    .dataframe tbody tr th:only-of-type {\n",
       "        vertical-align: middle;\n",
       "    }\n",
       "\n",
       "    .dataframe tbody tr th {\n",
       "        vertical-align: top;\n",
       "    }\n",
       "\n",
       "    .dataframe thead th {\n",
       "        text-align: right;\n",
       "    }\n",
       "</style>\n",
       "<table border=\"1\" class=\"dataframe\">\n",
       "  <thead>\n",
       "    <tr style=\"text-align: right;\">\n",
       "      <th></th>\n",
       "      <th>valence</th>\n",
       "    </tr>\n",
       "    <tr>\n",
       "      <th>file</th>\n",
       "      <th></th>\n",
       "    </tr>\n",
       "  </thead>\n",
       "  <tbody>\n",
       "    <tr>\n",
       "      <th>Wegner_16_seg_00000000.wav</th>\n",
       "      <td>4.0</td>\n",
       "    </tr>\n",
       "    <tr>\n",
       "      <th>Wegner_16_seg_00000001.wav</th>\n",
       "      <td>3.0</td>\n",
       "    </tr>\n",
       "    <tr>\n",
       "      <th>Wegner_16_seg_00000002.wav</th>\n",
       "      <td>5.0</td>\n",
       "    </tr>\n",
       "    <tr>\n",
       "      <th>Wegner_16_seg_00000003.wav</th>\n",
       "      <td>2.0</td>\n",
       "    </tr>\n",
       "  </tbody>\n",
       "</table>\n",
       "</div>"
      ],
      "text/plain": [
       "                            valence\n",
       "file                               \n",
       "Wegner_16_seg_00000000.wav      4.0\n",
       "Wegner_16_seg_00000001.wav      3.0\n",
       "Wegner_16_seg_00000002.wav      5.0\n",
       "Wegner_16_seg_00000003.wav      2.0"
      ]
     },
     "execution_count": 6,
     "metadata": {},
     "output_type": "execute_result"
    }
   ],
   "source": [
    "def rel_path(x):\n",
    "    return os.path.basename(x)\n",
    "df.index = df.index.to_series().apply(lambda x: rel_path(x))\n",
    "df.head(4)"
   ]
  },
  {
   "cell_type": "markdown",
   "id": "bb41f871",
   "metadata": {},
   "source": [
    "* die Audiodateinen abspielen:\n",
    "* eigene Ideen zum Abspielen und visualisieren: 1 Variante"
   ]
  },
  {
   "cell_type": "code",
   "execution_count": null,
   "id": "ff7c0985",
   "metadata": {},
   "outputs": [],
   "source": [
    "%matplotlib inline\n",
    "\n",
    "def print_plot_play(x, Fs, text=''):\n",
    "    \"\"\"1. Prints information about an audio singal, 2. plots the waveform, and 3. Creates player\n",
    "    \n",
    "    Notebook: C1/B_PythonAudio.ipynb\n",
    "    \n",
    "    Args: \n",
    "        x: Input signal\n",
    "        Fs: Sampling rate of x    \n",
    "        text: Text to print\n",
    "    \"\"\"\n",
    "    print('%s Fs = %d, x.shape = %s, x.dtype = %s' % (text, Fs, x.shape, x.dtype))\n",
    "    plt.figure(figsize=(8, 2))\n",
    "    plt.plot(x, color='gray')\n",
    "    plt.xlim([0, x.shape[0]])\n",
    "    plt.xlabel('Time (samples)')\n",
    "    plt.ylabel('Amplitude')\n",
    "    plt.tight_layout()\n",
    "    plt.show()\n",
    "    ipd.display(ipd.Audio(data=x, rate=Fs))\n",
    "\n",
    "# Read wav\n",
    "fn_wav = os.path.join('Wegner/Wegner_16_seg_00000001.wav')\n",
    "x, Fs = librosa.load(fn_wav, sr=None)\n",
    "print_plot_play(x=x, Fs=Fs, text='WAV file: ')\n"
   ]
  },
  {
   "cell_type": "code",
   "execution_count": null,
   "id": "45deae25",
   "metadata": {},
   "outputs": [],
   "source": [
    "IPython.display.Audio('Wegner/Wegner_16_seg_00000001.wav')"
   ]
  },
  {
   "cell_type": "markdown",
   "id": "f52e4e37",
   "metadata": {},
   "source": [
    "# weitere Analysen mit Visualisierungen mit Pandas"
   ]
  },
  {
   "cell_type": "code",
   "execution_count": 7,
   "id": "d0b5de73",
   "metadata": {},
   "outputs": [
    {
     "data": {
      "text/plain": [
       "pandas.core.series.Series"
      ]
     },
     "execution_count": 7,
     "metadata": {},
     "output_type": "execute_result"
    }
   ],
   "source": [
    "type(df.valence)"
   ]
  },
  {
   "cell_type": "markdown",
   "id": "0e6c5f79",
   "metadata": {},
   "source": [
    "* alle Werte plotten, allerdings ist diese Grafik nicht sehr aussagekräftig"
   ]
  },
  {
   "cell_type": "code",
   "execution_count": 8,
   "id": "ea6d7ff1",
   "metadata": {},
   "outputs": [
    {
     "data": {
      "text/plain": [
       "<AxesSubplot:xlabel='file'>"
      ]
     },
     "execution_count": 8,
     "metadata": {},
     "output_type": "execute_result"
    },
    {
     "data": {
      "image/png": "[encoded data removed]",
      "text/plain": [
       "<Figure size 432x288 with 1 Axes>"
      ]
     },
     "metadata": {
      "needs_background": "light"
     },
     "output_type": "display_data"
    }
   ],
   "source": [
    "df.plot() "
   ]
  },
  {
   "cell_type": "markdown",
   "id": "5853a31a",
   "metadata": {},
   "source": [
    "* die geplotteten Werte in einem Balkendiagramm ausgeben lassen\n",
    "* über sort_index() werden die Zahlen der X-Achse sortiert"
   ]
  },
  {
   "cell_type": "code",
   "execution_count": 10,
   "id": "94184296",
   "metadata": {},
   "outputs": [
    {
     "data": {
      "text/plain": [
       "<AxesSubplot:>"
      ]
     },
     "execution_count": 10,
     "metadata": {},
     "output_type": "execute_result"
    },
    {
     "data": {
      "image/png": "[encoded data removed]",
      "text/plain": [
       "<Figure size 432x288 with 1 Axes>"
      ]
     },
     "metadata": {
      "needs_background": "light"
     },
     "output_type": "display_data"
    }
   ],
   "source": [
    "df.valence.value_counts().sort_index().plot(kind='bar') "
   ]
  },
  {
   "cell_type": "markdown",
   "id": "a501d82f",
   "metadata": {},
   "source": [
    "* eine Variante die visualiseirt, wie die Variablen verteilt sind: über Kernel Density Estimate (kde)"
   ]
  },
  {
   "cell_type": "code",
   "execution_count": null,
   "id": "a7b9f85b",
   "metadata": {},
   "outputs": [],
   "source": [
    "df.valence.value_counts().plot(kind='kde')"
   ]
  },
  {
   "cell_type": "code",
   "execution_count": null,
   "id": "c08d0388",
   "metadata": {},
   "outputs": [],
   "source": [
    "df.info()"
   ]
  },
  {
   "cell_type": "markdown",
   "id": "3be85bc7",
   "metadata": {},
   "source": [
    "* ein weiteres aussagekräftigeres Tool ist seaborn: Paket zur Visualisierung\n",
    "* es gibt einen Violinplot auf Grundlage der Mittelwerte aus"
   ]
  },
  {
   "cell_type": "code",
   "execution_count": null,
   "id": "4f671ea3",
   "metadata": {},
   "outputs": [],
   "source": [
    "sns.set_theme(style=\"whitegrid\")"
   ]
  },
  {
   "cell_type": "code",
   "execution_count": null,
   "id": "378ad9c5",
   "metadata": {},
   "outputs": [],
   "source": [
    "ax=sns.violinplot(x=df.valence)"
   ]
  },
  {
   "cell_type": "markdown",
   "id": "f969a5c8",
   "metadata": {},
   "source": [
    "* Valence-Werte im Kuchendiagramm"
   ]
  },
  {
   "cell_type": "code",
   "execution_count": null,
   "id": "a082f435",
   "metadata": {},
   "outputs": [],
   "source": [
    "df.valence.value_counts().plot(kind='pie')"
   ]
  },
  {
   "cell_type": "markdown",
   "id": "fab9afb7",
   "metadata": {},
   "source": [
    "### Die Daten wurden mit dem Jupyter Notebook (Measure Pitch and HNR), einem Praat Skript analysiert (Feinberg Script)\n",
    "* das Praat Skript wurde von [GitHub](https://github.com/drfeinberg/PraatScripts) heruntergeladen und gespeichert, um anschließend damit zu arbeiten\n",
    "* die Daten werden über die pickle-Funktion im anderen Notebook verpackt und dann hierher kopiert\n",
    "* der Datenframe kann somit von einem Notebook in ein anderes kopiert werden (heißt im anderen Notebook f0df.pkl)\n",
    "\n",
    "* F0 Werte extrahiert mit Praat Skript"
   ]
  },
  {
   "cell_type": "code",
   "execution_count": 11,
   "id": "31f1957e",
   "metadata": {},
   "outputs": [],
   "source": [
    "df_f0 = pd.read_pickle('f0df.pkl')"
   ]
  },
  {
   "cell_type": "code",
   "execution_count": 12,
   "id": "f74b4360",
   "metadata": {},
   "outputs": [
    {
     "data": {
      "text/html": [
       "<div>\n",
       "<style scoped>\n",
       "    .dataframe tbody tr th:only-of-type {\n",
       "        vertical-align: middle;\n",
       "    }\n",
       "\n",
       "    .dataframe tbody tr th {\n",
       "        vertical-align: top;\n",
       "    }\n",
       "\n",
       "    .dataframe thead th {\n",
       "        text-align: right;\n",
       "    }\n",
       "</style>\n",
       "<table border=\"1\" class=\"dataframe\">\n",
       "  <thead>\n",
       "    <tr style=\"text-align: right;\">\n",
       "      <th></th>\n",
       "      <th>voiceID</th>\n",
       "      <th>meanF0Hz</th>\n",
       "    </tr>\n",
       "  </thead>\n",
       "  <tbody>\n",
       "    <tr>\n",
       "      <th>0</th>\n",
       "      <td>../Wegner/../Wegner\\Wegner_16_seg_00000000.wav</td>\n",
       "      <td>216.6457657532109</td>\n",
       "    </tr>\n",
       "    <tr>\n",
       "      <th>1</th>\n",
       "      <td>../Wegner/../Wegner\\Wegner_16_seg_00000001.wav</td>\n",
       "      <td>219.36542836968232</td>\n",
       "    </tr>\n",
       "  </tbody>\n",
       "</table>\n",
       "</div>"
      ],
      "text/plain": [
       "                                          voiceID            meanF0Hz\n",
       "0  ../Wegner/../Wegner\\Wegner_16_seg_00000000.wav   216.6457657532109\n",
       "1  ../Wegner/../Wegner\\Wegner_16_seg_00000001.wav  219.36542836968232"
      ]
     },
     "execution_count": 12,
     "metadata": {},
     "output_type": "execute_result"
    }
   ],
   "source": [
    "df_f0.head(2)"
   ]
  },
  {
   "cell_type": "markdown",
   "id": "acdcb3a5",
   "metadata": {},
   "source": [
    "    -> es ist noch kein Index gesetzt: nur durchnummeriert von Pandas"
   ]
  },
  {
   "cell_type": "markdown",
   "id": "940b4d41",
   "metadata": {},
   "source": [
    "* aber der Index soll der gleiche sein wie bei der andere Tabelle: also Index setzten -> soll auch \"file\" heißen\n",
    "* Zeilen in Pandas umbenennen:\n",
    "* den Pfadnamen abschneiden\n",
    "* die Definition (def) nimmt etwas und gibt auch wieder was zurück (return)"
   ]
  },
  {
   "cell_type": "code",
   "execution_count": 14,
   "id": "6c299b65",
   "metadata": {},
   "outputs": [],
   "source": [
    "def norm_df(df):\n",
    "    df = df.rename(columns={'voiceID':'file'})\n",
    "    df = df.set_index('file')\n",
    "    df.index = df.index.to_series().apply(lambda x: os.path.basename(x))\n",
    "    return df"
   ]
  },
  {
   "cell_type": "code",
   "execution_count": 15,
   "id": "858fd83e",
   "metadata": {},
   "outputs": [],
   "source": [
    "df_f0 = norm_df(df_f0)"
   ]
  },
  {
   "cell_type": "code",
   "execution_count": 16,
   "id": "e2f7630d",
   "metadata": {},
   "outputs": [
    {
     "data": {
      "text/html": [
       "<div>\n",
       "<style scoped>\n",
       "    .dataframe tbody tr th:only-of-type {\n",
       "        vertical-align: middle;\n",
       "    }\n",
       "\n",
       "    .dataframe tbody tr th {\n",
       "        vertical-align: top;\n",
       "    }\n",
       "\n",
       "    .dataframe thead th {\n",
       "        text-align: right;\n",
       "    }\n",
       "</style>\n",
       "<table border=\"1\" class=\"dataframe\">\n",
       "  <thead>\n",
       "    <tr style=\"text-align: right;\">\n",
       "      <th></th>\n",
       "      <th>meanF0Hz</th>\n",
       "    </tr>\n",
       "    <tr>\n",
       "      <th>file</th>\n",
       "      <th></th>\n",
       "    </tr>\n",
       "  </thead>\n",
       "  <tbody>\n",
       "    <tr>\n",
       "      <th>Wegner_16_seg_00000000.wav</th>\n",
       "      <td>216.6457657532109</td>\n",
       "    </tr>\n",
       "    <tr>\n",
       "      <th>Wegner_16_seg_00000001.wav</th>\n",
       "      <td>219.36542836968232</td>\n",
       "    </tr>\n",
       "  </tbody>\n",
       "</table>\n",
       "</div>"
      ],
      "text/plain": [
       "                                      meanF0Hz\n",
       "file                                          \n",
       "Wegner_16_seg_00000000.wav   216.6457657532109\n",
       "Wegner_16_seg_00000001.wav  219.36542836968232"
      ]
     },
     "execution_count": 16,
     "metadata": {},
     "output_type": "execute_result"
    }
   ],
   "source": [
    "df_f0.head(2)"
   ]
  },
  {
   "cell_type": "markdown",
   "id": "2964aa9c",
   "metadata": {},
   "source": [
    "* mit der join-Funktion vereint man die Werte in einer Tabelle\n",
    "    * nur einmal ausführen\n",
    "* jetzt wo der Index gleich ist, können die Tabellen vereinigigt werden: also Valence und durchschnittliche Grundfrequenz"
   ]
  },
  {
   "cell_type": "code",
   "execution_count": 18,
   "id": "167f1504",
   "metadata": {},
   "outputs": [],
   "source": [
    "df = df.join(df_f0)"
   ]
  },
  {
   "cell_type": "markdown",
   "id": "23f23b6d",
   "metadata": {},
   "source": [
    "* mit \"float\" sagt man, dass es sich um Zahlen handelt und nicht um Strings"
   ]
  },
  {
   "cell_type": "code",
   "execution_count": 19,
   "id": "17924672",
   "metadata": {},
   "outputs": [],
   "source": [
    "df['meanF0Hz'] = df['meanF0Hz'].astype(float)"
   ]
  },
  {
   "cell_type": "markdown",
   "id": "d44e14fa",
   "metadata": {},
   "source": [
    "* Verteilung der Valence:"
   ]
  },
  {
   "cell_type": "code",
   "execution_count": 20,
   "id": "91840887",
   "metadata": {},
   "outputs": [
    {
     "data": {
      "text/plain": [
       "<AxesSubplot:xlabel='valence', ylabel='meanF0Hz'>"
      ]
     },
     "execution_count": 20,
     "metadata": {},
     "output_type": "execute_result"
    },
    {
     "data": {
      "image/png": "[encoded data removed]",
      "text/plain": [
       "<Figure size 432x288 with 1 Axes>"
      ]
     },
     "metadata": {
      "needs_background": "light"
     },
     "output_type": "display_data"
    }
   ],
   "source": [
    "df.plot.scatter(y='meanF0Hz', x='valence', c='DarkBlue')"
   ]
  },
  {
   "cell_type": "markdown",
   "id": "bec1f792",
   "metadata": {},
   "source": [
    "* Tabelle enthält nun beide Werte: Valence und MeanF0Hz"
   ]
  },
  {
   "cell_type": "code",
   "execution_count": 21,
   "id": "2cac7fc2",
   "metadata": {},
   "outputs": [
    {
     "data": {
      "text/html": [
       "<div>\n",
       "<style scoped>\n",
       "    .dataframe tbody tr th:only-of-type {\n",
       "        vertical-align: middle;\n",
       "    }\n",
       "\n",
       "    .dataframe tbody tr th {\n",
       "        vertical-align: top;\n",
       "    }\n",
       "\n",
       "    .dataframe thead th {\n",
       "        text-align: right;\n",
       "    }\n",
       "</style>\n",
       "<table border=\"1\" class=\"dataframe\">\n",
       "  <thead>\n",
       "    <tr style=\"text-align: right;\">\n",
       "      <th></th>\n",
       "      <th>valence</th>\n",
       "      <th>meanF0Hz</th>\n",
       "    </tr>\n",
       "    <tr>\n",
       "      <th>file</th>\n",
       "      <th></th>\n",
       "      <th></th>\n",
       "    </tr>\n",
       "  </thead>\n",
       "  <tbody>\n",
       "    <tr>\n",
       "      <th>Wegner_16_seg_00000000.wav</th>\n",
       "      <td>4.0</td>\n",
       "      <td>216.645766</td>\n",
       "    </tr>\n",
       "    <tr>\n",
       "      <th>Wegner_16_seg_00000001.wav</th>\n",
       "      <td>3.0</td>\n",
       "      <td>219.365428</td>\n",
       "    </tr>\n",
       "  </tbody>\n",
       "</table>\n",
       "</div>"
      ],
      "text/plain": [
       "                            valence    meanF0Hz\n",
       "file                                           \n",
       "Wegner_16_seg_00000000.wav      4.0  216.645766\n",
       "Wegner_16_seg_00000001.wav      3.0  219.365428"
      ]
     },
     "execution_count": 21,
     "metadata": {},
     "output_type": "execute_result"
    }
   ],
   "source": [
    "df.head(2)"
   ]
  },
  {
   "cell_type": "markdown",
   "id": "cff3c176",
   "metadata": {},
   "source": [
    "* die folgenden Infos (speaker, sex) brauchen wir, weil wir die Daten austauschen und dann besser vergleichen können \n",
    "* wir fügen damit neue Spalten hinzu "
   ]
  },
  {
   "cell_type": "code",
   "execution_count": 22,
   "id": "abd602a5",
   "metadata": {},
   "outputs": [],
   "source": [
    "df['speaker'] = 'lisa'"
   ]
  },
  {
   "cell_type": "code",
   "execution_count": 23,
   "id": "9ca391ba",
   "metadata": {},
   "outputs": [],
   "source": [
    "df['sex'] = 'female'"
   ]
  },
  {
   "cell_type": "code",
   "execution_count": 24,
   "id": "e76f9999",
   "metadata": {},
   "outputs": [
    {
     "data": {
      "text/html": [
       "<div>\n",
       "<style scoped>\n",
       "    .dataframe tbody tr th:only-of-type {\n",
       "        vertical-align: middle;\n",
       "    }\n",
       "\n",
       "    .dataframe tbody tr th {\n",
       "        vertical-align: top;\n",
       "    }\n",
       "\n",
       "    .dataframe thead th {\n",
       "        text-align: right;\n",
       "    }\n",
       "</style>\n",
       "<table border=\"1\" class=\"dataframe\">\n",
       "  <thead>\n",
       "    <tr style=\"text-align: right;\">\n",
       "      <th></th>\n",
       "      <th>valence</th>\n",
       "      <th>meanF0Hz</th>\n",
       "      <th>speaker</th>\n",
       "      <th>sex</th>\n",
       "    </tr>\n",
       "    <tr>\n",
       "      <th>file</th>\n",
       "      <th></th>\n",
       "      <th></th>\n",
       "      <th></th>\n",
       "      <th></th>\n",
       "    </tr>\n",
       "  </thead>\n",
       "  <tbody>\n",
       "    <tr>\n",
       "      <th>Wegner_16_seg_00000000.wav</th>\n",
       "      <td>4.0</td>\n",
       "      <td>216.645766</td>\n",
       "      <td>lisa</td>\n",
       "      <td>female</td>\n",
       "    </tr>\n",
       "    <tr>\n",
       "      <th>Wegner_16_seg_00000001.wav</th>\n",
       "      <td>3.0</td>\n",
       "      <td>219.365428</td>\n",
       "      <td>lisa</td>\n",
       "      <td>female</td>\n",
       "    </tr>\n",
       "  </tbody>\n",
       "</table>\n",
       "</div>"
      ],
      "text/plain": [
       "                            valence    meanF0Hz speaker     sex\n",
       "file                                                           \n",
       "Wegner_16_seg_00000000.wav      4.0  216.645766    lisa  female\n",
       "Wegner_16_seg_00000001.wav      3.0  219.365428    lisa  female"
      ]
     },
     "execution_count": 24,
     "metadata": {},
     "output_type": "execute_result"
    }
   ],
   "source": [
    "df.head(2)"
   ]
  },
  {
   "cell_type": "markdown",
   "id": "f0525bb1",
   "metadata": {},
   "source": [
    "* weil wir die Werte aus einem andere Skript vereinen wollen, muss vorher die Spalte meanF0Hz gelöscht werden, dazu dient die drop-Funktion \n",
    "* muss vor der join-Funktion geschehen bzw. join-Funktion erneut ausführen"
   ]
  },
  {
   "cell_type": "code",
   "execution_count": 36,
   "id": "066b161b",
   "metadata": {},
   "outputs": [
    {
     "data": {
      "text/html": [
       "<div>\n",
       "<style scoped>\n",
       "    .dataframe tbody tr th:only-of-type {\n",
       "        vertical-align: middle;\n",
       "    }\n",
       "\n",
       "    .dataframe tbody tr th {\n",
       "        vertical-align: top;\n",
       "    }\n",
       "\n",
       "    .dataframe thead th {\n",
       "        text-align: right;\n",
       "    }\n",
       "</style>\n",
       "<table border=\"1\" class=\"dataframe\">\n",
       "  <thead>\n",
       "    <tr style=\"text-align: right;\">\n",
       "      <th></th>\n",
       "      <th>valence</th>\n",
       "      <th>speaker</th>\n",
       "      <th>sex</th>\n",
       "    </tr>\n",
       "    <tr>\n",
       "      <th>file</th>\n",
       "      <th></th>\n",
       "      <th></th>\n",
       "      <th></th>\n",
       "    </tr>\n",
       "  </thead>\n",
       "  <tbody>\n",
       "    <tr>\n",
       "      <th>Wegner_16_seg_00000000.wav</th>\n",
       "      <td>4.0</td>\n",
       "      <td>lisa</td>\n",
       "      <td>female</td>\n",
       "    </tr>\n",
       "    <tr>\n",
       "      <th>Wegner_16_seg_00000001.wav</th>\n",
       "      <td>3.0</td>\n",
       "      <td>lisa</td>\n",
       "      <td>female</td>\n",
       "    </tr>\n",
       "    <tr>\n",
       "      <th>Wegner_16_seg_00000002.wav</th>\n",
       "      <td>5.0</td>\n",
       "      <td>lisa</td>\n",
       "      <td>female</td>\n",
       "    </tr>\n",
       "    <tr>\n",
       "      <th>Wegner_16_seg_00000003.wav</th>\n",
       "      <td>2.0</td>\n",
       "      <td>lisa</td>\n",
       "      <td>female</td>\n",
       "    </tr>\n",
       "    <tr>\n",
       "      <th>Wegner_16_seg_00000004.wav</th>\n",
       "      <td>2.0</td>\n",
       "      <td>lisa</td>\n",
       "      <td>female</td>\n",
       "    </tr>\n",
       "  </tbody>\n",
       "</table>\n",
       "</div>"
      ],
      "text/plain": [
       "                            valence speaker     sex\n",
       "file                                               \n",
       "Wegner_16_seg_00000000.wav      4.0    lisa  female\n",
       "Wegner_16_seg_00000001.wav      3.0    lisa  female\n",
       "Wegner_16_seg_00000002.wav      5.0    lisa  female\n",
       "Wegner_16_seg_00000003.wav      2.0    lisa  female\n",
       "Wegner_16_seg_00000004.wav      2.0    lisa  female"
      ]
     },
     "execution_count": 36,
     "metadata": {},
     "output_type": "execute_result"
    }
   ],
   "source": [
    "df = df.drop(columns=['meanF0Hz'])\n",
    "df.head()"
   ]
  },
  {
   "cell_type": "code",
   "execution_count": null,
   "id": "eb51d19a",
   "metadata": {},
   "outputs": [],
   "source": [
    "# für gute Note nochmal was anderes plotten"
   ]
  },
  {
   "cell_type": "markdown",
   "id": "05f8d485",
   "metadata": {},
   "source": [
    "# Praat Skript aus dem Jupyter Notebook Measure Pitch, HNR, Jitter, Shimmer, and Formants (Feinberg Script)\n",
    "* in desem Notebook wurde das Skript ausgeführt\n",
    "* anschließend wurde es wieder mit der pickle-Funktion verpackt, um es in diesem Notebook zu nutzen/ einzulesen\n",
    "* dazu muss es in dem ursprünglichen Notebook verpackt werden (wurde dort df_werte.pkl geannt)\n",
    "\n",
    "* join-Funktion geht nur, wenn der Index gleich ist, deswegen muss der Index mit der norm-Funktion gesetzt werden"
   ]
  },
  {
   "cell_type": "code",
   "execution_count": 32,
   "id": "a5b26e63",
   "metadata": {},
   "outputs": [],
   "source": [
    "measures_df = pd.read_pickle('df_werte.pkl')"
   ]
  },
  {
   "cell_type": "markdown",
   "id": "bc5f9d0d",
   "metadata": {},
   "source": [
    "* mit norm index wird wieder der gleichen Index gesetzt"
   ]
  },
  {
   "cell_type": "code",
   "execution_count": 33,
   "id": "36d94c6a",
   "metadata": {},
   "outputs": [],
   "source": [
    "measures_df = norm_df(measures_df)"
   ]
  },
  {
   "cell_type": "code",
   "execution_count": 34,
   "id": "889c51f0",
   "metadata": {},
   "outputs": [
    {
     "data": {
      "text/html": [
       "<div>\n",
       "<style scoped>\n",
       "    .dataframe tbody tr th:only-of-type {\n",
       "        vertical-align: middle;\n",
       "    }\n",
       "\n",
       "    .dataframe tbody tr th {\n",
       "        vertical-align: top;\n",
       "    }\n",
       "\n",
       "    .dataframe thead th {\n",
       "        text-align: right;\n",
       "    }\n",
       "</style>\n",
       "<table border=\"1\" class=\"dataframe\">\n",
       "  <thead>\n",
       "    <tr style=\"text-align: right;\">\n",
       "      <th></th>\n",
       "      <th>duration</th>\n",
       "      <th>meanF0Hz</th>\n",
       "      <th>stdevF0Hz</th>\n",
       "      <th>HNR</th>\n",
       "      <th>localJitter</th>\n",
       "      <th>localabsoluteJitter</th>\n",
       "      <th>rapJitter</th>\n",
       "      <th>ppq5Jitter</th>\n",
       "      <th>ddpJitter</th>\n",
       "      <th>localShimmer</th>\n",
       "      <th>...</th>\n",
       "      <th>f4_median</th>\n",
       "      <th>JitterPCA</th>\n",
       "      <th>ShimmerPCA</th>\n",
       "      <th>pF</th>\n",
       "      <th>fdisp</th>\n",
       "      <th>avgFormant</th>\n",
       "      <th>mff</th>\n",
       "      <th>fitch_vtl</th>\n",
       "      <th>delta_f</th>\n",
       "      <th>vtl_delta_f</th>\n",
       "    </tr>\n",
       "    <tr>\n",
       "      <th>file</th>\n",
       "      <th></th>\n",
       "      <th></th>\n",
       "      <th></th>\n",
       "      <th></th>\n",
       "      <th></th>\n",
       "      <th></th>\n",
       "      <th></th>\n",
       "      <th></th>\n",
       "      <th></th>\n",
       "      <th></th>\n",
       "      <th></th>\n",
       "      <th></th>\n",
       "      <th></th>\n",
       "      <th></th>\n",
       "      <th></th>\n",
       "      <th></th>\n",
       "      <th></th>\n",
       "      <th></th>\n",
       "      <th></th>\n",
       "      <th></th>\n",
       "      <th></th>\n",
       "    </tr>\n",
       "  </thead>\n",
       "  <tbody>\n",
       "    <tr>\n",
       "      <th>Wegner_16_seg_00000000.wav</th>\n",
       "      <td>6.69</td>\n",
       "      <td>210.652453</td>\n",
       "      <td>30.909104</td>\n",
       "      <td>12.388043</td>\n",
       "      <td>0.030422</td>\n",
       "      <td>0.000145</td>\n",
       "      <td>0.014803</td>\n",
       "      <td>0.017130</td>\n",
       "      <td>0.044408</td>\n",
       "      <td>0.121588</td>\n",
       "      <td>...</td>\n",
       "      <td>3894.497065</td>\n",
       "      <td>-1.277184</td>\n",
       "      <td>-1.111271</td>\n",
       "      <td>0.213010</td>\n",
       "      <td>1167.358276</td>\n",
       "      <td>2257.639008</td>\n",
       "      <td>1680.393531</td>\n",
       "      <td>16.926086</td>\n",
       "      <td>1497.075688</td>\n",
       "      <td>11.689456</td>\n",
       "    </tr>\n",
       "    <tr>\n",
       "      <th>Wegner_16_seg_00000001.wav</th>\n",
       "      <td>1.78</td>\n",
       "      <td>219.365428</td>\n",
       "      <td>32.645018</td>\n",
       "      <td>16.261678</td>\n",
       "      <td>0.015167</td>\n",
       "      <td>0.000069</td>\n",
       "      <td>0.007675</td>\n",
       "      <td>0.008471</td>\n",
       "      <td>0.023026</td>\n",
       "      <td>0.110094</td>\n",
       "      <td>...</td>\n",
       "      <td>3948.166902</td>\n",
       "      <td>4.456632</td>\n",
       "      <td>2.051313</td>\n",
       "      <td>0.030162</td>\n",
       "      <td>1182.616655</td>\n",
       "      <td>2225.640217</td>\n",
       "      <td>1643.594762</td>\n",
       "      <td>17.259231</td>\n",
       "      <td>1492.522023</td>\n",
       "      <td>11.725120</td>\n",
       "    </tr>\n",
       "  </tbody>\n",
       "</table>\n",
       "<p>2 rows × 32 columns</p>\n",
       "</div>"
      ],
      "text/plain": [
       "                            duration    meanF0Hz  stdevF0Hz        HNR  \\\n",
       "file                                                                     \n",
       "Wegner_16_seg_00000000.wav      6.69  210.652453  30.909104  12.388043   \n",
       "Wegner_16_seg_00000001.wav      1.78  219.365428  32.645018  16.261678   \n",
       "\n",
       "                            localJitter  localabsoluteJitter  rapJitter  \\\n",
       "file                                                                      \n",
       "Wegner_16_seg_00000000.wav     0.030422             0.000145   0.014803   \n",
       "Wegner_16_seg_00000001.wav     0.015167             0.000069   0.007675   \n",
       "\n",
       "                            ppq5Jitter  ddpJitter  localShimmer  ...  \\\n",
       "file                                                             ...   \n",
       "Wegner_16_seg_00000000.wav    0.017130   0.044408      0.121588  ...   \n",
       "Wegner_16_seg_00000001.wav    0.008471   0.023026      0.110094  ...   \n",
       "\n",
       "                              f4_median  JitterPCA  ShimmerPCA        pF  \\\n",
       "file                                                                       \n",
       "Wegner_16_seg_00000000.wav  3894.497065  -1.277184   -1.111271  0.213010   \n",
       "Wegner_16_seg_00000001.wav  3948.166902   4.456632    2.051313  0.030162   \n",
       "\n",
       "                                  fdisp   avgFormant          mff  fitch_vtl  \\\n",
       "file                                                                           \n",
       "Wegner_16_seg_00000000.wav  1167.358276  2257.639008  1680.393531  16.926086   \n",
       "Wegner_16_seg_00000001.wav  1182.616655  2225.640217  1643.594762  17.259231   \n",
       "\n",
       "                                delta_f  vtl_delta_f  \n",
       "file                                                  \n",
       "Wegner_16_seg_00000000.wav  1497.075688    11.689456  \n",
       "Wegner_16_seg_00000001.wav  1492.522023    11.725120  \n",
       "\n",
       "[2 rows x 32 columns]"
      ]
     },
     "execution_count": 34,
     "metadata": {},
     "output_type": "execute_result"
    }
   ],
   "source": [
    "measures_df.head(2)"
   ]
  },
  {
   "cell_type": "markdown",
   "id": "b248cbd1",
   "metadata": {},
   "source": [
    "* jetzt werden die Werte wieder mit den anderen bereits vorhandenden Werten vereint -> join-Funktion\n",
    "* Valence wird hinzugefügt"
   ]
  },
  {
   "cell_type": "code",
   "execution_count": 37,
   "id": "1a0cadac",
   "metadata": {},
   "outputs": [],
   "source": [
    "df_all = df.join(measures_df)"
   ]
  },
  {
   "cell_type": "code",
   "execution_count": 38,
   "id": "863a30fb",
   "metadata": {},
   "outputs": [
    {
     "data": {
      "text/html": [
       "<div>\n",
       "<style scoped>\n",
       "    .dataframe tbody tr th:only-of-type {\n",
       "        vertical-align: middle;\n",
       "    }\n",
       "\n",
       "    .dataframe tbody tr th {\n",
       "        vertical-align: top;\n",
       "    }\n",
       "\n",
       "    .dataframe thead th {\n",
       "        text-align: right;\n",
       "    }\n",
       "</style>\n",
       "<table border=\"1\" class=\"dataframe\">\n",
       "  <thead>\n",
       "    <tr style=\"text-align: right;\">\n",
       "      <th></th>\n",
       "      <th>valence</th>\n",
       "      <th>speaker</th>\n",
       "      <th>sex</th>\n",
       "      <th>duration</th>\n",
       "      <th>meanF0Hz</th>\n",
       "      <th>stdevF0Hz</th>\n",
       "      <th>HNR</th>\n",
       "      <th>localJitter</th>\n",
       "      <th>localabsoluteJitter</th>\n",
       "      <th>rapJitter</th>\n",
       "      <th>...</th>\n",
       "      <th>f4_median</th>\n",
       "      <th>JitterPCA</th>\n",
       "      <th>ShimmerPCA</th>\n",
       "      <th>pF</th>\n",
       "      <th>fdisp</th>\n",
       "      <th>avgFormant</th>\n",
       "      <th>mff</th>\n",
       "      <th>fitch_vtl</th>\n",
       "      <th>delta_f</th>\n",
       "      <th>vtl_delta_f</th>\n",
       "    </tr>\n",
       "    <tr>\n",
       "      <th>file</th>\n",
       "      <th></th>\n",
       "      <th></th>\n",
       "      <th></th>\n",
       "      <th></th>\n",
       "      <th></th>\n",
       "      <th></th>\n",
       "      <th></th>\n",
       "      <th></th>\n",
       "      <th></th>\n",
       "      <th></th>\n",
       "      <th></th>\n",
       "      <th></th>\n",
       "      <th></th>\n",
       "      <th></th>\n",
       "      <th></th>\n",
       "      <th></th>\n",
       "      <th></th>\n",
       "      <th></th>\n",
       "      <th></th>\n",
       "      <th></th>\n",
       "      <th></th>\n",
       "    </tr>\n",
       "  </thead>\n",
       "  <tbody>\n",
       "    <tr>\n",
       "      <th>Wegner_16_seg_00000000.wav</th>\n",
       "      <td>4.0</td>\n",
       "      <td>lisa</td>\n",
       "      <td>female</td>\n",
       "      <td>6.69</td>\n",
       "      <td>210.652453</td>\n",
       "      <td>30.909104</td>\n",
       "      <td>12.388043</td>\n",
       "      <td>0.030422</td>\n",
       "      <td>0.000145</td>\n",
       "      <td>0.014803</td>\n",
       "      <td>...</td>\n",
       "      <td>3894.497065</td>\n",
       "      <td>-1.277184</td>\n",
       "      <td>-1.111271</td>\n",
       "      <td>0.213010</td>\n",
       "      <td>1167.358276</td>\n",
       "      <td>2257.639008</td>\n",
       "      <td>1680.393531</td>\n",
       "      <td>16.926086</td>\n",
       "      <td>1497.075688</td>\n",
       "      <td>11.689456</td>\n",
       "    </tr>\n",
       "    <tr>\n",
       "      <th>Wegner_16_seg_00000001.wav</th>\n",
       "      <td>3.0</td>\n",
       "      <td>lisa</td>\n",
       "      <td>female</td>\n",
       "      <td>1.78</td>\n",
       "      <td>219.365428</td>\n",
       "      <td>32.645018</td>\n",
       "      <td>16.261678</td>\n",
       "      <td>0.015167</td>\n",
       "      <td>0.000069</td>\n",
       "      <td>0.007675</td>\n",
       "      <td>...</td>\n",
       "      <td>3948.166902</td>\n",
       "      <td>4.456632</td>\n",
       "      <td>2.051313</td>\n",
       "      <td>0.030162</td>\n",
       "      <td>1182.616655</td>\n",
       "      <td>2225.640217</td>\n",
       "      <td>1643.594762</td>\n",
       "      <td>17.259231</td>\n",
       "      <td>1492.522023</td>\n",
       "      <td>11.725120</td>\n",
       "    </tr>\n",
       "  </tbody>\n",
       "</table>\n",
       "<p>2 rows × 35 columns</p>\n",
       "</div>"
      ],
      "text/plain": [
       "                            valence speaker     sex  duration    meanF0Hz  \\\n",
       "file                                                                        \n",
       "Wegner_16_seg_00000000.wav      4.0    lisa  female      6.69  210.652453   \n",
       "Wegner_16_seg_00000001.wav      3.0    lisa  female      1.78  219.365428   \n",
       "\n",
       "                            stdevF0Hz        HNR  localJitter  \\\n",
       "file                                                            \n",
       "Wegner_16_seg_00000000.wav  30.909104  12.388043     0.030422   \n",
       "Wegner_16_seg_00000001.wav  32.645018  16.261678     0.015167   \n",
       "\n",
       "                            localabsoluteJitter  rapJitter  ...    f4_median  \\\n",
       "file                                                        ...                \n",
       "Wegner_16_seg_00000000.wav             0.000145   0.014803  ...  3894.497065   \n",
       "Wegner_16_seg_00000001.wav             0.000069   0.007675  ...  3948.166902   \n",
       "\n",
       "                            JitterPCA  ShimmerPCA        pF        fdisp  \\\n",
       "file                                                                       \n",
       "Wegner_16_seg_00000000.wav  -1.277184   -1.111271  0.213010  1167.358276   \n",
       "Wegner_16_seg_00000001.wav   4.456632    2.051313  0.030162  1182.616655   \n",
       "\n",
       "                             avgFormant          mff  fitch_vtl      delta_f  \\\n",
       "file                                                                           \n",
       "Wegner_16_seg_00000000.wav  2257.639008  1680.393531  16.926086  1497.075688   \n",
       "Wegner_16_seg_00000001.wav  2225.640217  1643.594762  17.259231  1492.522023   \n",
       "\n",
       "                            vtl_delta_f  \n",
       "file                                     \n",
       "Wegner_16_seg_00000000.wav    11.689456  \n",
       "Wegner_16_seg_00000001.wav    11.725120  \n",
       "\n",
       "[2 rows x 35 columns]"
      ]
     },
     "execution_count": 38,
     "metadata": {},
     "output_type": "execute_result"
    }
   ],
   "source": [
    "df_all.head(2)"
   ]
  },
  {
   "cell_type": "code",
   "execution_count": 39,
   "id": "53da1d49",
   "metadata": {},
   "outputs": [
    {
     "data": {
      "text/plain": [
       "(41, 35)"
      ]
     },
     "execution_count": 39,
     "metadata": {},
     "output_type": "execute_result"
    }
   ],
   "source": [
    "df_all.shape"
   ]
  },
  {
   "cell_type": "markdown",
   "id": "81b9d570",
   "metadata": {},
   "source": [
    "* anschließned als Pickledatei verpacken, damit wir die Daten untereinander teilen können \n",
    "* dann in die Tub Cloud laden"
   ]
  },
  {
   "cell_type": "code",
   "execution_count": 40,
   "id": "000d1fbe",
   "metadata": {},
   "outputs": [],
   "source": [
    "df_all.to_pickle('wegner_df.pkl')"
   ]
  },
  {
   "cell_type": "markdown",
   "id": "0ea28339",
   "metadata": {},
   "source": [
    "# Boxplots\n",
    "\n",
    "* der iloc-BEfehl zeigt die Spalten und Zeilen an\n",
    "* man kann sich durch die Angaben in den eckigen Klammern, genaue Spalten und Zeilen anzeigen lassen\n",
    "* z.b. df_all.iloc[4:6:,8:12].columns"
   ]
  },
  {
   "cell_type": "code",
   "execution_count": 44,
   "id": "59f349e4",
   "metadata": {},
   "outputs": [
    {
     "data": {
      "text/html": [
       "<div>\n",
       "<style scoped>\n",
       "    .dataframe tbody tr th:only-of-type {\n",
       "        vertical-align: middle;\n",
       "    }\n",
       "\n",
       "    .dataframe tbody tr th {\n",
       "        vertical-align: top;\n",
       "    }\n",
       "\n",
       "    .dataframe thead th {\n",
       "        text-align: right;\n",
       "    }\n",
       "</style>\n",
       "<table border=\"1\" class=\"dataframe\">\n",
       "  <thead>\n",
       "    <tr style=\"text-align: right;\">\n",
       "      <th></th>\n",
       "      <th>localabsoluteJitter</th>\n",
       "      <th>rapJitter</th>\n",
       "      <th>ppq5Jitter</th>\n",
       "      <th>ddpJitter</th>\n",
       "    </tr>\n",
       "    <tr>\n",
       "      <th>file</th>\n",
       "      <th></th>\n",
       "      <th></th>\n",
       "      <th></th>\n",
       "      <th></th>\n",
       "    </tr>\n",
       "  </thead>\n",
       "  <tbody>\n",
       "    <tr>\n",
       "      <th>Wegner_16_seg_00000004.wav</th>\n",
       "      <td>0.000127</td>\n",
       "      <td>0.013704</td>\n",
       "      <td>0.016141</td>\n",
       "      <td>0.041112</td>\n",
       "    </tr>\n",
       "    <tr>\n",
       "      <th>Wegner_16_seg_00000005.wav</th>\n",
       "      <td>0.000100</td>\n",
       "      <td>0.009134</td>\n",
       "      <td>0.011152</td>\n",
       "      <td>0.027401</td>\n",
       "    </tr>\n",
       "  </tbody>\n",
       "</table>\n",
       "</div>"
      ],
      "text/plain": [
       "                            localabsoluteJitter  rapJitter  ppq5Jitter  \\\n",
       "file                                                                     \n",
       "Wegner_16_seg_00000004.wav             0.000127   0.013704    0.016141   \n",
       "Wegner_16_seg_00000005.wav             0.000100   0.009134    0.011152   \n",
       "\n",
       "                            ddpJitter  \n",
       "file                                   \n",
       "Wegner_16_seg_00000004.wav   0.041112  \n",
       "Wegner_16_seg_00000005.wav   0.027401  "
      ]
     },
     "execution_count": 44,
     "metadata": {},
     "output_type": "execute_result"
    }
   ],
   "source": [
    "df_all.iloc[4:6:,8:12]"
   ]
  },
  {
   "cell_type": "code",
   "execution_count": 41,
   "id": "a62a726b",
   "metadata": {},
   "outputs": [
    {
     "data": {
      "text/html": [
       "<div>\n",
       "<style scoped>\n",
       "    .dataframe tbody tr th:only-of-type {\n",
       "        vertical-align: middle;\n",
       "    }\n",
       "\n",
       "    .dataframe tbody tr th {\n",
       "        vertical-align: top;\n",
       "    }\n",
       "\n",
       "    .dataframe thead th {\n",
       "        text-align: right;\n",
       "    }\n",
       "</style>\n",
       "<table border=\"1\" class=\"dataframe\">\n",
       "  <thead>\n",
       "    <tr style=\"text-align: right;\">\n",
       "      <th></th>\n",
       "      <th>duration</th>\n",
       "      <th>meanF0Hz</th>\n",
       "      <th>stdevF0Hz</th>\n",
       "      <th>HNR</th>\n",
       "      <th>localJitter</th>\n",
       "      <th>localabsoluteJitter</th>\n",
       "      <th>rapJitter</th>\n",
       "      <th>ppq5Jitter</th>\n",
       "      <th>ddpJitter</th>\n",
       "      <th>localShimmer</th>\n",
       "      <th>...</th>\n",
       "      <th>f4_median</th>\n",
       "      <th>JitterPCA</th>\n",
       "      <th>ShimmerPCA</th>\n",
       "      <th>pF</th>\n",
       "      <th>fdisp</th>\n",
       "      <th>avgFormant</th>\n",
       "      <th>mff</th>\n",
       "      <th>fitch_vtl</th>\n",
       "      <th>delta_f</th>\n",
       "      <th>vtl_delta_f</th>\n",
       "    </tr>\n",
       "    <tr>\n",
       "      <th>file</th>\n",
       "      <th></th>\n",
       "      <th></th>\n",
       "      <th></th>\n",
       "      <th></th>\n",
       "      <th></th>\n",
       "      <th></th>\n",
       "      <th></th>\n",
       "      <th></th>\n",
       "      <th></th>\n",
       "      <th></th>\n",
       "      <th></th>\n",
       "      <th></th>\n",
       "      <th></th>\n",
       "      <th></th>\n",
       "      <th></th>\n",
       "      <th></th>\n",
       "      <th></th>\n",
       "      <th></th>\n",
       "      <th></th>\n",
       "      <th></th>\n",
       "      <th></th>\n",
       "    </tr>\n",
       "  </thead>\n",
       "  <tbody>\n",
       "    <tr>\n",
       "      <th>Wegner_16_seg_00000000.wav</th>\n",
       "      <td>6.69</td>\n",
       "      <td>210.652453</td>\n",
       "      <td>30.909104</td>\n",
       "      <td>12.388043</td>\n",
       "      <td>0.030422</td>\n",
       "      <td>0.000145</td>\n",
       "      <td>0.014803</td>\n",
       "      <td>0.017130</td>\n",
       "      <td>0.044408</td>\n",
       "      <td>0.121588</td>\n",
       "      <td>...</td>\n",
       "      <td>3894.497065</td>\n",
       "      <td>-1.277184</td>\n",
       "      <td>-1.111271</td>\n",
       "      <td>0.213010</td>\n",
       "      <td>1167.358276</td>\n",
       "      <td>2257.639008</td>\n",
       "      <td>1680.393531</td>\n",
       "      <td>16.926086</td>\n",
       "      <td>1497.075688</td>\n",
       "      <td>11.689456</td>\n",
       "    </tr>\n",
       "    <tr>\n",
       "      <th>Wegner_16_seg_00000001.wav</th>\n",
       "      <td>1.78</td>\n",
       "      <td>219.365428</td>\n",
       "      <td>32.645018</td>\n",
       "      <td>16.261678</td>\n",
       "      <td>0.015167</td>\n",
       "      <td>0.000069</td>\n",
       "      <td>0.007675</td>\n",
       "      <td>0.008471</td>\n",
       "      <td>0.023026</td>\n",
       "      <td>0.110094</td>\n",
       "      <td>...</td>\n",
       "      <td>3948.166902</td>\n",
       "      <td>4.456632</td>\n",
       "      <td>2.051313</td>\n",
       "      <td>0.030162</td>\n",
       "      <td>1182.616655</td>\n",
       "      <td>2225.640217</td>\n",
       "      <td>1643.594762</td>\n",
       "      <td>17.259231</td>\n",
       "      <td>1492.522023</td>\n",
       "      <td>11.725120</td>\n",
       "    </tr>\n",
       "    <tr>\n",
       "      <th>Wegner_16_seg_00000002.wav</th>\n",
       "      <td>2.92</td>\n",
       "      <td>227.286451</td>\n",
       "      <td>47.279022</td>\n",
       "      <td>19.494601</td>\n",
       "      <td>0.015788</td>\n",
       "      <td>0.000069</td>\n",
       "      <td>0.007040</td>\n",
       "      <td>0.009223</td>\n",
       "      <td>0.021121</td>\n",
       "      <td>0.067937</td>\n",
       "      <td>...</td>\n",
       "      <td>3734.642377</td>\n",
       "      <td>8.177602</td>\n",
       "      <td>-1.352489</td>\n",
       "      <td>-1.310151</td>\n",
       "      <td>1143.645262</td>\n",
       "      <td>2045.330401</td>\n",
       "      <td>1403.765964</td>\n",
       "      <td>20.701289</td>\n",
       "      <td>1402.528203</td>\n",
       "      <td>12.477467</td>\n",
       "    </tr>\n",
       "    <tr>\n",
       "      <th>Wegner_16_seg_00000003.wav</th>\n",
       "      <td>6.13</td>\n",
       "      <td>204.341022</td>\n",
       "      <td>36.597091</td>\n",
       "      <td>12.098336</td>\n",
       "      <td>0.028401</td>\n",
       "      <td>0.000139</td>\n",
       "      <td>0.014262</td>\n",
       "      <td>0.016671</td>\n",
       "      <td>0.042785</td>\n",
       "      <td>0.123474</td>\n",
       "      <td>...</td>\n",
       "      <td>4014.538921</td>\n",
       "      <td>-1.203342</td>\n",
       "      <td>-0.559052</td>\n",
       "      <td>0.492147</td>\n",
       "      <td>1196.055113</td>\n",
       "      <td>2300.525955</td>\n",
       "      <td>1738.483703</td>\n",
       "      <td>16.279954</td>\n",
       "      <td>1522.596980</td>\n",
       "      <td>11.493521</td>\n",
       "    </tr>\n",
       "    <tr>\n",
       "      <th>Wegner_16_seg_00000004.wav</th>\n",
       "      <td>4.38</td>\n",
       "      <td>209.720927</td>\n",
       "      <td>40.567627</td>\n",
       "      <td>12.044526</td>\n",
       "      <td>0.026627</td>\n",
       "      <td>0.000127</td>\n",
       "      <td>0.013704</td>\n",
       "      <td>0.016141</td>\n",
       "      <td>0.041112</td>\n",
       "      <td>0.126690</td>\n",
       "      <td>...</td>\n",
       "      <td>4022.434247</td>\n",
       "      <td>-1.060610</td>\n",
       "      <td>0.389843</td>\n",
       "      <td>1.049260</td>\n",
       "      <td>1171.171397</td>\n",
       "      <td>2359.210638</td>\n",
       "      <td>1849.033161</td>\n",
       "      <td>15.198420</td>\n",
       "      <td>1543.564854</td>\n",
       "      <td>11.337392</td>\n",
       "    </tr>\n",
       "    <tr>\n",
       "      <th>Wegner_16_seg_00000005.wav</th>\n",
       "      <td>3.72</td>\n",
       "      <td>191.486545</td>\n",
       "      <td>27.285377</td>\n",
       "      <td>10.935678</td>\n",
       "      <td>0.019016</td>\n",
       "      <td>0.000100</td>\n",
       "      <td>0.009134</td>\n",
       "      <td>0.011152</td>\n",
       "      <td>0.027401</td>\n",
       "      <td>0.132872</td>\n",
       "      <td>...</td>\n",
       "      <td>3835.268770</td>\n",
       "      <td>0.701470</td>\n",
       "      <td>3.274245</td>\n",
       "      <td>0.088768</td>\n",
       "      <td>1121.794825</td>\n",
       "      <td>2234.028025</td>\n",
       "      <td>1734.671742</td>\n",
       "      <td>16.207268</td>\n",
       "      <td>1468.804638</td>\n",
       "      <td>11.914450</td>\n",
       "    </tr>\n",
       "    <tr>\n",
       "      <th>Wegner_16_seg_00000006.wav</th>\n",
       "      <td>2.46</td>\n",
       "      <td>212.565695</td>\n",
       "      <td>35.140675</td>\n",
       "      <td>9.039244</td>\n",
       "      <td>0.037535</td>\n",
       "      <td>0.000178</td>\n",
       "      <td>0.021433</td>\n",
       "      <td>0.021781</td>\n",
       "      <td>0.064300</td>\n",
       "      <td>0.127904</td>\n",
       "      <td>...</td>\n",
       "      <td>3862.213157</td>\n",
       "      <td>-5.538222</td>\n",
       "      <td>-2.892599</td>\n",
       "      <td>0.789725</td>\n",
       "      <td>1086.023980</td>\n",
       "      <td>2291.348397</td>\n",
       "      <td>1853.442087</td>\n",
       "      <td>15.126856</td>\n",
       "      <td>1493.631239</td>\n",
       "      <td>11.716413</td>\n",
       "    </tr>\n",
       "    <tr>\n",
       "      <th>Wegner_16_seg_00000007.wav</th>\n",
       "      <td>3.78</td>\n",
       "      <td>190.471188</td>\n",
       "      <td>33.783368</td>\n",
       "      <td>12.781051</td>\n",
       "      <td>0.027049</td>\n",
       "      <td>0.000142</td>\n",
       "      <td>0.014122</td>\n",
       "      <td>0.015844</td>\n",
       "      <td>0.042366</td>\n",
       "      <td>0.123382</td>\n",
       "      <td>...</td>\n",
       "      <td>3839.862485</td>\n",
       "      <td>-0.901388</td>\n",
       "      <td>-0.240007</td>\n",
       "      <td>0.185007</td>\n",
       "      <td>1156.625481</td>\n",
       "      <td>2267.283531</td>\n",
       "      <td>1682.500949</td>\n",
       "      <td>17.040736</td>\n",
       "      <td>1490.972310</td>\n",
       "      <td>11.737307</td>\n",
       "    </tr>\n",
       "    <tr>\n",
       "      <th>Wegner_16_seg_00000008.wav</th>\n",
       "      <td>3.98</td>\n",
       "      <td>182.604261</td>\n",
       "      <td>36.200272</td>\n",
       "      <td>14.290371</td>\n",
       "      <td>0.023152</td>\n",
       "      <td>0.000126</td>\n",
       "      <td>0.011180</td>\n",
       "      <td>0.012603</td>\n",
       "      <td>0.033540</td>\n",
       "      <td>0.117404</td>\n",
       "      <td>...</td>\n",
       "      <td>3827.323073</td>\n",
       "      <td>1.166869</td>\n",
       "      <td>0.648207</td>\n",
       "      <td>-0.252921</td>\n",
       "      <td>1156.078129</td>\n",
       "      <td>2204.476329</td>\n",
       "      <td>1618.033841</td>\n",
       "      <td>17.681047</td>\n",
       "      <td>1465.684953</td>\n",
       "      <td>11.939810</td>\n",
       "    </tr>\n",
       "    <tr>\n",
       "      <th>Wegner_16_seg_00000009.wav</th>\n",
       "      <td>2.70</td>\n",
       "      <td>217.556155</td>\n",
       "      <td>32.396695</td>\n",
       "      <td>9.946097</td>\n",
       "      <td>0.027095</td>\n",
       "      <td>0.000125</td>\n",
       "      <td>0.011853</td>\n",
       "      <td>0.013930</td>\n",
       "      <td>0.035558</td>\n",
       "      <td>0.133000</td>\n",
       "      <td>...</td>\n",
       "      <td>3841.438111</td>\n",
       "      <td>-1.126336</td>\n",
       "      <td>1.706214</td>\n",
       "      <td>0.189100</td>\n",
       "      <td>1150.150658</td>\n",
       "      <td>2254.518569</td>\n",
       "      <td>1683.694735</td>\n",
       "      <td>16.906398</td>\n",
       "      <td>1489.015708</td>\n",
       "      <td>11.752730</td>\n",
       "    </tr>\n",
       "    <tr>\n",
       "      <th>Wegner_16_seg_00000010.wav</th>\n",
       "      <td>4.22</td>\n",
       "      <td>199.553886</td>\n",
       "      <td>40.717490</td>\n",
       "      <td>13.542099</td>\n",
       "      <td>0.030732</td>\n",
       "      <td>0.000155</td>\n",
       "      <td>0.016631</td>\n",
       "      <td>0.018089</td>\n",
       "      <td>0.049894</td>\n",
       "      <td>0.110506</td>\n",
       "      <td>...</td>\n",
       "      <td>3887.176786</td>\n",
       "      <td>-1.083331</td>\n",
       "      <td>-2.431151</td>\n",
       "      <td>0.079343</td>\n",
       "      <td>1162.851447</td>\n",
       "      <td>2243.159528</td>\n",
       "      <td>1678.319993</td>\n",
       "      <td>16.915420</td>\n",
       "      <td>1486.711870</td>\n",
       "      <td>11.770943</td>\n",
       "    </tr>\n",
       "    <tr>\n",
       "      <th>Wegner_16_seg_00000011.wav</th>\n",
       "      <td>6.93</td>\n",
       "      <td>189.503074</td>\n",
       "      <td>51.902573</td>\n",
       "      <td>11.340546</td>\n",
       "      <td>0.022636</td>\n",
       "      <td>0.000118</td>\n",
       "      <td>0.011511</td>\n",
       "      <td>0.011970</td>\n",
       "      <td>0.034532</td>\n",
       "      <td>0.123948</td>\n",
       "      <td>...</td>\n",
       "      <td>3892.551944</td>\n",
       "      <td>0.546251</td>\n",
       "      <td>1.312044</td>\n",
       "      <td>0.359271</td>\n",
       "      <td>1119.630885</td>\n",
       "      <td>2253.821756</td>\n",
       "      <td>1780.652708</td>\n",
       "      <td>15.740267</td>\n",
       "      <td>1482.561882</td>\n",
       "      <td>11.803892</td>\n",
       "    </tr>\n",
       "    <tr>\n",
       "      <th>Wegner_16_seg_00000012.wav</th>\n",
       "      <td>6.96</td>\n",
       "      <td>221.052122</td>\n",
       "      <td>30.920201</td>\n",
       "      <td>14.540193</td>\n",
       "      <td>0.024626</td>\n",
       "      <td>0.000112</td>\n",
       "      <td>0.012281</td>\n",
       "      <td>0.014736</td>\n",
       "      <td>0.036842</td>\n",
       "      <td>0.087787</td>\n",
       "      <td>...</td>\n",
       "      <td>3977.673546</td>\n",
       "      <td>2.896625</td>\n",
       "      <td>-1.967879</td>\n",
       "      <td>0.258486</td>\n",
       "      <td>1206.243499</td>\n",
       "      <td>2278.121026</td>\n",
       "      <td>1662.900489</td>\n",
       "      <td>17.265754</td>\n",
       "      <td>1515.111971</td>\n",
       "      <td>11.550301</td>\n",
       "    </tr>\n",
       "    <tr>\n",
       "      <th>Wegner_16_seg_00000013.wav</th>\n",
       "      <td>1.24</td>\n",
       "      <td>197.221643</td>\n",
       "      <td>85.813090</td>\n",
       "      <td>11.032256</td>\n",
       "      <td>0.035604</td>\n",
       "      <td>0.000180</td>\n",
       "      <td>0.018568</td>\n",
       "      <td>0.022562</td>\n",
       "      <td>0.055704</td>\n",
       "      <td>0.141818</td>\n",
       "      <td>...</td>\n",
       "      <td>3171.942589</td>\n",
       "      <td>-5.549013</td>\n",
       "      <td>-1.728369</td>\n",
       "      <td>-2.937244</td>\n",
       "      <td>962.163526</td>\n",
       "      <td>1863.119313</td>\n",
       "      <td>1358.094280</td>\n",
       "      <td>21.232756</td>\n",
       "      <td>1232.336802</td>\n",
       "      <td>14.200663</td>\n",
       "    </tr>\n",
       "    <tr>\n",
       "      <th>Wegner_16_seg_00000014.wav</th>\n",
       "      <td>5.72</td>\n",
       "      <td>186.758092</td>\n",
       "      <td>43.065800</td>\n",
       "      <td>11.347697</td>\n",
       "      <td>0.025953</td>\n",
       "      <td>0.000139</td>\n",
       "      <td>0.012753</td>\n",
       "      <td>0.016549</td>\n",
       "      <td>0.038260</td>\n",
       "      <td>0.129320</td>\n",
       "      <td>...</td>\n",
       "      <td>4005.199515</td>\n",
       "      <td>-1.129417</td>\n",
       "      <td>0.705123</td>\n",
       "      <td>0.808498</td>\n",
       "      <td>1123.364722</td>\n",
       "      <td>2299.121995</td>\n",
       "      <td>1863.869149</td>\n",
       "      <td>15.054881</td>\n",
       "      <td>1507.208781</td>\n",
       "      <td>11.610867</td>\n",
       "    </tr>\n",
       "    <tr>\n",
       "      <th>Wegner_16_seg_00000015.wav</th>\n",
       "      <td>6.96</td>\n",
       "      <td>208.521080</td>\n",
       "      <td>52.511625</td>\n",
       "      <td>12.912832</td>\n",
       "      <td>0.024818</td>\n",
       "      <td>0.000118</td>\n",
       "      <td>0.011624</td>\n",
       "      <td>0.014115</td>\n",
       "      <td>0.034872</td>\n",
       "      <td>0.100312</td>\n",
       "      <td>...</td>\n",
       "      <td>3893.206552</td>\n",
       "      <td>2.023254</td>\n",
       "      <td>-0.818136</td>\n",
       "      <td>0.113860</td>\n",
       "      <td>1145.190406</td>\n",
       "      <td>2233.487500</td>\n",
       "      <td>1710.832799</td>\n",
       "      <td>16.447674</td>\n",
       "      <td>1480.417605</td>\n",
       "      <td>11.820989</td>\n",
       "    </tr>\n",
       "    <tr>\n",
       "      <th>Wegner_16_seg_00000016.wav</th>\n",
       "      <td>1.72</td>\n",
       "      <td>201.723133</td>\n",
       "      <td>42.361451</td>\n",
       "      <td>14.642298</td>\n",
       "      <td>0.022753</td>\n",
       "      <td>0.000113</td>\n",
       "      <td>0.012991</td>\n",
       "      <td>0.011984</td>\n",
       "      <td>0.038972</td>\n",
       "      <td>0.089844</td>\n",
       "      <td>...</td>\n",
       "      <td>3897.876500</td>\n",
       "      <td>3.204167</td>\n",
       "      <td>-2.072579</td>\n",
       "      <td>0.366568</td>\n",
       "      <td>1143.347597</td>\n",
       "      <td>2256.036461</td>\n",
       "      <td>1727.909235</td>\n",
       "      <td>16.286878</td>\n",
       "      <td>1495.380021</td>\n",
       "      <td>11.702711</td>\n",
       "    </tr>\n",
       "    <tr>\n",
       "      <th>Wegner_16_seg_00000017.wav</th>\n",
       "      <td>1.50</td>\n",
       "      <td>202.117432</td>\n",
       "      <td>41.035639</td>\n",
       "      <td>11.018637</td>\n",
       "      <td>0.032790</td>\n",
       "      <td>0.000164</td>\n",
       "      <td>0.015566</td>\n",
       "      <td>0.018444</td>\n",
       "      <td>0.046698</td>\n",
       "      <td>0.135352</td>\n",
       "      <td>...</td>\n",
       "      <td>3885.509926</td>\n",
       "      <td>-4.028877</td>\n",
       "      <td>0.374883</td>\n",
       "      <td>-0.142266</td>\n",
       "      <td>1155.794645</td>\n",
       "      <td>2187.274137</td>\n",
       "      <td>1616.180173</td>\n",
       "      <td>17.538189</td>\n",
       "      <td>1472.504031</td>\n",
       "      <td>11.884518</td>\n",
       "    </tr>\n",
       "    <tr>\n",
       "      <th>Wegner_16_seg_00000018.wav</th>\n",
       "      <td>6.29</td>\n",
       "      <td>183.055580</td>\n",
       "      <td>42.241377</td>\n",
       "      <td>11.562839</td>\n",
       "      <td>0.025753</td>\n",
       "      <td>0.000140</td>\n",
       "      <td>0.011932</td>\n",
       "      <td>0.013398</td>\n",
       "      <td>0.035797</td>\n",
       "      <td>0.123693</td>\n",
       "      <td>...</td>\n",
       "      <td>3837.463179</td>\n",
       "      <td>-0.287936</td>\n",
       "      <td>0.804258</td>\n",
       "      <td>-0.125121</td>\n",
       "      <td>1142.515975</td>\n",
       "      <td>2206.179098</td>\n",
       "      <td>1655.293923</td>\n",
       "      <td>17.093298</td>\n",
       "      <td>1467.056476</td>\n",
       "      <td>11.928648</td>\n",
       "    </tr>\n",
       "    <tr>\n",
       "      <th>Wegner_16_seg_00000019.wav</th>\n",
       "      <td>1.12</td>\n",
       "      <td>178.377574</td>\n",
       "      <td>7.627143</td>\n",
       "      <td>10.697841</td>\n",
       "      <td>0.025013</td>\n",
       "      <td>0.000140</td>\n",
       "      <td>0.013039</td>\n",
       "      <td>0.011417</td>\n",
       "      <td>0.039118</td>\n",
       "      <td>0.096699</td>\n",
       "      <td>...</td>\n",
       "      <td>3737.883196</td>\n",
       "      <td>1.881120</td>\n",
       "      <td>-1.100492</td>\n",
       "      <td>-0.049023</td>\n",
       "      <td>1130.834152</td>\n",
       "      <td>2237.660213</td>\n",
       "      <td>1645.136849</td>\n",
       "      <td>17.551646</td>\n",
       "      <td>1468.058732</td>\n",
       "      <td>11.920504</td>\n",
       "    </tr>\n",
       "    <tr>\n",
       "      <th>Wegner_16_seg_00000020.wav</th>\n",
       "      <td>6.96</td>\n",
       "      <td>187.571858</td>\n",
       "      <td>59.799596</td>\n",
       "      <td>11.633960</td>\n",
       "      <td>0.024565</td>\n",
       "      <td>0.000131</td>\n",
       "      <td>0.011641</td>\n",
       "      <td>0.012871</td>\n",
       "      <td>0.034923</td>\n",
       "      <td>0.105281</td>\n",
       "      <td>...</td>\n",
       "      <td>3959.751875</td>\n",
       "      <td>1.561731</td>\n",
       "      <td>-0.481277</td>\n",
       "      <td>0.375496</td>\n",
       "      <td>1179.883827</td>\n",
       "      <td>2279.044453</td>\n",
       "      <td>1716.663525</td>\n",
       "      <td>16.490730</td>\n",
       "      <td>1510.275713</td>\n",
       "      <td>11.587288</td>\n",
       "    </tr>\n",
       "    <tr>\n",
       "      <th>Wegner_16_seg_00000021.wav</th>\n",
       "      <td>3.76</td>\n",
       "      <td>173.875982</td>\n",
       "      <td>53.613496</td>\n",
       "      <td>11.540654</td>\n",
       "      <td>0.032505</td>\n",
       "      <td>0.000187</td>\n",
       "      <td>0.017297</td>\n",
       "      <td>0.018024</td>\n",
       "      <td>0.051891</td>\n",
       "      <td>0.129736</td>\n",
       "      <td>...</td>\n",
       "      <td>3899.983961</td>\n",
       "      <td>-3.502864</td>\n",
       "      <td>-1.432830</td>\n",
       "      <td>0.024444</td>\n",
       "      <td>1170.517283</td>\n",
       "      <td>2240.873152</td>\n",
       "      <td>1668.656099</td>\n",
       "      <td>17.047877</td>\n",
       "      <td>1486.419491</td>\n",
       "      <td>11.773258</td>\n",
       "    </tr>\n",
       "    <tr>\n",
       "      <th>Wegner_16_seg_00000022.wav</th>\n",
       "      <td>2.92</td>\n",
       "      <td>208.806976</td>\n",
       "      <td>43.231411</td>\n",
       "      <td>12.807400</td>\n",
       "      <td>0.028546</td>\n",
       "      <td>0.000136</td>\n",
       "      <td>0.013882</td>\n",
       "      <td>0.016004</td>\n",
       "      <td>0.041646</td>\n",
       "      <td>0.130101</td>\n",
       "      <td>...</td>\n",
       "      <td>3780.472608</td>\n",
       "      <td>-1.637718</td>\n",
       "      <td>0.444656</td>\n",
       "      <td>-0.457731</td>\n",
       "      <td>1136.858362</td>\n",
       "      <td>2173.616984</td>\n",
       "      <td>1606.834010</td>\n",
       "      <td>17.728003</td>\n",
       "      <td>1445.834583</td>\n",
       "      <td>12.103736</td>\n",
       "    </tr>\n",
       "    <tr>\n",
       "      <th>Wegner_16_seg_00000023.wav</th>\n",
       "      <td>6.55</td>\n",
       "      <td>181.769555</td>\n",
       "      <td>45.618723</td>\n",
       "      <td>11.129085</td>\n",
       "      <td>0.029792</td>\n",
       "      <td>0.000163</td>\n",
       "      <td>0.015130</td>\n",
       "      <td>0.017559</td>\n",
       "      <td>0.045391</td>\n",
       "      <td>0.140060</td>\n",
       "      <td>...</td>\n",
       "      <td>3808.627345</td>\n",
       "      <td>-3.972572</td>\n",
       "      <td>1.021120</td>\n",
       "      <td>0.042747</td>\n",
       "      <td>1141.570617</td>\n",
       "      <td>2238.584871</td>\n",
       "      <td>1670.517717</td>\n",
       "      <td>17.060572</td>\n",
       "      <td>1476.946414</td>\n",
       "      <td>11.848771</td>\n",
       "    </tr>\n",
       "    <tr>\n",
       "      <th>Wegner_16_seg_00000024.wav</th>\n",
       "      <td>2.18</td>\n",
       "      <td>212.825405</td>\n",
       "      <td>58.715322</td>\n",
       "      <td>15.690664</td>\n",
       "      <td>0.019885</td>\n",
       "      <td>0.000094</td>\n",
       "      <td>0.009728</td>\n",
       "      <td>0.010384</td>\n",
       "      <td>0.029185</td>\n",
       "      <td>0.074692</td>\n",
       "      <td>...</td>\n",
       "      <td>3627.431142</td>\n",
       "      <td>6.207541</td>\n",
       "      <td>-2.198811</td>\n",
       "      <td>-0.742351</td>\n",
       "      <td>1093.336284</td>\n",
       "      <td>2133.691241</td>\n",
       "      <td>1569.138255</td>\n",
       "      <td>18.245611</td>\n",
       "      <td>1413.263581</td>\n",
       "      <td>12.382687</td>\n",
       "    </tr>\n",
       "    <tr>\n",
       "      <th>Wegner_16_seg_00000025.wav</th>\n",
       "      <td>5.00</td>\n",
       "      <td>204.758630</td>\n",
       "      <td>50.537188</td>\n",
       "      <td>13.205248</td>\n",
       "      <td>0.021622</td>\n",
       "      <td>0.000105</td>\n",
       "      <td>0.010918</td>\n",
       "      <td>0.012405</td>\n",
       "      <td>0.032754</td>\n",
       "      <td>0.118120</td>\n",
       "      <td>...</td>\n",
       "      <td>3994.836919</td>\n",
       "      <td>1.545267</td>\n",
       "      <td>0.865005</td>\n",
       "      <td>0.649940</td>\n",
       "      <td>1174.390075</td>\n",
       "      <td>2311.691976</td>\n",
       "      <td>1784.165401</td>\n",
       "      <td>15.777827</td>\n",
       "      <td>1522.312967</td>\n",
       "      <td>11.495665</td>\n",
       "    </tr>\n",
       "    <tr>\n",
       "      <th>Wegner_16_seg_00000026.wav</th>\n",
       "      <td>6.75</td>\n",
       "      <td>199.857619</td>\n",
       "      <td>51.353863</td>\n",
       "      <td>15.181946</td>\n",
       "      <td>0.018916</td>\n",
       "      <td>0.000095</td>\n",
       "      <td>0.008611</td>\n",
       "      <td>0.010258</td>\n",
       "      <td>0.025834</td>\n",
       "      <td>0.114752</td>\n",
       "      <td>...</td>\n",
       "      <td>3691.579974</td>\n",
       "      <td>3.010876</td>\n",
       "      <td>1.604143</td>\n",
       "      <td>-0.622596</td>\n",
       "      <td>1094.399152</td>\n",
       "      <td>2135.697211</td>\n",
       "      <td>1609.291751</td>\n",
       "      <td>17.557026</td>\n",
       "      <td>1419.206161</td>\n",
       "      <td>12.330837</td>\n",
       "    </tr>\n",
       "    <tr>\n",
       "      <th>Wegner_16_seg_00000027.wav</th>\n",
       "      <td>5.32</td>\n",
       "      <td>195.928006</td>\n",
       "      <td>39.416407</td>\n",
       "      <td>12.357894</td>\n",
       "      <td>0.027779</td>\n",
       "      <td>0.000141</td>\n",
       "      <td>0.013492</td>\n",
       "      <td>0.015112</td>\n",
       "      <td>0.040476</td>\n",
       "      <td>0.128184</td>\n",
       "      <td>...</td>\n",
       "      <td>3931.106828</td>\n",
       "      <td>-1.449601</td>\n",
       "      <td>0.476342</td>\n",
       "      <td>0.517634</td>\n",
       "      <td>1158.143637</td>\n",
       "      <td>2292.802818</td>\n",
       "      <td>1762.286312</td>\n",
       "      <td>15.995562</td>\n",
       "      <td>1508.984005</td>\n",
       "      <td>11.597207</td>\n",
       "    </tr>\n",
       "    <tr>\n",
       "      <th>Wegner_16_seg_00000028.wav</th>\n",
       "      <td>6.71</td>\n",
       "      <td>201.639913</td>\n",
       "      <td>36.557614</td>\n",
       "      <td>11.443686</td>\n",
       "      <td>0.023627</td>\n",
       "      <td>0.000117</td>\n",
       "      <td>0.011902</td>\n",
       "      <td>0.014803</td>\n",
       "      <td>0.035705</td>\n",
       "      <td>0.118111</td>\n",
       "      <td>...</td>\n",
       "      <td>3859.112609</td>\n",
       "      <td>0.434911</td>\n",
       "      <td>0.416732</td>\n",
       "      <td>0.784363</td>\n",
       "      <td>1084.994646</td>\n",
       "      <td>2296.596172</td>\n",
       "      <td>1865.136333</td>\n",
       "      <td>15.026766</td>\n",
       "      <td>1492.299829</td>\n",
       "      <td>11.726866</td>\n",
       "    </tr>\n",
       "    <tr>\n",
       "      <th>Wegner_16_seg_00000029.wav</th>\n",
       "      <td>5.99</td>\n",
       "      <td>196.327389</td>\n",
       "      <td>42.290080</td>\n",
       "      <td>10.473105</td>\n",
       "      <td>0.028432</td>\n",
       "      <td>0.000145</td>\n",
       "      <td>0.014170</td>\n",
       "      <td>0.016297</td>\n",
       "      <td>0.042509</td>\n",
       "      <td>0.118675</td>\n",
       "      <td>...</td>\n",
       "      <td>3870.326239</td>\n",
       "      <td>-0.887575</td>\n",
       "      <td>-1.059332</td>\n",
       "      <td>0.489655</td>\n",
       "      <td>1112.885542</td>\n",
       "      <td>2277.801228</td>\n",
       "      <td>1810.934026</td>\n",
       "      <td>15.482880</td>\n",
       "      <td>1487.118873</td>\n",
       "      <td>11.767721</td>\n",
       "    </tr>\n",
       "    <tr>\n",
       "      <th>Wegner_16_seg_00000030.wav</th>\n",
       "      <td>5.97</td>\n",
       "      <td>208.060734</td>\n",
       "      <td>37.662452</td>\n",
       "      <td>12.636921</td>\n",
       "      <td>0.027735</td>\n",
       "      <td>0.000134</td>\n",
       "      <td>0.013934</td>\n",
       "      <td>0.016281</td>\n",
       "      <td>0.041802</td>\n",
       "      <td>0.119961</td>\n",
       "      <td>...</td>\n",
       "      <td>3952.225167</td>\n",
       "      <td>-0.721893</td>\n",
       "      <td>-0.506629</td>\n",
       "      <td>0.459717</td>\n",
       "      <td>1164.770344</td>\n",
       "      <td>2286.102525</td>\n",
       "      <td>1755.434204</td>\n",
       "      <td>16.048717</td>\n",
       "      <td>1507.950380</td>\n",
       "      <td>11.605156</td>\n",
       "    </tr>\n",
       "    <tr>\n",
       "      <th>Wegner_16_seg_00000031.wav</th>\n",
       "      <td>6.96</td>\n",
       "      <td>185.322475</td>\n",
       "      <td>43.833363</td>\n",
       "      <td>13.367782</td>\n",
       "      <td>0.021438</td>\n",
       "      <td>0.000116</td>\n",
       "      <td>0.010429</td>\n",
       "      <td>0.012178</td>\n",
       "      <td>0.031288</td>\n",
       "      <td>0.127427</td>\n",
       "      <td>...</td>\n",
       "      <td>3690.004894</td>\n",
       "      <td>0.910878</td>\n",
       "      <td>1.536504</td>\n",
       "      <td>-0.443759</td>\n",
       "      <td>1091.421767</td>\n",
       "      <td>2158.922910</td>\n",
       "      <td>1636.838999</td>\n",
       "      <td>17.254450</td>\n",
       "      <td>1428.390289</td>\n",
       "      <td>12.251553</td>\n",
       "    </tr>\n",
       "    <tr>\n",
       "      <th>Wegner_16_seg_00000032.wav</th>\n",
       "      <td>1.18</td>\n",
       "      <td>201.402159</td>\n",
       "      <td>34.114133</td>\n",
       "      <td>15.897996</td>\n",
       "      <td>0.021910</td>\n",
       "      <td>0.000109</td>\n",
       "      <td>0.010181</td>\n",
       "      <td>0.012863</td>\n",
       "      <td>0.030543</td>\n",
       "      <td>0.109019</td>\n",
       "      <td>...</td>\n",
       "      <td>3382.624185</td>\n",
       "      <td>2.292509</td>\n",
       "      <td>0.410855</td>\n",
       "      <td>-2.332301</td>\n",
       "      <td>1030.586465</td>\n",
       "      <td>1930.333834</td>\n",
       "      <td>1377.934860</td>\n",
       "      <td>20.928917</td>\n",
       "      <td>1296.105384</td>\n",
       "      <td>13.501989</td>\n",
       "    </tr>\n",
       "    <tr>\n",
       "      <th>Wegner_16_seg_00000033.wav</th>\n",
       "      <td>4.90</td>\n",
       "      <td>189.943681</td>\n",
       "      <td>19.544188</td>\n",
       "      <td>14.625188</td>\n",
       "      <td>0.023830</td>\n",
       "      <td>0.000125</td>\n",
       "      <td>0.012468</td>\n",
       "      <td>0.013646</td>\n",
       "      <td>0.037405</td>\n",
       "      <td>0.101403</td>\n",
       "      <td>...</td>\n",
       "      <td>3827.148019</td>\n",
       "      <td>1.957213</td>\n",
       "      <td>-1.131689</td>\n",
       "      <td>0.008489</td>\n",
       "      <td>1139.109627</td>\n",
       "      <td>2227.028735</td>\n",
       "      <td>1678.080168</td>\n",
       "      <td>16.876413</td>\n",
       "      <td>1473.376972</td>\n",
       "      <td>11.877476</td>\n",
       "    </tr>\n",
       "    <tr>\n",
       "      <th>Wegner_16_seg_00000034.wav</th>\n",
       "      <td>1.00</td>\n",
       "      <td>189.269239</td>\n",
       "      <td>40.829816</td>\n",
       "      <td>9.438382</td>\n",
       "      <td>0.032923</td>\n",
       "      <td>0.000176</td>\n",
       "      <td>0.016435</td>\n",
       "      <td>0.017078</td>\n",
       "      <td>0.049305</td>\n",
       "      <td>0.137300</td>\n",
       "      <td>...</td>\n",
       "      <td>4074.485672</td>\n",
       "      <td>-3.997902</td>\n",
       "      <td>-0.038347</td>\n",
       "      <td>1.162679</td>\n",
       "      <td>1194.264238</td>\n",
       "      <td>2374.389123</td>\n",
       "      <td>1840.499610</td>\n",
       "      <td>15.287449</td>\n",
       "      <td>1560.161124</td>\n",
       "      <td>11.216790</td>\n",
       "    </tr>\n",
       "    <tr>\n",
       "      <th>Wegner_16_seg_00000035.wav</th>\n",
       "      <td>6.37</td>\n",
       "      <td>204.711330</td>\n",
       "      <td>41.940395</td>\n",
       "      <td>14.157952</td>\n",
       "      <td>0.022786</td>\n",
       "      <td>0.000111</td>\n",
       "      <td>0.011524</td>\n",
       "      <td>0.011837</td>\n",
       "      <td>0.034571</td>\n",
       "      <td>0.112972</td>\n",
       "      <td>...</td>\n",
       "      <td>3755.625968</td>\n",
       "      <td>1.749532</td>\n",
       "      <td>0.336772</td>\n",
       "      <td>-0.118182</td>\n",
       "      <td>1095.550273</td>\n",
       "      <td>2200.076428</td>\n",
       "      <td>1709.495748</td>\n",
       "      <td>16.438575</td>\n",
       "      <td>1446.962345</td>\n",
       "      <td>12.094302</td>\n",
       "    </tr>\n",
       "    <tr>\n",
       "      <th>Wegner_16_seg_00000036.wav</th>\n",
       "      <td>6.96</td>\n",
       "      <td>193.677100</td>\n",
       "      <td>45.393555</td>\n",
       "      <td>11.258535</td>\n",
       "      <td>0.026680</td>\n",
       "      <td>0.000138</td>\n",
       "      <td>0.013127</td>\n",
       "      <td>0.015396</td>\n",
       "      <td>0.039380</td>\n",
       "      <td>0.137380</td>\n",
       "      <td>...</td>\n",
       "      <td>3758.536077</td>\n",
       "      <td>-2.127231</td>\n",
       "      <td>1.400827</td>\n",
       "      <td>0.181707</td>\n",
       "      <td>1100.532106</td>\n",
       "      <td>2240.803289</td>\n",
       "      <td>1735.157493</td>\n",
       "      <td>16.236741</td>\n",
       "      <td>1467.277494</td>\n",
       "      <td>11.926851</td>\n",
       "    </tr>\n",
       "    <tr>\n",
       "      <th>Wegner_16_seg_00000037.wav</th>\n",
       "      <td>3.66</td>\n",
       "      <td>194.357143</td>\n",
       "      <td>32.978004</td>\n",
       "      <td>13.193255</td>\n",
       "      <td>0.024366</td>\n",
       "      <td>0.000125</td>\n",
       "      <td>0.012376</td>\n",
       "      <td>0.015165</td>\n",
       "      <td>0.037127</td>\n",
       "      <td>0.122433</td>\n",
       "      <td>...</td>\n",
       "      <td>3808.431252</td>\n",
       "      <td>0.045436</td>\n",
       "      <td>0.242925</td>\n",
       "      <td>-0.348461</td>\n",
       "      <td>1126.939384</td>\n",
       "      <td>2187.701407</td>\n",
       "      <td>1670.765283</td>\n",
       "      <td>16.882576</td>\n",
       "      <td>1445.654654</td>\n",
       "      <td>12.105242</td>\n",
       "    </tr>\n",
       "    <tr>\n",
       "      <th>Wegner_16_seg_00000038.wav</th>\n",
       "      <td>4.46</td>\n",
       "      <td>201.857025</td>\n",
       "      <td>37.987493</td>\n",
       "      <td>11.763504</td>\n",
       "      <td>0.026437</td>\n",
       "      <td>0.000131</td>\n",
       "      <td>0.012324</td>\n",
       "      <td>0.015379</td>\n",
       "      <td>0.036972</td>\n",
       "      <td>0.133198</td>\n",
       "      <td>...</td>\n",
       "      <td>3843.302801</td>\n",
       "      <td>-1.304791</td>\n",
       "      <td>1.221266</td>\n",
       "      <td>0.023039</td>\n",
       "      <td>1149.507749</td>\n",
       "      <td>2237.757976</td>\n",
       "      <td>1677.731223</td>\n",
       "      <td>16.940369</td>\n",
       "      <td>1478.138763</td>\n",
       "      <td>11.839213</td>\n",
       "    </tr>\n",
       "    <tr>\n",
       "      <th>Wegner_16_seg_00000039.wav</th>\n",
       "      <td>6.33</td>\n",
       "      <td>167.183720</td>\n",
       "      <td>44.382117</td>\n",
       "      <td>10.102693</td>\n",
       "      <td>0.028774</td>\n",
       "      <td>0.000171</td>\n",
       "      <td>0.013777</td>\n",
       "      <td>0.015664</td>\n",
       "      <td>0.041332</td>\n",
       "      <td>0.134946</td>\n",
       "      <td>...</td>\n",
       "      <td>3893.942552</td>\n",
       "      <td>-2.114545</td>\n",
       "      <td>0.363446</td>\n",
       "      <td>0.529719</td>\n",
       "      <td>1135.611424</td>\n",
       "      <td>2280.467648</td>\n",
       "      <td>1770.789139</td>\n",
       "      <td>15.868742</td>\n",
       "      <td>1500.845831</td>\n",
       "      <td>11.660092</td>\n",
       "    </tr>\n",
       "    <tr>\n",
       "      <th>Wegner_16_seg_00000040.wav</th>\n",
       "      <td>4.90</td>\n",
       "      <td>175.473341</td>\n",
       "      <td>51.850462</td>\n",
       "      <td>13.896959</td>\n",
       "      <td>0.022315</td>\n",
       "      <td>0.000128</td>\n",
       "      <td>0.010936</td>\n",
       "      <td>0.013038</td>\n",
       "      <td>0.032809</td>\n",
       "      <td>0.132639</td>\n",
       "      <td>...</td>\n",
       "      <td>3834.966632</td>\n",
       "      <td>0.132462</td>\n",
       "      <td>1.516220</td>\n",
       "      <td>-0.390730</td>\n",
       "      <td>1130.207053</td>\n",
       "      <td>2173.977737</td>\n",
       "      <td>1661.871029</td>\n",
       "      <td>16.930900</td>\n",
       "      <td>1444.408462</td>\n",
       "      <td>12.115686</td>\n",
       "    </tr>\n",
       "  </tbody>\n",
       "</table>\n",
       "<p>41 rows × 32 columns</p>\n",
       "</div>"
      ],
      "text/plain": [
       "                            duration    meanF0Hz  stdevF0Hz        HNR  \\\n",
       "file                                                                     \n",
       "Wegner_16_seg_00000000.wav      6.69  210.652453  30.909104  12.388043   \n",
       "Wegner_16_seg_00000001.wav      1.78  219.365428  32.645018  16.261678   \n",
       "Wegner_16_seg_00000002.wav      2.92  227.286451  47.279022  19.494601   \n",
       "Wegner_16_seg_00000003.wav      6.13  204.341022  36.597091  12.098336   \n",
       "Wegner_16_seg_00000004.wav      4.38  209.720927  40.567627  12.044526   \n",
       "Wegner_16_seg_00000005.wav      3.72  191.486545  27.285377  10.935678   \n",
       "Wegner_16_seg_00000006.wav      2.46  212.565695  35.140675   9.039244   \n",
       "Wegner_16_seg_00000007.wav      3.78  190.471188  33.783368  12.781051   \n",
       "Wegner_16_seg_00000008.wav      3.98  182.604261  36.200272  14.290371   \n",
       "Wegner_16_seg_00000009.wav      2.70  217.556155  32.396695   9.946097   \n",
       "Wegner_16_seg_00000010.wav      4.22  199.553886  40.717490  13.542099   \n",
       "Wegner_16_seg_00000011.wav      6.93  189.503074  51.902573  11.340546   \n",
       "Wegner_16_seg_00000012.wav      6.96  221.052122  30.920201  14.540193   \n",
       "Wegner_16_seg_00000013.wav      1.24  197.221643  85.813090  11.032256   \n",
       "Wegner_16_seg_00000014.wav      5.72  186.758092  43.065800  11.347697   \n",
       "Wegner_16_seg_00000015.wav      6.96  208.521080  52.511625  12.912832   \n",
       "Wegner_16_seg_00000016.wav      1.72  201.723133  42.361451  14.642298   \n",
       "Wegner_16_seg_00000017.wav      1.50  202.117432  41.035639  11.018637   \n",
       "Wegner_16_seg_00000018.wav      6.29  183.055580  42.241377  11.562839   \n",
       "Wegner_16_seg_00000019.wav      1.12  178.377574   7.627143  10.697841   \n",
       "Wegner_16_seg_00000020.wav      6.96  187.571858  59.799596  11.633960   \n",
       "Wegner_16_seg_00000021.wav      3.76  173.875982  53.613496  11.540654   \n",
       "Wegner_16_seg_00000022.wav      2.92  208.806976  43.231411  12.807400   \n",
       "Wegner_16_seg_00000023.wav      6.55  181.769555  45.618723  11.129085   \n",
       "Wegner_16_seg_00000024.wav      2.18  212.825405  58.715322  15.690664   \n",
       "Wegner_16_seg_00000025.wav      5.00  204.758630  50.537188  13.205248   \n",
       "Wegner_16_seg_00000026.wav      6.75  199.857619  51.353863  15.181946   \n",
       "Wegner_16_seg_00000027.wav      5.32  195.928006  39.416407  12.357894   \n",
       "Wegner_16_seg_00000028.wav      6.71  201.639913  36.557614  11.443686   \n",
       "Wegner_16_seg_00000029.wav      5.99  196.327389  42.290080  10.473105   \n",
       "Wegner_16_seg_00000030.wav      5.97  208.060734  37.662452  12.636921   \n",
       "Wegner_16_seg_00000031.wav      6.96  185.322475  43.833363  13.367782   \n",
       "Wegner_16_seg_00000032.wav      1.18  201.402159  34.114133  15.897996   \n",
       "Wegner_16_seg_00000033.wav      4.90  189.943681  19.544188  14.625188   \n",
       "Wegner_16_seg_00000034.wav      1.00  189.269239  40.829816   9.438382   \n",
       "Wegner_16_seg_00000035.wav      6.37  204.711330  41.940395  14.157952   \n",
       "Wegner_16_seg_00000036.wav      6.96  193.677100  45.393555  11.258535   \n",
       "Wegner_16_seg_00000037.wav      3.66  194.357143  32.978004  13.193255   \n",
       "Wegner_16_seg_00000038.wav      4.46  201.857025  37.987493  11.763504   \n",
       "Wegner_16_seg_00000039.wav      6.33  167.183720  44.382117  10.102693   \n",
       "Wegner_16_seg_00000040.wav      4.90  175.473341  51.850462  13.896959   \n",
       "\n",
       "                            localJitter  localabsoluteJitter  rapJitter  \\\n",
       "file                                                                      \n",
       "Wegner_16_seg_00000000.wav     0.030422             0.000145   0.014803   \n",
       "Wegner_16_seg_00000001.wav     0.015167             0.000069   0.007675   \n",
       "Wegner_16_seg_00000002.wav     0.015788             0.000069   0.007040   \n",
       "Wegner_16_seg_00000003.wav     0.028401             0.000139   0.014262   \n",
       "Wegner_16_seg_00000004.wav     0.026627             0.000127   0.013704   \n",
       "Wegner_16_seg_00000005.wav     0.019016             0.000100   0.009134   \n",
       "Wegner_16_seg_00000006.wav     0.037535             0.000178   0.021433   \n",
       "Wegner_16_seg_00000007.wav     0.027049             0.000142   0.014122   \n",
       "Wegner_16_seg_00000008.wav     0.023152             0.000126   0.011180   \n",
       "Wegner_16_seg_00000009.wav     0.027095             0.000125   0.011853   \n",
       "Wegner_16_seg_00000010.wav     0.030732             0.000155   0.016631   \n",
       "Wegner_16_seg_00000011.wav     0.022636             0.000118   0.011511   \n",
       "Wegner_16_seg_00000012.wav     0.024626             0.000112   0.012281   \n",
       "Wegner_16_seg_00000013.wav     0.035604             0.000180   0.018568   \n",
       "Wegner_16_seg_00000014.wav     0.025953             0.000139   0.012753   \n",
       "Wegner_16_seg_00000015.wav     0.024818             0.000118   0.011624   \n",
       "Wegner_16_seg_00000016.wav     0.022753             0.000113   0.012991   \n",
       "Wegner_16_seg_00000017.wav     0.032790             0.000164   0.015566   \n",
       "Wegner_16_seg_00000018.wav     0.025753             0.000140   0.011932   \n",
       "Wegner_16_seg_00000019.wav     0.025013             0.000140   0.013039   \n",
       "Wegner_16_seg_00000020.wav     0.024565             0.000131   0.011641   \n",
       "Wegner_16_seg_00000021.wav     0.032505             0.000187   0.017297   \n",
       "Wegner_16_seg_00000022.wav     0.028546             0.000136   0.013882   \n",
       "Wegner_16_seg_00000023.wav     0.029792             0.000163   0.015130   \n",
       "Wegner_16_seg_00000024.wav     0.019885             0.000094   0.009728   \n",
       "Wegner_16_seg_00000025.wav     0.021622             0.000105   0.010918   \n",
       "Wegner_16_seg_00000026.wav     0.018916             0.000095   0.008611   \n",
       "Wegner_16_seg_00000027.wav     0.027779             0.000141   0.013492   \n",
       "Wegner_16_seg_00000028.wav     0.023627             0.000117   0.011902   \n",
       "Wegner_16_seg_00000029.wav     0.028432             0.000145   0.014170   \n",
       "Wegner_16_seg_00000030.wav     0.027735             0.000134   0.013934   \n",
       "Wegner_16_seg_00000031.wav     0.021438             0.000116   0.010429   \n",
       "Wegner_16_seg_00000032.wav     0.021910             0.000109   0.010181   \n",
       "Wegner_16_seg_00000033.wav     0.023830             0.000125   0.012468   \n",
       "Wegner_16_seg_00000034.wav     0.032923             0.000176   0.016435   \n",
       "Wegner_16_seg_00000035.wav     0.022786             0.000111   0.011524   \n",
       "Wegner_16_seg_00000036.wav     0.026680             0.000138   0.013127   \n",
       "Wegner_16_seg_00000037.wav     0.024366             0.000125   0.012376   \n",
       "Wegner_16_seg_00000038.wav     0.026437             0.000131   0.012324   \n",
       "Wegner_16_seg_00000039.wav     0.028774             0.000171   0.013777   \n",
       "Wegner_16_seg_00000040.wav     0.022315             0.000128   0.010936   \n",
       "\n",
       "                            ppq5Jitter  ddpJitter  localShimmer  ...  \\\n",
       "file                                                             ...   \n",
       "Wegner_16_seg_00000000.wav    0.017130   0.044408      0.121588  ...   \n",
       "Wegner_16_seg_00000001.wav    0.008471   0.023026      0.110094  ...   \n",
       "Wegner_16_seg_00000002.wav    0.009223   0.021121      0.067937  ...   \n",
       "Wegner_16_seg_00000003.wav    0.016671   0.042785      0.123474  ...   \n",
       "Wegner_16_seg_00000004.wav    0.016141   0.041112      0.126690  ...   \n",
       "Wegner_16_seg_00000005.wav    0.011152   0.027401      0.132872  ...   \n",
       "Wegner_16_seg_00000006.wav    0.021781   0.064300      0.127904  ...   \n",
       "Wegner_16_seg_00000007.wav    0.015844   0.042366      0.123382  ...   \n",
       "Wegner_16_seg_00000008.wav    0.012603   0.033540      0.117404  ...   \n",
       "Wegner_16_seg_00000009.wav    0.013930   0.035558      0.133000  ...   \n",
       "Wegner_16_seg_00000010.wav    0.018089   0.049894      0.110506  ...   \n",
       "Wegner_16_seg_00000011.wav    0.011970   0.034532      0.123948  ...   \n",
       "Wegner_16_seg_00000012.wav    0.014736   0.036842      0.087787  ...   \n",
       "Wegner_16_seg_00000013.wav    0.022562   0.055704      0.141818  ...   \n",
       "Wegner_16_seg_00000014.wav    0.016549   0.038260      0.129320  ...   \n",
       "Wegner_16_seg_00000015.wav    0.014115   0.034872      0.100312  ...   \n",
       "Wegner_16_seg_00000016.wav    0.011984   0.038972      0.089844  ...   \n",
       "Wegner_16_seg_00000017.wav    0.018444   0.046698      0.135352  ...   \n",
       "Wegner_16_seg_00000018.wav    0.013398   0.035797      0.123693  ...   \n",
       "Wegner_16_seg_00000019.wav    0.011417   0.039118      0.096699  ...   \n",
       "Wegner_16_seg_00000020.wav    0.012871   0.034923      0.105281  ...   \n",
       "Wegner_16_seg_00000021.wav    0.018024   0.051891      0.129736  ...   \n",
       "Wegner_16_seg_00000022.wav    0.016004   0.041646      0.130101  ...   \n",
       "Wegner_16_seg_00000023.wav    0.017559   0.045391      0.140060  ...   \n",
       "Wegner_16_seg_00000024.wav    0.010384   0.029185      0.074692  ...   \n",
       "Wegner_16_seg_00000025.wav    0.012405   0.032754      0.118120  ...   \n",
       "Wegner_16_seg_00000026.wav    0.010258   0.025834      0.114752  ...   \n",
       "Wegner_16_seg_00000027.wav    0.015112   0.040476      0.128184  ...   \n",
       "Wegner_16_seg_00000028.wav    0.014803   0.035705      0.118111  ...   \n",
       "Wegner_16_seg_00000029.wav    0.016297   0.042509      0.118675  ...   \n",
       "Wegner_16_seg_00000030.wav    0.016281   0.041802      0.119961  ...   \n",
       "Wegner_16_seg_00000031.wav    0.012178   0.031288      0.127427  ...   \n",
       "Wegner_16_seg_00000032.wav    0.012863   0.030543      0.109019  ...   \n",
       "Wegner_16_seg_00000033.wav    0.013646   0.037405      0.101403  ...   \n",
       "Wegner_16_seg_00000034.wav    0.017078   0.049305      0.137300  ...   \n",
       "Wegner_16_seg_00000035.wav    0.011837   0.034571      0.112972  ...   \n",
       "Wegner_16_seg_00000036.wav    0.015396   0.039380      0.137380  ...   \n",
       "Wegner_16_seg_00000037.wav    0.015165   0.037127      0.122433  ...   \n",
       "Wegner_16_seg_00000038.wav    0.015379   0.036972      0.133198  ...   \n",
       "Wegner_16_seg_00000039.wav    0.015664   0.041332      0.134946  ...   \n",
       "Wegner_16_seg_00000040.wav    0.013038   0.032809      0.132639  ...   \n",
       "\n",
       "                              f4_median  JitterPCA  ShimmerPCA        pF  \\\n",
       "file                                                                       \n",
       "Wegner_16_seg_00000000.wav  3894.497065  -1.277184   -1.111271  0.213010   \n",
       "Wegner_16_seg_00000001.wav  3948.166902   4.456632    2.051313  0.030162   \n",
       "Wegner_16_seg_00000002.wav  3734.642377   8.177602   -1.352489 -1.310151   \n",
       "Wegner_16_seg_00000003.wav  4014.538921  -1.203342   -0.559052  0.492147   \n",
       "Wegner_16_seg_00000004.wav  4022.434247  -1.060610    0.389843  1.049260   \n",
       "Wegner_16_seg_00000005.wav  3835.268770   0.701470    3.274245  0.088768   \n",
       "Wegner_16_seg_00000006.wav  3862.213157  -5.538222   -2.892599  0.789725   \n",
       "Wegner_16_seg_00000007.wav  3839.862485  -0.901388   -0.240007  0.185007   \n",
       "Wegner_16_seg_00000008.wav  3827.323073   1.166869    0.648207 -0.252921   \n",
       "Wegner_16_seg_00000009.wav  3841.438111  -1.126336    1.706214  0.189100   \n",
       "Wegner_16_seg_00000010.wav  3887.176786  -1.083331   -2.431151  0.079343   \n",
       "Wegner_16_seg_00000011.wav  3892.551944   0.546251    1.312044  0.359271   \n",
       "Wegner_16_seg_00000012.wav  3977.673546   2.896625   -1.967879  0.258486   \n",
       "Wegner_16_seg_00000013.wav  3171.942589  -5.549013   -1.728369 -2.937244   \n",
       "Wegner_16_seg_00000014.wav  4005.199515  -1.129417    0.705123  0.808498   \n",
       "Wegner_16_seg_00000015.wav  3893.206552   2.023254   -0.818136  0.113860   \n",
       "Wegner_16_seg_00000016.wav  3897.876500   3.204167   -2.072579  0.366568   \n",
       "Wegner_16_seg_00000017.wav  3885.509926  -4.028877    0.374883 -0.142266   \n",
       "Wegner_16_seg_00000018.wav  3837.463179  -0.287936    0.804258 -0.125121   \n",
       "Wegner_16_seg_00000019.wav  3737.883196   1.881120   -1.100492 -0.049023   \n",
       "Wegner_16_seg_00000020.wav  3959.751875   1.561731   -0.481277  0.375496   \n",
       "Wegner_16_seg_00000021.wav  3899.983961  -3.502864   -1.432830  0.024444   \n",
       "Wegner_16_seg_00000022.wav  3780.472608  -1.637718    0.444656 -0.457731   \n",
       "Wegner_16_seg_00000023.wav  3808.627345  -3.972572    1.021120  0.042747   \n",
       "Wegner_16_seg_00000024.wav  3627.431142   6.207541   -2.198811 -0.742351   \n",
       "Wegner_16_seg_00000025.wav  3994.836919   1.545267    0.865005  0.649940   \n",
       "Wegner_16_seg_00000026.wav  3691.579974   3.010876    1.604143 -0.622596   \n",
       "Wegner_16_seg_00000027.wav  3931.106828  -1.449601    0.476342  0.517634   \n",
       "Wegner_16_seg_00000028.wav  3859.112609   0.434911    0.416732  0.784363   \n",
       "Wegner_16_seg_00000029.wav  3870.326239  -0.887575   -1.059332  0.489655   \n",
       "Wegner_16_seg_00000030.wav  3952.225167  -0.721893   -0.506629  0.459717   \n",
       "Wegner_16_seg_00000031.wav  3690.004894   0.910878    1.536504 -0.443759   \n",
       "Wegner_16_seg_00000032.wav  3382.624185   2.292509    0.410855 -2.332301   \n",
       "Wegner_16_seg_00000033.wav  3827.148019   1.957213   -1.131689  0.008489   \n",
       "Wegner_16_seg_00000034.wav  4074.485672  -3.997902   -0.038347  1.162679   \n",
       "Wegner_16_seg_00000035.wav  3755.625968   1.749532    0.336772 -0.118182   \n",
       "Wegner_16_seg_00000036.wav  3758.536077  -2.127231    1.400827  0.181707   \n",
       "Wegner_16_seg_00000037.wav  3808.431252   0.045436    0.242925 -0.348461   \n",
       "Wegner_16_seg_00000038.wav  3843.302801  -1.304791    1.221266  0.023039   \n",
       "Wegner_16_seg_00000039.wav  3893.942552  -2.114545    0.363446  0.529719   \n",
       "Wegner_16_seg_00000040.wav  3834.966632   0.132462    1.516220 -0.390730   \n",
       "\n",
       "                                  fdisp   avgFormant          mff  fitch_vtl  \\\n",
       "file                                                                           \n",
       "Wegner_16_seg_00000000.wav  1167.358276  2257.639008  1680.393531  16.926086   \n",
       "Wegner_16_seg_00000001.wav  1182.616655  2225.640217  1643.594762  17.259231   \n",
       "Wegner_16_seg_00000002.wav  1143.645262  2045.330401  1403.765964  20.701289   \n",
       "Wegner_16_seg_00000003.wav  1196.055113  2300.525955  1738.483703  16.279954   \n",
       "Wegner_16_seg_00000004.wav  1171.171397  2359.210638  1849.033161  15.198420   \n",
       "Wegner_16_seg_00000005.wav  1121.794825  2234.028025  1734.671742  16.207268   \n",
       "Wegner_16_seg_00000006.wav  1086.023980  2291.348397  1853.442087  15.126856   \n",
       "Wegner_16_seg_00000007.wav  1156.625481  2267.283531  1682.500949  17.040736   \n",
       "Wegner_16_seg_00000008.wav  1156.078129  2204.476329  1618.033841  17.681047   \n",
       "Wegner_16_seg_00000009.wav  1150.150658  2254.518569  1683.694735  16.906398   \n",
       "Wegner_16_seg_00000010.wav  1162.851447  2243.159528  1678.319993  16.915420   \n",
       "Wegner_16_seg_00000011.wav  1119.630885  2253.821756  1780.652708  15.740267   \n",
       "Wegner_16_seg_00000012.wav  1206.243499  2278.121026  1662.900489  17.265754   \n",
       "Wegner_16_seg_00000013.wav   962.163526  1863.119313  1358.094280  21.232756   \n",
       "Wegner_16_seg_00000014.wav  1123.364722  2299.121995  1863.869149  15.054881   \n",
       "Wegner_16_seg_00000015.wav  1145.190406  2233.487500  1710.832799  16.447674   \n",
       "Wegner_16_seg_00000016.wav  1143.347597  2256.036461  1727.909235  16.286878   \n",
       "Wegner_16_seg_00000017.wav  1155.794645  2187.274137  1616.180173  17.538189   \n",
       "Wegner_16_seg_00000018.wav  1142.515975  2206.179098  1655.293923  17.093298   \n",
       "Wegner_16_seg_00000019.wav  1130.834152  2237.660213  1645.136849  17.551646   \n",
       "Wegner_16_seg_00000020.wav  1179.883827  2279.044453  1716.663525  16.490730   \n",
       "Wegner_16_seg_00000021.wav  1170.517283  2240.873152  1668.656099  17.047877   \n",
       "Wegner_16_seg_00000022.wav  1136.858362  2173.616984  1606.834010  17.728003   \n",
       "Wegner_16_seg_00000023.wav  1141.570617  2238.584871  1670.517717  17.060572   \n",
       "Wegner_16_seg_00000024.wav  1093.336284  2133.691241  1569.138255  18.245611   \n",
       "Wegner_16_seg_00000025.wav  1174.390075  2311.691976  1784.165401  15.777827   \n",
       "Wegner_16_seg_00000026.wav  1094.399152  2135.697211  1609.291751  17.557026   \n",
       "Wegner_16_seg_00000027.wav  1158.143637  2292.802818  1762.286312  15.995562   \n",
       "Wegner_16_seg_00000028.wav  1084.994646  2296.596172  1865.136333  15.026766   \n",
       "Wegner_16_seg_00000029.wav  1112.885542  2277.801228  1810.934026  15.482880   \n",
       "Wegner_16_seg_00000030.wav  1164.770344  2286.102525  1755.434204  16.048717   \n",
       "Wegner_16_seg_00000031.wav  1091.421767  2158.922910  1636.838999  17.254450   \n",
       "Wegner_16_seg_00000032.wav  1030.586465  1930.333834  1377.934860  20.928917   \n",
       "Wegner_16_seg_00000033.wav  1139.109627  2227.028735  1678.080168  16.876413   \n",
       "Wegner_16_seg_00000034.wav  1194.264238  2374.389123  1840.499610  15.287449   \n",
       "Wegner_16_seg_00000035.wav  1095.550273  2200.076428  1709.495748  16.438575   \n",
       "Wegner_16_seg_00000036.wav  1100.532106  2240.803289  1735.157493  16.236741   \n",
       "Wegner_16_seg_00000037.wav  1126.939384  2187.701407  1670.765283  16.882576   \n",
       "Wegner_16_seg_00000038.wav  1149.507749  2237.757976  1677.731223  16.940369   \n",
       "Wegner_16_seg_00000039.wav  1135.611424  2280.467648  1770.789139  15.868742   \n",
       "Wegner_16_seg_00000040.wav  1130.207053  2173.977737  1661.871029  16.930900   \n",
       "\n",
       "                                delta_f  vtl_delta_f  \n",
       "file                                                  \n",
       "Wegner_16_seg_00000000.wav  1497.075688    11.689456  \n",
       "Wegner_16_seg_00000001.wav  1492.522023    11.725120  \n",
       "Wegner_16_seg_00000002.wav  1402.528203    12.477467  \n",
       "Wegner_16_seg_00000003.wav  1522.596980    11.493521  \n",
       "Wegner_16_seg_00000004.wav  1543.564854    11.337392  \n",
       "Wegner_16_seg_00000005.wav  1468.804638    11.914450  \n",
       "Wegner_16_seg_00000006.wav  1493.631239    11.716413  \n",
       "Wegner_16_seg_00000007.wav  1490.972310    11.737307  \n",
       "Wegner_16_seg_00000008.wav  1465.684953    11.939810  \n",
       "Wegner_16_seg_00000009.wav  1489.015708    11.752730  \n",
       "Wegner_16_seg_00000010.wav  1486.711870    11.770943  \n",
       "Wegner_16_seg_00000011.wav  1482.561882    11.803892  \n",
       "Wegner_16_seg_00000012.wav  1515.111971    11.550301  \n",
       "Wegner_16_seg_00000013.wav  1232.336802    14.200663  \n",
       "Wegner_16_seg_00000014.wav  1507.208781    11.610867  \n",
       "Wegner_16_seg_00000015.wav  1480.417605    11.820989  \n",
       "Wegner_16_seg_00000016.wav  1495.380021    11.702711  \n",
       "Wegner_16_seg_00000017.wav  1472.504031    11.884518  \n",
       "Wegner_16_seg_00000018.wav  1467.056476    11.928648  \n",
       "Wegner_16_seg_00000019.wav  1468.058732    11.920504  \n",
       "Wegner_16_seg_00000020.wav  1510.275713    11.587288  \n",
       "Wegner_16_seg_00000021.wav  1486.419491    11.773258  \n",
       "Wegner_16_seg_00000022.wav  1445.834583    12.103736  \n",
       "Wegner_16_seg_00000023.wav  1476.946414    11.848771  \n",
       "Wegner_16_seg_00000024.wav  1413.263581    12.382687  \n",
       "Wegner_16_seg_00000025.wav  1522.312967    11.495665  \n",
       "Wegner_16_seg_00000026.wav  1419.206161    12.330837  \n",
       "Wegner_16_seg_00000027.wav  1508.984005    11.597207  \n",
       "Wegner_16_seg_00000028.wav  1492.299829    11.726866  \n",
       "Wegner_16_seg_00000029.wav  1487.118873    11.767721  \n",
       "Wegner_16_seg_00000030.wav  1507.950380    11.605156  \n",
       "Wegner_16_seg_00000031.wav  1428.390289    12.251553  \n",
       "Wegner_16_seg_00000032.wav  1296.105384    13.501989  \n",
       "Wegner_16_seg_00000033.wav  1473.376972    11.877476  \n",
       "Wegner_16_seg_00000034.wav  1560.161124    11.216790  \n",
       "Wegner_16_seg_00000035.wav  1446.962345    12.094302  \n",
       "Wegner_16_seg_00000036.wav  1467.277494    11.926851  \n",
       "Wegner_16_seg_00000037.wav  1445.654654    12.105242  \n",
       "Wegner_16_seg_00000038.wav  1478.138763    11.839213  \n",
       "Wegner_16_seg_00000039.wav  1500.845831    11.660092  \n",
       "Wegner_16_seg_00000040.wav  1444.408462    12.115686  \n",
       "\n",
       "[41 rows x 32 columns]"
      ]
     },
     "execution_count": 41,
     "metadata": {},
     "output_type": "execute_result"
    }
   ],
   "source": [
    "df_all.iloc[:,3:]"
   ]
  },
  {
   "cell_type": "code",
   "execution_count": 45,
   "id": "11b892fe",
   "metadata": {},
   "outputs": [
    {
     "name": "stdout",
     "output_type": "stream",
     "text": [
      "duration\n",
      "meanF0Hz\n",
      "stdevF0Hz\n",
      "HNR\n",
      "localJitter\n",
      "localabsoluteJitter\n",
      "rapJitter\n",
      "ppq5Jitter\n",
      "ddpJitter\n",
      "localShimmer\n",
      "localdbShimmer\n",
      "apq3Shimmer\n",
      "apq5Shimmer\n",
      "apq11Shimmer\n",
      "ddaShimmer\n",
      "f1_mean\n",
      "f2_mean\n",
      "f3_mean\n",
      "f4_mean\n",
      "f1_median\n",
      "f2_median\n",
      "f3_median\n",
      "f4_median\n",
      "JitterPCA\n",
      "ShimmerPCA\n",
      "pF\n",
      "fdisp\n",
      "avgFormant\n",
      "mff\n",
      "fitch_vtl\n",
      "delta_f\n",
      "vtl_delta_f\n"
     ]
    }
   ],
   "source": [
    "for i, col in enumerate(df_all.iloc[:,3:].columns):\n",
    "    print(col)"
   ]
  },
  {
   "cell_type": "markdown",
   "id": "2fbff7b0",
   "metadata": {},
   "source": [
    "* plt.tight_layout zeigt die Boxplots schöner/ gestauchter an"
   ]
  },
  {
   "cell_type": "code",
   "execution_count": 48,
   "id": "3b53710d",
   "metadata": {},
   "outputs": [
    {
     "name": "stderr",
     "output_type": "stream",
     "text": [
      "c:\\users\\user\\s_sprechstile_eigene\\venv\\lib\\site-packages\\pandas\\plotting\\_matplotlib\\tools.py:196: RuntimeWarning: More than 20 figures have been opened. Figures created through the pyplot interface (`matplotlib.pyplot.figure`) are retained until explicitly closed and may consume too much memory. (To control this warning, see the rcParam `figure.max_open_warning`).\n",
      "  fig = plt.figure(**fig_kw)\n"
     ]
    },
    {
     "data": {
      "text/plain": [
       "<Figure size 432x288 with 0 Axes>"
      ]
     },
     "metadata": {},
     "output_type": "display_data"
    },
    {
     "data": {
      "image/png": "[encoded data removed]",
      "text/plain": [
       "<Figure size 432x288 with 1 Axes>"
      ]
     },
     "metadata": {
      "needs_background": "light"
     },
     "output_type": "display_data"
    },
    {
     "data": {
      "image/png": "[encoded data removed]",
      "text/plain": [
       "<Figure size 432x288 with 1 Axes>"
      ]
     },
     "metadata": {
      "needs_background": "light"
     },
     "output_type": "display_data"
    },
    {
     "data": {
      "image/png": "[encoded data removed]",
      "text/plain": [
       "<Figure size 432x288 with 1 Axes>"
      ]
     },
     "metadata": {
      "needs_background": "light"
     },
     "output_type": "display_data"
    },
    {
     "data": {
      "image/png": "[encoded data removed]",
      "text/plain": [
       "<Figure size 432x288 with 1 Axes>"
      ]
     },
     "metadata": {
      "needs_background": "light"
     },
     "output_type": "display_data"
    },
    {
     "data": {
      "image/png": "[encoded data removed]",
      "text/plain": [
       "<Figure size 432x288 with 1 Axes>"
      ]
     },
     "metadata": {
      "needs_background": "light"
     },
     "output_type": "display_data"
    },
    {
     "data": {
      "image/png": "[encoded data removed]",
      "text/plain": [
       "<Figure size 432x288 with 1 Axes>"
      ]
     },
     "metadata": {
      "needs_background": "light"
     },
     "output_type": "display_data"
    },
    {
     "data": {
      "image/png": "[encoded data removed]",
      "text/plain": [
       "<Figure size 432x288 with 1 Axes>"
      ]
     },
     "metadata": {
      "needs_background": "light"
     },
     "output_type": "display_data"
    },
    {
     "data": {
      "image/png": "[encoded data removed]",
      "text/plain": [
       "<Figure size 432x288 with 1 Axes>"
      ]
     },
     "metadata": {
      "needs_background": "light"
     },
     "output_type": "display_data"
    },
    {
     "data": {
      "image/png": "[encoded data removed]",
      "text/plain": [
       "<Figure size 432x288 with 1 Axes>"
      ]
     },
     "metadata": {
      "needs_background": "light"
     },
     "output_type": "display_data"
    },
    {
     "data": {
      "image/png": "[encoded data removed]",
      "text/plain": [
       "<Figure size 432x288 with 1 Axes>"
      ]
     },
     "metadata": {
      "needs_background": "light"
     },
     "output_type": "display_data"
    },
    {
     "data": {
      "image/png": "[encoded data removed]",
      "text/plain": [
       "<Figure size 432x288 with 1 Axes>"
      ]
     },
     "metadata": {
      "needs_background": "light"
     },
     "output_type": "display_data"
    },
    {
     "data": {
      "image/png": "[encoded data removed]",
      "text/plain": [
       "<Figure size 432x288 with 1 Axes>"
      ]
     },
     "metadata": {
      "needs_background": "light"
     },
     "output_type": "display_data"
    },
    {
     "data": {
      "image/png": "[encoded data removed]",
      "text/plain": [
       "<Figure size 432x288 with 1 Axes>"
      ]
     },
     "metadata": {
      "needs_background": "light"
     },
     "output_type": "display_data"
    },
    {
     "data": {
      "image/png": "[encoded data removed]",
      "text/plain": [
       "<Figure size 432x288 with 1 Axes>"
      ]
     },
     "metadata": {
      "needs_background": "light"
     },
     "output_type": "display_data"
    },
    {
     "data": {
      "image/png": "[encoded data removed]",
      "text/plain": [
       "<Figure size 432x288 with 1 Axes>"
      ]
     },
     "metadata": {
      "needs_background": "light"
     },
     "output_type": "display_data"
    },
    {
     "data": {
      "image/png": "[encoded data removed]",
      "text/plain": [
       "<Figure size 432x288 with 1 Axes>"
      ]
     },
     "metadata": {
      "needs_background": "light"
     },
     "output_type": "display_data"
    },
    {
     "data": {
      "image/png": "[encoded data removed]",
      "text/plain": [
       "<Figure size 432x288 with 1 Axes>"
      ]
     },
     "metadata": {
      "needs_background": "light"
     },
     "output_type": "display_data"
    },
    {
     "data": {
      "image/png": "[encoded data removed]",
      "text/plain": [
       "<Figure size 432x288 with 1 Axes>"
      ]
     },
     "metadata": {
      "needs_background": "light"
     },
     "output_type": "display_data"
    },
    {
     "data": {
      "image/png": "[encoded data removed]",
      "text/plain": [
       "<Figure size 432x288 with 1 Axes>"
      ]
     },
     "metadata": {
      "needs_background": "light"
     },
     "output_type": "display_data"
    },
    {
     "data": {
      "image/png": "[encoded data removed]",
      "text/plain": [
       "<Figure size 432x288 with 1 Axes>"
      ]
     },
     "metadata": {
      "needs_background": "light"
     },
     "output_type": "display_data"
    },
    {
     "data": {
      "image/png": "[encoded data removed]",
      "text/plain": [
       "<Figure size 432x288 with 1 Axes>"
      ]
     },
     "metadata": {
      "needs_background": "light"
     },
     "output_type": "display_data"
    },
    {
     "data": {
      "image/png": "[encoded data removed]",
      "text/plain": [
       "<Figure size 432x288 with 1 Axes>"
      ]
     },
     "metadata": {
      "needs_background": "light"
     },
     "output_type": "display_data"
    },
    {
     "data": {
      "image/png": "[encoded data removed]",
      "text/plain": [
       "<Figure size 432x288 with 1 Axes>"
      ]
     },
     "metadata": {
      "needs_background": "light"
     },
     "output_type": "display_data"
    },
    {
     "data": {
      "image/png": "[encoded data removed]",
      "text/plain": [
       "<Figure size 432x288 with 1 Axes>"
      ]
     },
     "metadata": {
      "needs_background": "light"
     },
     "output_type": "display_data"
    },
    {
     "data": {
      "image/png": "[encoded data removed]",
      "text/plain": [
       "<Figure size 432x288 with 1 Axes>"
      ]
     },
     "metadata": {
      "needs_background": "light"
     },
     "output_type": "display_data"
    },
    {
     "data": {
      "image/png": "[encoded data removed]",
      "text/plain": [
       "<Figure size 432x288 with 1 Axes>"
      ]
     },
     "metadata": {
      "needs_background": "light"
     },
     "output_type": "display_data"
    },
    {
     "data": {
      "image/png": "[encoded data removed]",
      "text/plain": [
       "<Figure size 432x288 with 1 Axes>"
      ]
     },
     "metadata": {
      "needs_background": "light"
     },
     "output_type": "display_data"
    },
    {
     "data": {
      "image/png": "[encoded data removed]",
      "text/plain": [
       "<Figure size 432x288 with 1 Axes>"
      ]
     },
     "metadata": {
      "needs_background": "light"
     },
     "output_type": "display_data"
    },
    {
     "data": {
      "image/png": "[encoded data removed]",
      "text/plain": [
       "<Figure size 432x288 with 1 Axes>"
      ]
     },
     "metadata": {
      "needs_background": "light"
     },
     "output_type": "display_data"
    },
    {
     "data": {
      "image/png": "[encoded data removed]",
      "text/plain": [
       "<Figure size 432x288 with 1 Axes>"
      ]
     },
     "metadata": {
      "needs_background": "light"
     },
     "output_type": "display_data"
    },
    {
     "data": {
      "image/png": "[encoded data removed]",
      "text/plain": [
       "<Figure size 432x288 with 1 Axes>"
      ]
     },
     "metadata": {
      "needs_background": "light"
     },
     "output_type": "display_data"
    },
    {
     "data": {
      "image/png": "[encoded data removed]",
      "text/plain": [
       "<Figure size 432x288 with 1 Axes>"
      ]
     },
     "metadata": {
      "needs_background": "light"
     },
     "output_type": "display_data"
    }
   ],
   "source": [
    "    for i, col in enumerate(df_all.iloc[:,3:].columns):\n",
    "        plt.tight_layout() \n",
    "        df_all.boxplot(by = 'valence', column = col, grid = False)"
   ]
  },
  {
   "cell_type": "code",
   "execution_count": 49,
   "id": "94608826",
   "metadata": {},
   "outputs": [
    {
     "ename": "SyntaxError",
     "evalue": "invalid syntax (<ipython-input-49-62e43ec2ece9>, line 2)",
     "output_type": "error",
     "traceback": [
      "\u001b[1;36m  File \u001b[1;32m\"<ipython-input-49-62e43ec2ece9>\"\u001b[1;36m, line \u001b[1;32m2\u001b[0m\n\u001b[1;33m    for i, col in enumerate(df_all.iloc[:,3:].columns)\u001b[0m\n\u001b[1;37m                                                      ^\u001b[0m\n\u001b[1;31mSyntaxError\u001b[0m\u001b[1;31m:\u001b[0m invalid syntax\n"
     ]
    }
   ],
   "source": [
    "pearsons = []\n",
    "for i, col in enumerate(df_all.iloc[:,3:].columns)\n",
    "    if np.isnan(df_all[col]).any():\n",
    "        print('{}includes {} nan, I\\'ll insert mean values'.formant(col, def_all[col].isna().sum()))\n",
    "        df_all[col] = df_all[col].fillna(df_all[col].mean())\n",
    "    r, p = pearsonr(df_all['valence'], df_all[col])\n",
    "    pearson.append({'val':col, 'pcc':round(r, 3), 'p-val':round(p, 3)})\n",
    "        # andere Analyse"
   ]
  },
  {
   "cell_type": "code",
   "execution_count": null,
   "id": "952116dd",
   "metadata": {},
   "outputs": [],
   "source": [
    "sorted(pearsons, key=lambda x: -x['pcc'])"
   ]
  },
  {
   "cell_type": "markdown",
   "id": "43ee9b99",
   "metadata": {},
   "source": [
    "## Gemeinsame Analyse\n",
    "##### Andere Pickeldatein laden"
   ]
  },
  {
   "cell_type": "markdown",
   "id": "a9f0de5c",
   "metadata": {},
   "source": [
    "wenn andere pkl datein laden\n",
    "dann machen: \n",
    "df_wannenmacher = pd.read_pickle('wannenmacher_df.pkl')\n",
    "df_wannenmacher.head()"
   ]
  }
 ],
 "metadata": {
  "kernelspec": {
   "display_name": "Python 3",
   "language": "python",
   "name": "python3"
  },
  "language_info": {
   "codemirror_mode": {
    "name": "ipython",
    "version": 3
   },
   "file_extension": ".py",
   "mimetype": "text/x-python",
   "name": "python",
   "nbconvert_exporter": "python",
   "pygments_lexer": "ipython3",
   "version": "3.9.5"
  }
 },
 "nbformat": 4,
 "nbformat_minor": 5
}
